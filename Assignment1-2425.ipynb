{
 "cells": [
  {
   "cell_type": "markdown",
   "metadata": {
    "id": "qE4WC2_4wygJ"
   },
   "source": [
    "# Assignment 1\n",
    "**Credits**: Federico Ruggeri, Eleonora Mancini, Paolo Torroni\n",
    "\n",
    "**Keywords**: Sexism Detection, Multi-class Classification, RNNs, Transformers, Huggingface\n",
    "\n"
   ]
  },
  {
   "cell_type": "markdown",
   "metadata": {
    "id": "fL69zGpmx01k"
   },
   "source": [
    "# Contact\n",
    "For any doubt, question, issue or help, you can always contact us at the following email addresses:\n",
    "\n",
    "Teaching Assistants:\n",
    "\n",
    "- Federico Ruggeri -> federico.ruggeri6@unibo.it\n",
    "- Eleonora Mancini -> e.mancini@unibo.it\n",
    "\n",
    "Professor:\n",
    "- Paolo Torroni -> p.torroni@unibo.it"
   ]
  },
  {
   "cell_type": "markdown",
   "metadata": {
    "id": "55jnW-xKxi-2"
   },
   "source": [
    "# Introduction\n",
    "You are asked to address the [EXIST 2023 Task 1](https://clef2023.clef-initiative.eu/index.php?page=Pages/labs.html#EXIST) on sexism detection."
   ]
  },
  {
   "cell_type": "markdown",
   "metadata": {
    "id": "9HWp5bGwySsb"
   },
   "source": [
    "## Problem Definition\n",
    "The systems have to decide whether or not a given tweet contains or describes sexist expressions or behaviors (i.e., it is sexist itself, describes a sexist situation or criticizes a sexist behavior).\n",
    "\n",
    "### Examples:\n",
    "\n",
    "**Text**: *Can’t go a day without women womening*\n",
    "\n",
    "**Label**: Sexist\n",
    "\n",
    "**Text**: *''Society's set norms! Happy men's day though!#weareequal''*\n",
    "\n",
    "**Label**: Not sexist"
   ]
  },
  {
   "cell_type": "code",
   "execution_count": 13,
   "metadata": {},
   "outputs": [],
   "source": [
    "import json\n",
    "import pandas as pd\n",
    "import re\n",
    "import emoji\n",
    "import spacy\n",
    "import numpy as np\n",
    "from tensorflow.keras.models import Sequential\n",
    "from tensorflow.keras.layers import Embedding, Bidirectional, LSTM, Dense\n",
    "from tensorflow.keras.preprocessing.sequence import pad_sequences\n",
    "\n",
    "\n",
    "nlp = spacy.load('en_core_web_sm')"
   ]
  },
  {
   "cell_type": "markdown",
   "metadata": {
    "id": "2iu1X4I98M8B"
   },
   "source": [
    "# [Task 1 - 1.0 points] Corpus\n",
    "\n",
    "We have preparared a small version of EXIST dataset in our dedicated [Github repository](https://github.com/lt-nlp-lab-unibo/nlp-course-material/tree/main/2024-2025/Assignment%201/data).\n",
    "\n",
    "Check the `A1/data` folder. It contains 3 `.json` files representing `training`, `validation` and `test` sets.\n",
    "\n",
    "The three sets are slightly unbalanced, with a bias toward the `Non-sexist` class.\n",
    "\n"
   ]
  },
  {
   "cell_type": "markdown",
   "metadata": {
    "id": "AASoMV9XN5l6"
   },
   "source": [
    "### Dataset Description\n",
    "- The dataset contains tweets in both English and Spanish.\n",
    "- There are labels for multiple tasks, but we are focusing on **Task 1**.\n",
    "- For Task 1, soft labels are assigned by six annotators.\n",
    "- The labels for Task 1 represent whether the tweet is sexist (\"YES\") or not (\"NO\").\n",
    "\n",
    "\n",
    "\n",
    "\n"
   ]
  },
  {
   "cell_type": "markdown",
   "metadata": {},
   "source": [
    "!!!they are imbalanced\n",
    "\n",
    "!!!free to use any method to reduce the imbalancement"
   ]
  },
  {
   "cell_type": "markdown",
   "metadata": {
    "id": "OFjwB_lCOQKj"
   },
   "source": [
    "\n",
    "### Example\n",
    "\n",
    "\n",
    "    \"203260\": {\n",
    "        \"id_EXIST\": \"203260\",\n",
    "        \"lang\": \"en\",\n",
    "        \"tweet\": \"ik when mandy says “you look like a whore” i look cute as FUCK\",\n",
    "        \"number_annotators\": 6,\n",
    "        \"annotators\": [\"Annotator_473\", \"Annotator_474\", \"Annotator_475\", \"Annotator_476\", \"Annotator_477\", \"Annotator_27\"],\n",
    "        \"gender_annotators\": [\"F\", \"F\", \"M\", \"M\", \"M\", \"F\"],\n",
    "        \"age_annotators\": [\"18-22\", \"23-45\", \"18-22\", \"23-45\", \"46+\", \"46+\"],\n",
    "        \"labels_task1\": [\"YES\", \"YES\", \"YES\", \"NO\", \"YES\", \"YES\"],\n",
    "        \"labels_task2\": [\"DIRECT\", \"DIRECT\", \"REPORTED\", \"-\", \"JUDGEMENTAL\", \"REPORTED\"],\n",
    "        \"labels_task3\": [\n",
    "          [\"STEREOTYPING-DOMINANCE\"],\n",
    "          [\"OBJECTIFICATION\"],\n",
    "          [\"SEXUAL-VIOLENCE\"],\n",
    "          [\"-\"],\n",
    "          [\"STEREOTYPING-DOMINANCE\", \"OBJECTIFICATION\"],\n",
    "          [\"OBJECTIFICATION\"]\n",
    "        ],\n",
    "        \"split\": \"TRAIN_EN\"\n",
    "      }\n",
    "    }"
   ]
  },
  {
   "cell_type": "markdown",
   "metadata": {
    "id": "BJ45bvuOOJ7I"
   },
   "source": [
    "### Instructions\n",
    "1. **Download** the `A1/data` folder.\n",
    "2. **Load** the three JSON files and encode them as pandas dataframes.\n",
    "3. **Generate hard labels** for Task 1 using majority voting and store them in a new dataframe column called `hard_label_task1`. Items without a clear majority will be removed from the dataset.\n",
    "4. **Filter the DataFrame** to keep only rows where the `lang` column is `'en'`.\n",
    "5. **Remove unwanted columns**: Keep only `id_EXIST`, `lang`, `tweet`, and `hard_label_task1`.\n",
    "6. **Encode the `hard_label_task1` column**: Use 1 to represent \"YES\" and 0 to represent \"NO\"."
   ]
  },
  {
   "cell_type": "code",
   "execution_count": 2,
   "metadata": {},
   "outputs": [
    {
     "name": "stdout",
     "output_type": "stream",
     "text": [
      "hard_label_task1\n",
      "0    1733\n",
      "1    1137\n",
      "Name: count, dtype: int64\n"
     ]
    },
    {
     "data": {
      "text/html": [
       "<div>\n",
       "<style scoped>\n",
       "    .dataframe tbody tr th:only-of-type {\n",
       "        vertical-align: middle;\n",
       "    }\n",
       "\n",
       "    .dataframe tbody tr th {\n",
       "        vertical-align: top;\n",
       "    }\n",
       "\n",
       "    .dataframe thead th {\n",
       "        text-align: right;\n",
       "    }\n",
       "</style>\n",
       "<table border=\"1\" class=\"dataframe\">\n",
       "  <thead>\n",
       "    <tr style=\"text-align: right;\">\n",
       "      <th></th>\n",
       "      <th>id_EXIST</th>\n",
       "      <th>lang</th>\n",
       "      <th>tweet</th>\n",
       "      <th>hard_label_task1</th>\n",
       "    </tr>\n",
       "  </thead>\n",
       "  <tbody>\n",
       "    <tr>\n",
       "      <th>200002</th>\n",
       "      <td>200002</td>\n",
       "      <td>en</td>\n",
       "      <td>Writing a uni essay in my local pub with a cof...</td>\n",
       "      <td>1</td>\n",
       "    </tr>\n",
       "    <tr>\n",
       "      <th>200003</th>\n",
       "      <td>200003</td>\n",
       "      <td>en</td>\n",
       "      <td>@UniversalORL it is 2021 not 1921. I dont appr...</td>\n",
       "      <td>1</td>\n",
       "    </tr>\n",
       "    <tr>\n",
       "      <th>200006</th>\n",
       "      <td>200006</td>\n",
       "      <td>en</td>\n",
       "      <td>According to a customer I have plenty of time ...</td>\n",
       "      <td>1</td>\n",
       "    </tr>\n",
       "    <tr>\n",
       "      <th>200007</th>\n",
       "      <td>200007</td>\n",
       "      <td>en</td>\n",
       "      <td>So only 'blokes' drink beer? Sorry, but if you...</td>\n",
       "      <td>1</td>\n",
       "    </tr>\n",
       "    <tr>\n",
       "      <th>200008</th>\n",
       "      <td>200008</td>\n",
       "      <td>en</td>\n",
       "      <td>New to the shelves this week - looking forward...</td>\n",
       "      <td>0</td>\n",
       "    </tr>\n",
       "  </tbody>\n",
       "</table>\n",
       "</div>"
      ],
      "text/plain": [
       "       id_EXIST lang                                              tweet  \\\n",
       "200002   200002   en  Writing a uni essay in my local pub with a cof...   \n",
       "200003   200003   en  @UniversalORL it is 2021 not 1921. I dont appr...   \n",
       "200006   200006   en  According to a customer I have plenty of time ...   \n",
       "200007   200007   en  So only 'blokes' drink beer? Sorry, but if you...   \n",
       "200008   200008   en  New to the shelves this week - looking forward...   \n",
       "\n",
       "       hard_label_task1  \n",
       "200002                1  \n",
       "200003                1  \n",
       "200006                1  \n",
       "200007                1  \n",
       "200008                0  "
      ]
     },
     "execution_count": 2,
     "metadata": {},
     "output_type": "execute_result"
    }
   ],
   "source": [
    "# Paths to your JSON files\n",
    "train_path = 'data/training.json'\n",
    "val_path = 'data/validation.json'\n",
    "test_path = 'data/test.json'\n",
    "\n",
    "columns_to_keep = ['id_EXIST', 'lang', 'tweet', 'hard_label_task1']\n",
    "\n",
    "# Count 'YES' and 'NO' in each row of dataFrame\n",
    "def majority_vote(labels_list):\n",
    "    yes_votes = labels_list.count('YES')\n",
    "    no_votes = labels_list.count('NO')\n",
    "    \n",
    "    if yes_votes > no_votes:\n",
    "        return '1'\n",
    "    elif no_votes > yes_votes:\n",
    "        return '0'\n",
    "    else:\n",
    "        return None\n",
    "\n",
    "# Load function\n",
    "def load_json_to_dataframe(json_path):\n",
    "    with open(json_path, 'r', encoding='utf-8') as f:\n",
    "        data = json.load(f)\n",
    "        \n",
    "    df = pd.DataFrame.from_dict(data, orient='index')\n",
    "\n",
    "    df['hard_label_task1'] = df['labels_task1'].apply(majority_vote)\n",
    "\n",
    "    # Remove rows where hard_label_task1 is None\n",
    "    df = df.dropna(subset=['hard_label_task1'])\n",
    "    df = df[df['lang'] == 'en']\n",
    "    df = df[columns_to_keep]  \n",
    "\n",
    "    return df\n",
    "\n",
    "# Load all datasets\n",
    "df_train = load_json_to_dataframe(train_path)\n",
    "df_val = load_json_to_dataframe(val_path)\n",
    "df_test = load_json_to_dataframe(test_path)\n",
    "\n",
    "# Show the first few rows of training set\n",
    "print(df_train['hard_label_task1'].value_counts())\n",
    "df_train.head()\n"
   ]
  },
  {
   "cell_type": "markdown",
   "metadata": {
    "collapsed": false
   },
   "source": [
    "# [Task2 - 0.5 points] Data Cleaning\n",
    "In the context of tweets, we have noisy and informal data that often includes unnecessary elements like emojis, hashtags, mentions, and URLs. These elements may interfere with the text analysis.\n"
   ]
  },
  {
   "cell_type": "markdown",
   "metadata": {
    "collapsed": false
   },
   "source": [
    "\n",
    "### Instructions\n",
    "- **Remove emojis** from the tweets.\n",
    "- **Remove hashtags** (e.g., `#example`).\n",
    "- **Remove mentions** such as `@user`.\n",
    "- **Remove URLs** from the tweets.\n",
    "- **Remove special characters and symbols**.\n",
    "- **Remove specific quote characters** (e.g., curly quotes).\n",
    "- **Perform lemmatization** to reduce words to their base form."
   ]
  },
  {
   "cell_type": "code",
   "execution_count": 3,
   "metadata": {},
   "outputs": [
    {
     "data": {
      "text/html": [
       "<div>\n",
       "<style scoped>\n",
       "    .dataframe tbody tr th:only-of-type {\n",
       "        vertical-align: middle;\n",
       "    }\n",
       "\n",
       "    .dataframe tbody tr th {\n",
       "        vertical-align: top;\n",
       "    }\n",
       "\n",
       "    .dataframe thead th {\n",
       "        text-align: right;\n",
       "    }\n",
       "</style>\n",
       "<table border=\"1\" class=\"dataframe\">\n",
       "  <thead>\n",
       "    <tr style=\"text-align: right;\">\n",
       "      <th></th>\n",
       "      <th>id_EXIST</th>\n",
       "      <th>lang</th>\n",
       "      <th>tweet</th>\n",
       "      <th>hard_label_task1</th>\n",
       "    </tr>\n",
       "  </thead>\n",
       "  <tbody>\n",
       "    <tr>\n",
       "      <th>200002</th>\n",
       "      <td>200002</td>\n",
       "      <td>en</td>\n",
       "      <td>write a uni essay in my local pub with a coffe...</td>\n",
       "      <td>1</td>\n",
       "    </tr>\n",
       "    <tr>\n",
       "      <th>200003</th>\n",
       "      <td>200003</td>\n",
       "      <td>en</td>\n",
       "      <td>it be not I do not appreciate that on two ride...</td>\n",
       "      <td>1</td>\n",
       "    </tr>\n",
       "    <tr>\n",
       "      <th>200006</th>\n",
       "      <td>200006</td>\n",
       "      <td>en</td>\n",
       "      <td>accord to a customer I have plenty of time to ...</td>\n",
       "      <td>1</td>\n",
       "    </tr>\n",
       "    <tr>\n",
       "      <th>200007</th>\n",
       "      <td>200007</td>\n",
       "      <td>en</td>\n",
       "      <td>so only bloke drink beer sorry but if you be n...</td>\n",
       "      <td>1</td>\n",
       "    </tr>\n",
       "    <tr>\n",
       "      <th>200008</th>\n",
       "      <td>200008</td>\n",
       "      <td>en</td>\n",
       "      <td>new to the shelf this week look forward to rea...</td>\n",
       "      <td>0</td>\n",
       "    </tr>\n",
       "  </tbody>\n",
       "</table>\n",
       "</div>"
      ],
      "text/plain": [
       "       id_EXIST lang                                              tweet  \\\n",
       "200002   200002   en  write a uni essay in my local pub with a coffe...   \n",
       "200003   200003   en  it be not I do not appreciate that on two ride...   \n",
       "200006   200006   en  accord to a customer I have plenty of time to ...   \n",
       "200007   200007   en  so only bloke drink beer sorry but if you be n...   \n",
       "200008   200008   en  new to the shelf this week look forward to rea...   \n",
       "\n",
       "       hard_label_task1  \n",
       "200002                1  \n",
       "200003                1  \n",
       "200006                1  \n",
       "200007                1  \n",
       "200008                0  "
      ]
     },
     "execution_count": 3,
     "metadata": {},
     "output_type": "execute_result"
    }
   ],
   "source": [
    "# Cleaning function : Lowercase, Remove mentions, Remove URLs, Remove hashtags, Remove emojis...\n",
    "def clean_text(text):\n",
    "    text = text.lower()\n",
    "    text = re.sub(r'@\\w+', '', text) \n",
    "    text = re.sub(r'http\\S+', '', text) \n",
    "    text = re.sub(r'#\\w+', '', text)  \n",
    "    text = emoji.replace_emoji(text, replace='')  \n",
    "    text = re.sub(r'[^a-z\\s]', '', text) \n",
    "    text = re.sub(r'“|”|‘|’', '', text) \n",
    "    text = ' '.join(text.split()) \n",
    "    return text\n",
    "\n",
    "# Lemmatization function\n",
    "def lemmatize_text(text):\n",
    "    doc=nlp(text)\n",
    "    return ' '.join([token.lemma_ for token in doc])\n",
    "\n",
    "# Apply the cleaning and lemmatization\n",
    "def preprocessing_df(df):\n",
    "    df_processed = df.copy()\n",
    "    \n",
    "    #Lower case all tweets\n",
    "    df_processed['tweet'] = df_processed['tweet'].apply(clean_text)\n",
    "    df_processed['tweet'] = df_processed['tweet'].apply(lemmatize_text)\n",
    "    return df_processed\n",
    "\n",
    "df_train_processed = preprocessing_df(df_train)\n",
    "df_val_processed = preprocessing_df(df_val)\n",
    "df_test_processed = preprocessing_df(df_test)\n",
    "\n",
    "df_train_processed.head()"
   ]
  },
  {
   "cell_type": "markdown",
   "metadata": {
    "id": "s3KylLHNl0bE"
   },
   "source": [
    "# [Task 3 - 0.5 points] Text Encoding\n",
    "To train a neural sexism classifier, you first need to encode text into numerical format.\n",
    "\n",
    "\n"
   ]
  },
  {
   "cell_type": "markdown",
   "metadata": {
    "id": "hr1lTHUVOXff"
   },
   "source": [
    "### Instructions\n",
    "\n",
    "* Embed words using **GloVe embeddings**.\n",
    "* You are **free** to pick any embedding dimension.\n",
    "\n",
    "\n",
    "\n"
   ]
  },
  {
   "cell_type": "markdown",
   "metadata": {
    "id": "r6NNMEjWOZQr"
   },
   "source": [
    "### Note : What about OOV tokens?\n",
    "   * All the tokens in the **training** set that are not in GloVe **must** be added to the vocabulary.\n",
    "   * For the remaining tokens (i.e., OOV in the validation and test sets), you have to assign them a **special token** (e.g., [UNK]) and a **static** embedding.\n",
    "   * You are **free** to define the static embedding using any strategy (e.g., random, neighbourhood, etc...)\n",
    "\n"
   ]
  },
  {
   "cell_type": "markdown",
   "metadata": {
    "id": "90UztlGUObXk"
   },
   "source": [
    "### More about OOV\n",
    "\n",
    "For a given token:\n",
    "\n",
    "* **If in train set**: add to vocabulary and assign an embedding (use GloVe if token in GloVe, custom embedding otherwise).\n",
    "* **If in val/test set**: assign special token if not in vocabulary and assign custom embedding.\n",
    "\n",
    "Your vocabulary **should**:\n",
    "\n",
    "* Contain all tokens in train set; or\n",
    "* Union of tokens in train set and in GloVe $\\rightarrow$ we make use of existing knowledge!"
   ]
  },
  {
   "cell_type": "code",
   "execution_count": 4,
   "metadata": {},
   "outputs": [
    {
     "name": "stdout",
     "output_type": "stream",
     "text": [
      "Loaded 400000 word vectors from GloVe.\n"
     ]
    }
   ],
   "source": [
    "# Load GloVe\n",
    "def load_glove_embeddings(filepath):\n",
    "    embeddings_index = {}\n",
    "    with open(filepath, 'r', encoding='utf-8') as f:\n",
    "        for line in f:\n",
    "            values = line.split()\n",
    "            word = values[0]\n",
    "            vector = np.asarray(values[1:], dtype='float32')\n",
    "            embeddings_index[word] = vector\n",
    "    return embeddings_index\n",
    "\n",
    "# Load embeddings\n",
    "glove_path = 'glove.6B.100d.txt'\n",
    "embeddings_index = load_glove_embeddings(glove_path)\n",
    "\n",
    "print(f\"Loaded {len(embeddings_index)} word vectors from GloVe.\")"
   ]
  },
  {
   "cell_type": "code",
   "execution_count": 5,
   "metadata": {},
   "outputs": [
    {
     "name": "stdout",
     "output_type": "stream",
     "text": [
      "9363 {'<PAD>': 0, '<UNK>': 1, 'write': 2, 'a': 3, 'uni': 4, 'essay': 5, 'in': 6, 'my': 7, 'local': 8, 'pub': 9, 'with': 10, 'coffee': 11, 'random': 12, 'old': 13, 'man': 14, 'keep': 15, 'ask': 16, 'I': 17, 'drunk': 18, 'question': 19, 'when': 20, 'm': 21, 'try': 22, 'to': 23, 'concentrate': 24, 'amp': 25, 'end': 26, 'good': 27, 'luck': 28, 'but': 29, 'you': 30, 'll': 31, 'just': 32, 'up': 33, 'get': 34, 'married': 35, 'and': 36, 'not': 37, 'use': 38, 'it': 39, 'anyway': 40, 'be': 41, 'alive': 42, 'well': 43, 'do': 44, 'appreciate': 45, 'that': 46, 'on': 47, 'two': 48, 'ride': 49, 'by': 50, 'myself': 51, 'your': 52, 'team': 53, 'member': 54, 'look': 55, 'behind': 56, 'the': 57, 'how': 58, 'many': 59, 'party': 60, 'impress': 61, 'accord': 62, 'customer': 63, 'have': 64, 'plenty': 65, 'of': 66, 'time': 67, 'go': 68, 'spend': 69, 'stirling': 70, 'coin': 71, 'he': 72, 'want': 73, 'pay': 74, 'derry': 75, 'like': 76, 'any': 77, 'other': 78, 'woman': 79, 'sure': 80, 'retail': 81, 'so': 82, 'only': 83, 'bloke': 84, 'drink': 85, 'beer': 86, 'sorry': 87, 'if': 88, 'wine': 89, 'apparently': 90, 'new': 91, 'shelf': 92, 'this': 93, 'week': 94, 'forward': 95, 'read': 96, 'these': 97, 'book': 98, 'guess': 99, 's': 100, 'fairly': 101, 'normal': 102, 'for': 103, 'neanderthal': 104, 'mean': 105, 'usually': 106, 'lower': 107, 'support': 108, 'work': 109, 'start': 110, 'change': 111, 'traditionalist': 112, 'notice': 113, 'unfairness': 114, 'previously': 115, 'bother': 116, 'they': 117, 'at': 118, 'all': 119, 'hi': 120, 'orla': 121, 'interesting': 122, 'piece': 123, 'no': 124, 'as': 125, 'policy': 126, 'response': 127, 'believe': 128, 'earlyinlife': 129, 'prosecution': 130, 'punishment': 131, 'way': 132, 'boy': 133, 'young': 134, 'offend': 135, 'against': 136, 'girl': 137, 'see': 138, 'zero': 139, 'tolerance': 140, 'approach': 141, 'institute': 142, 'dear': 143, 'godcolette': 144, 'capable': 145, 'identify': 146, 'sexism': 147, 'literally': 148, 'anywheregood': 149, 'develop': 150, 'their': 151, 'own': 152, 'female': 153, 'grandpa': 154, 'simpson': 155, 'will': 156, 'home': 157, 'cooking': 158, 'family': 159, 'would': 160, 'who': 161, 'assault': 162, 'or': 163, 'also': 164, 'give': 165, 'government': 166, 'ability': 167, 'track': 168, 'anyone': 169, 'reason': 170, 'february': 171, 'daily': 172, 'mail': 173, 'website': 174, 'voyeuristically': 175, 'describe': 176, 'people': 177, 'flaunt': 178, 'show': 179, 'off': 180, 'feminist': 181, 'rage': 182, 'white': 183, 'praise': 184, 'colour': 185, 'elite': 186, 'fucking': 187, 'athlete': 188, 'smile': 189, 'roger': 190, 'federer': 191, 'tell': 192, 'nice': 193, 'arse': 194, 'win': 195, 'why': 196, 'we': 197, 'create': 198, 'comic_strip': 199, 'about': 200, 'science': 201, 'its': 202, 'because': 203, 'lot': 204, 'spare': 205, 'doodle': 206, 'check': 207, 'out': 208, 'our': 209, 'blog': 210, 'post': 211, 'ever': 212, 'mad': 213, 'ex': 214, 'send': 215, 'gamergate': 216, 'misogynist': 217, 'meme': 218, 'she': 219, 'million': 220, 'fash': 221, 'follower': 222, 'word': 223, 'game': 224, 'journo': 225, 'industry': 226, 'basically': 227, 'know': 228, 'entire': 229, 'complicit': 230, 'can': 231, 'right': 232, 'got': 233, 'something': 234, 'misogynistic': 235, 'boogeyman': 236, 'really': 237, 'shit': 238, 'journalist': 239, 'from': 240, 'what': 241, 'remember': 242, 'tail': 243, 'clown': 244, 'developer': 245, 'unity': 246, 'past': 247, 'honestly': 248, 'awhile': 249, 'since': 250, 've': 251, 'close': 252, 'follow': 253, 'hard': 254, 'pick': 255, 'specific': 256, 'example': 257, 'low': 258, 'key': 259, 'fr': 260, 'incredible': 261, 'hulk': 262, 'tv': 263, 'first': 264, 'marvel': 265, 'dude': 266, 'need': 267, 'stop': 268, 'one': 269, 'most': 270, 'important': 271, 'course': 272, 'undervalue': 273, 'publish': 274, 'combat': 275, 'supremacy': 276, 'fascism': 277, 'especially': 278, 'weird': 279, 'altright': 280, 'youtube': 281, 'than': 282, 'breadtube': 283, 'which': 284, 'reaction': 285, 'rw': 286, 'content': 287, 're': 288, 'kind': 289, 'shoot': 290, 'themselves': 291, 'foot': 292, 'inject': 293, 'political': 294, 'drivel': 295, 'into': 296, 'entertainment': 297, 'push': 298, 'stress': 299, 'escapism': 300, 'impassion': 301, 'strip': 302, 'releasethu': 303, 'spawn': 304, 'movement': 305, 'comicsgate': 306, 'etc': 307, 'back': 308, 'c': 309, 'even': 310, 'tf': 311, 'part': 312, 'whole': 313, 'shitstorm': 314, 'person': 315, 'live': 316, 'through': 317, 'generation': 318, 'incel': 319, 'bitch': 320, 'aloy': 321, 'peachfuzz': 322, 'hairy': 323, 'russian': 324, 'futanari': 325, 'dick': 326, 'nipple': 327, 'hentai': 328, 'addict': 329, 'brother': 330, 'fight': 331, 'forgive': 332, 'beard': 333, 'huge': 334, 'cock': 335, 'anita': 336, 'an': 337, 'asset': 338, 'damn': 339, 'should': 340, 'consider': 341, 'her': 342, 'vs': 343, 'big': 344, 'spectacle': 345, 'wild': 346, 'pickme': 347, 'day': 348, 'leave': 349, 'left': 350, 'become': 351, 'reactionary': 352, 'uwu': 353, 'arc': 354, 'then': 355, 'profitable': 356, 'come': 357, 'oh': 358, 'tote': 359, 'u': 360, 'guyz': 361, 'never': 362, 'dummy': 363, 'bring': 364, 'his': 365, 'waiting': 366, 'table': 367, 'pretend': 368, 'stuff': 369, 'still': 370, 'grift': 371, 'money': 372, 'theythis': 373, 'call': 374, 'terminally': 375, 'online': 376, 'god': 377, 'wu': 378, 'bloody': 379, 'hell': 380, 'inside': 381, 'brain': 382, 'must': 383, 'slop': 384, 'now': 385, 'talk': 386, 'without': 387, 'twitter': 388, 'drama': 389, 'bullshit': 390, 'more': 391, 'love': 392, 'jan': 393, 'garbarek': 394, 'kid': 395, 'bot': 396, 'monitor': 397, 'situation': 398, 'involve': 399, 'amazing': 400, 'might': 401, 'hesitant': 402, 'immediately': 403, 'fall': 404, 'discuss': 405, 'issue': 406, 'manifest': 407, 'internet': 408, 'addiction': 409, 'least': 410, 'outwardly': 411, 'during': 412, 'die': 413, 'fix': 414, 'already': 415, 'view': 416, 'trans': 417, 'vessel': 418, 'angeryou': 419, 'help': 420, 'recently': 421, 'verbally': 422, 'harass': 423, 'say': 424, 'bitchesid': 425, 'clarify': 426, 'true': 427, 'very': 428, 'argue': 429, 'sexually': 430, 'bc': 431, 'happen': 432, 'bro': 433, 'completely': 434, 'different': 435, 'teacher': 436, 'break': 437, 'over': 438, 'simpkin': 439, 'bag': 440, 'pull': 441, 'handgun': 442, 'fire': 443, 'claim': 444, 'police': 445, 'state': 446, 'gang': 447, 'relate': 448, 'dice': 449, 'wheel': 450, 'trailer': 451, 'release': 452, 'amazon': 453, 'horrible': 454, 'soften': 455, 'blow': 456, 'downvote': 457, 'cw': 458, 'lol': 459, 'serious': 460, 'hardcore': 461, 'groupie': 462, 'ja': 463, 'invite': 464, 'ecuador': 465, 'embassy': 466, 'stalked': 467, 'bully': 468, 'public': 469, 'critical': 470, 'rogue': 471, 'after': 472, 'trump': 473, 'election': 474, 'leak': 475, 'trove': 476, 'chat': 477, 'log': 478, 'micah': 479, 'lee': 480, 'intercept': 481, 'safety': 482, 'frequently': 483, 'despite': 484, 'avoid': 485, 'restroom': 486, 'pretty': 487, 'bad': 488, 'place': 489, 'europe': 490, 'there': 491, 'muslim': 492, 'make': 493, 'hostile': 494, 'peacefully': 495, 'some': 496, 'govt': 497, 'dutch': 498, 'friend': 499, 'spat': 500, 'while': 501, 'walk': 502, 'dog': 503, 'neighborhood': 504, 'force': 505, 'move': 506, 'thread': 507, 'handful': 508, 'ppl': 509, 'care': 510, 'everyone': 511, 'else': 512, 'dosay': 513, 'whatever': 514, 'anymore': 515, 'too': 516, 'feel': 517, 'bcuz': 518, 'fandom': 519, 'let': 520, 'poor': 521, 'waiter': 522, 'six': 523, 'news': 524, 'cop': 525, 'protester': 526, 'understand': 527, 'hope': 528, 'block': 529, 'button': 530, 'tool': 531, 'comfortable': 532, 'social': 533, 'medium': 534, 'enjoy': 535, 'same': 536, 'chance': 537, 'prove': 538, 'belong': 539, 'top': 540, 'therefore': 541, 'career': 542, 'worth': 543, 'pursue': 544, 'scrim': 545, 'equal': 546, 'skill': 547, 'minority': 548, 'find': 549, 'waste': 550, 'continue': 551, 'attack': 552, 'taliban': 553, 'late': 554, 'victim': 555, 'qais': 556, 'fear': 557, 'seek': 558, 'exhusband': 559, 'abusive': 560, 'scared': 561, 'weapon': 562, 'file': 563, 'rfo': 564, 'w': 565, 'defamatory': 566, 'allegationsjudge': 567, 'fk': 568, 'again': 569, 'mgtow': 570, 'group': 571, 'propagate': 572, 'myth': 573, 'actually': 574, 'address': 575, 'gender': 576, 'sit': 577, 'bubble': 578, 'screech': 579, 'thing': 580, 'short': 581, 'think': 582, 'construction': 583, 'ignore': 584, 'rest': 585, 'statistic': 586, 'date': 587, 'app': 588, 'pain': 589, 'point': 590, 'hate': 591, 'main': 592, 'component': 593, 'difference': 594, 'between': 595, 'ka': 596, 'india': 597, 'wing': 598, 'bhi': 599, 'hai': 600, 'kya': 601, 'yes': 602, 'traction': 603, 'baaki': 604, 'promale': 605, 'andolan': 606, 'ki': 607, 'reach': 608, 'bahut': 609, 'kam': 610, 'imo': 611, 'mramgtowincel': 612, 'crowd': 613, 'double': 614, 'womanhating': 615, 'angriesbecause': 616, 'turn': 617, 'chomo': 618, 'run': 619, 'hide': 620, 'prison': 621, 'church': 622, 'qristianity': 623, 'abuse': 624, 'black': 625, 'femcel': 626, 'nigcel': 627, 'hotep': 628, 'dvestor': 629, 'femininity': 630, 'nut': 631, 'luxury': 632, 'fascinate': 633, 'lolthe': 634, 'twist': 635, 'legitimate': 636, 'idea': 637, 'abt': 638, 'race': 639, 'oppression': 640, 'fit': 641, 'catastrophizing': 642, 'worldview': 643, 'inform': 644, 'behavior': 645, 'lead': 646, 'ws': 647, 'iqs': 648, 'mom': 649, 'dad': 650, 'jp': 651, 'relationship': 652, 'stable': 653, 'always': 654, 'outbigg': 655, 'marriage': 656, 'previous': 657, 'marry': 658, 'early': 659, 'mra': 660, 'deal': 661, 'pervasiveness': 662, 'misandry': 663, 'society': 664, 'appealing': 665, 'everyday': 666, 'suicide': 667, 'international': 668, 'men': 669, 'mine': 670, 'generalise': 671, 'culture': 672, 'community': 673, 'may': 674, 'road': 675, 'line': 676, 'thinking': 677, 'could': 678, 'take': 679, 'alpha': 680, 'male': 681, 'sou': 682, 'base': 683, 'cria': 684, 'redpill': 685, 'blackpilado': 686, 'frio': 687, 'patrick': 688, 'bateman': 689, 'kanye': 690, 'west': 691, 'drive': 692, 'blade': 693, 'runner': 694, 'mas': 695, 'tudo': 696, 'isso': 697, 'ironicamente': 698, 'suffer': 699, 'sexual': 700, 'contact': 701, 'much': 702, 'consensual': 703, 'earlierwhy': 704, 'hold': 705, 'standardoh': 706, 'those': 707, 'arrest': 708, 'adolescent': 709, 'another': 710, 'article': 711, 'month': 712, 'controversial': 713, 'speech': 714, 'dangerous': 715, 'answer': 716, 'responsible': 717, 'action': 718, 'murder': 719, 'perfect': 720, 'logic': 721, 'violence': 722, 'due': 723, 'physical': 724, 'superiorityan': 725, 'probably': 726, 'thank': 727, 'promote': 728, 'story': 729, 'notallman': 730, 'share': 731, 'ours': 732, 'recognise': 733, 'yourself': 734, 'mace': 735, 'legislation': 736, 'tweet': 737, 'listen': 738, 'matter': 739, 'mate': 740, 'okay': 741, 'cos': 742, 'vilify': 743, 'few': 744, 'outlier': 745, 'either': 746, 'castrate': 747, 'rape': 748, 'simply': 749, 'educate': 750, 'instead': 751, 'before': 752, 'reply': 753, 'therapy': 754, 'joke': 755, 'miss': 756, 'mark': 757, 'patriarchal': 758, 'world': 759, 'job': 760, 'yet': 761, 'lewis': 762, 'accuse': 763, 'enough': 764, 'racism': 765, 'put': 766, 'pronoun': 767, 'bio': 768, 'chant': 769, 'twaw': 770, 'anti': 771, 'order': 772, 'entrenched': 773, 'misogyny': 774, 'inflict': 775, 'sex': 776, 'penis': 777, 'vaginanot': 778, 'folk': 779, 'ascribe': 780, 'binary': 781, 'notallmen': 782, 'single': 783, 'space': 784, 'service': 785, 'safeguard': 786, 'exclude': 787, 'except': 788, 'v': 789, 'small': 790, 'accompanied': 791, 'label': 792, 'apart': 793, 'laylamoran': 794, 'soulsmixed': 795, 'open': 796, 'obviously': 797, 'fisher': 798, 'exact': 799, 'test': 800, 'doubt': 801, 'embarrass': 802, 'fact': 803, 'carry': 804, 'guilt': 805, 'mischievous': 806, 'bastard': 807, 'until': 808, 'realize': 809, 'civilian': 810, 'power': 811, 'country': 812, 'thisthat': 813, 'cod': 814, 'war': 815, 'friday': 816, 'night': 817, 'twitch': 818, 'channel': 819, 'deep': 820, 'here': 821, 'confuse': 822, 'infrequent': 823, 'occurrence': 824, 'retweetsnintendo': 825, 'switchsportsnotallmenwow': 826, 'hit': 827, 'commentary': 828, 'upstop': 829, 'fronting': 830, 'honest': 831, 'figure': 832, 'truthful': 833, 'step': 834, 'trust': 835, 'behaviour': 836, 'checkif': 837, 'schmuck': 838, 'decentish': 839, 'human': 840, 'year': 841, 'instance': 842, 'sober': 843, 'andor': 844, 'legal': 845, 'frame': 846, 'mind': 847, 'tag': 848, 'currently': 849, 'trend': 850, 'nl': 851, 'heckin': 852, 'stranger': 853, 'onto': 854, 'touch': 855, 'consentjust': 856, 'watch': 857, 'video': 858, 'below': 859, 'suck': 860, 'dck': 861, 'treat': 862, 'every': 863, 'gun': 864, 'loaded': 865, 'strangle': 866, 'simple': 867, 'transwoman': 868, 'inherently': 869, 'violent': 870, 'risk': 871, 'tw': 872, 'sort': 873, 'absolutely': 874, 'wrong': 875, 'patriarchy': 876, 'reduce': 877, 'strength': 878, 'umbrella': 879, 'term': 880, 'superiority': 881, 'toxic': 882, 'fallacious': 883, 'physically': 884, 'strong': 885, 'academic': 886, 'excellent': 887, 'deform': 888, 'soul': 889, 'damage': 890, 'life': 891, 'fuck': 892, 'sexy': 893, 'toss': 894, 'car': 895, 'pee': 896, 'stain': 897, 'ground': 898, 'intersection': 899, 'control': 900, 'property': 901, 'explain': 902, 'non': 903, 'discrimination': 904, 'protect': 905, 'down': 906, 'healthcare': 907, 'ohare': 908, 'allow': 909, 'transphobic': 910, 'blackness': 911, 'shield': 912, 'criticism': 913, 'ignorant': 914, 'baby': 915, 'abort': 916, 'china': 917, 'isolate': 918, 'menstruation': 919, 'hut': 920, 'breast': 921, 'iron': 922, 'fgm': 923, 'poc': 924, 'supply': 925, 'ya': 926, 'heathensno': 927, 'happy': 928, 'easy': 929, 'ill': 930, 'appoint': 931, 'relatively': 932, 'conformist': 933, 'assistant': 934, 'oppressor': 935, 'personal': 936, 'secretory': 937, 'chief': 938, 'patriarch': 939, 'value': 940, 'system': 941, 'build': 942, 'dehumanization': 943, 'traditional': 944, 'indian': 945, 'transphobe': 946, 'weak': 947, 'cowardly': 948, 'real': 949, 'resort': 950, 'target': 951, 'vulnerable': 952, 'abuser': 953, 'powerful': 954, 'cool': 955, 'idk': 956, 'maybe': 957, 'ingrained': 958, 'bm': 959, 'i': 960, 'd': 961, 'nigga': 962, 'nah': 963, 'father': 964, 'bossah': 965, 'three': 966, 'socius': 967, 'summary': 968, 'universal': 969, 'history': 970, 'primitive': 971, 'code': 972, 'earth': 973, 'despotic': 974, 'overcode': 975, 'whose': 976, 'royal': 977, 'incest': 978, 'establish': 979, 'civilized': 980, 'capitalist': 981, 'machine': 982, 'hijab': 983, 'triple': 984, 'talak': 985, 'four': 986, 'mariage': 987, 'ritual': 988, 'education': 989, 'exploitation': 990, 'marital': 991, 'violencesthey': 992, 'protest': 993, 'whiskey': 994, 'cigar': 995, 'dollar': 996, 'seminar': 997, 'mustache': 998, 'wax': 999, 'secret': 1000, 'discourseinto': 1001, 'trash': 1002, 'crisis': 1003, 'manhood': 1004, 'handsome': 1005, 'glad': 1006, 'twitterng': 1007, 'next': 1008, 'couple': 1009, 'weeksboth': 1010, 'fcs': 1011, 'form': 1012, 'prepared': 1013, 'nosetonose': 1014, 'actionaid': 1015, 'conduct': 1016, 'survey': 1017, 'street': 1018, 'harassment': 1019, 'city': 1020, 'thailand': 1021, 'brazil': 1022, 'subject': 1023, 'london': 1024, 'uk': 1025, 'helpline': 1026, 'donate': 1027, 'fund': 1028, 'report': 1029, 'experience': 1030, 'lifetimeso': 1031, 'explore': 1032, 'photo': 1033, 'excerpt': 1034, 'conversation': 1035, 'learn': 1036, 'activist': 1037, 'advocacy': 1038, 'allyship': 1039, 'accountability': 1040, 'within': 1041, 'instagram': 1042, 'link': 1043, 'global': 1044, 'shock': 1045, 'high': 1046, 'number': 1047, 'percentage': 1048, 'thousand': 1049, 'chalk': 1050, 'youthled': 1051, 'art': 1052, 'natasha': 1053, 'harrisharb': 1054, 'sophie': 1055, 'sandberg': 1056, 'catcall': 1057, 'college': 1058, 'park': 1059, 'launch': 1060, 'spread': 1061, 'awareness': 1062, 'spur': 1063, 'dialogue': 1064, 'impact': 1065, 'restrict': 1066, 'women': 1067, 'engagement': 1068, 'civic': 1069, 'speak': 1070, 'april': 1071, 'join': 1072, 'pro': 1073, 'respect': 1074, 'message': 1075, 'flyere': 1076, 'compliment': 1077, 'stand': 1078, 'however': 1079, 'unique': 1080, 'together': 1081, 'cultural': 1082, 'sharing': 1083, 'dm': 1084, 'email': 1085, 'directly': 1086, 'itsnotacomplimentmelbournecom': 1087, 'study': 1088, 'self': 1089, 'reflection': 1090, 'maya': 1091, 'where': 1092, 'law': 1093, 'entirely': 1094, 'pedophiliajust': 1095, 'chalking': 1096, 'event': 1097, 'last': 1098, 'weekshow': 1099, 'hand': 1100, 'yoi': 1101, 'bet': 1102, 'tight': 1103, 'yoget': 1104, 'pedophile': 1105, 'upstander': 1106, 'today': 1107, 'functioning': 1108, 'theory': 1109, 'humanity': 1110, 'tigray': 1111, 'tigrean': 1112, 'under': 1113, 'intense': 1114, 'pressure': 1115, 'discriminate': 1116, 'deaf': 1117, 'voice': 1118, 'hear': 1119, 'fantastic': 1120, 'remind': 1121, 'school': 1122, 'sister': 1123, 'afghan': 1124, 'wise': 1125, 'sequelae': 1126, 'half': 1127, 'societyeducation': 1128, 'pistol': 1129, 'save': 1130, 'queen': 1131, 'via': 1132, 'djn': 1133, 'nonethelesscome': 1134, 'lock': 1135, 'slimzosrecording': 1136, 'livestream': 1137, 'thursday': 1138, 'evening': 1139, 'pm': 1140, 'societys': 1141, 'set': 1142, 'normshappy': 1143, 'though': 1144, 'abolish': 1145, 'monarchy': 1146, 'grow': 1147, 'demand': 1148, 'president': 1149, 'resign': 1150, 'wonder': 1151, 'child': 1152, 'km': 1153, 'gogo': 1154, 'makhulu': 1155, 'hire': 1156, 'bakkie': 1157, 'clinic': 1158, 'visit': 1159, 'motorist': 1160, 'town': 1161, 'fuel': 1162, 'etcnb': 1163, 'offended': 1164, 'merely': 1165, 'suggestion': 1166, 'correct': 1167, 'ol': 1168, 'albert': 1169, 'ghana': 1170, 'such': 1171, 'fun': 1172, 'fine': 1173, 'august': 1174, 'civil': 1175, 'march': 1176, 'tomorrow': 1177, 'bois': 1178, 'kill': 1179, 'nobody': 1180, 'anything': 1181, 'pleople': 1182, 'cruel': 1183, 'indifference': 1184, 'ahhhhhh': 1185, 'gave': 1186, 'tired': 1187, 'writing': 1188, 'grateful': 1189, 'announce': 1190, 'publication': 1191, 'second': 1192, 'lady': 1193, 'jump': 1194, 'seat': 1195, 'ready': 1196, 'upon': 1197, 'copy': 1198, 'xoxo': 1199, 'mood': 1200, 'diy': 1201, 'spa': 1202, 'pamper': 1203, 'skin': 1204, 'luxurious': 1205, 'affordable': 1206, 'skincare': 1207, 'productsinclude': 1208, 'product': 1209, 'regime': 1210, 'saturday': 1211, 'front': 1212, 'balise': 1213, 'toyota': 1214, 'scion': 1215, 'springfield': 1216, 'riverdale': 1217, 'rd': 1218, 'sunday': 1219, 'birnie': 1220, 'ave': 1221, 'prospect': 1222, 'anniversary': 1223, 'gain': 1224, 'vote': 1225, 'office': 1226, 'politic': 1227, 'turkey': 1228, 'proudly': 1229, 'declare': 1230, 'associate': 1231, 'workplace': 1232, 'act': 1233, 'strike': 1234, 'deserve': 1235, 'triangle': 1236, 'shirtwaist': 1237, 'factory': 1238, 'working': 1239, 'condition': 1240, 'heart': 1241, 'inclusive': 1242, 'sweet': 1243, 'across': 1244, 'shoutout': 1245, 'th': 1246, 'caption': 1247, 'exist': 1248, 'around': 1249, 'corner': 1250, 'tampc': 1251, 'apply': 1252, 'final': 1253, 'entry': 1254, 'image': 1255, 'choose': 1256, 'basis': 1257, 'feature': 1258, 'opportunity': 1259, 'level': 1260, 'field': 1261, 'capability': 1262, 'responsibility': 1263, 'lovely': 1264, 'halftime': 1265, 'entertainmmt': 1266, 'nightmare': 1267, 'celebrate': 1268, 'collectively': 1269, 'sport': 1270, 'include': 1271, 'cricket': 1272, 'expose': 1273, 'body': 1274, 'song': 1275, 'achievement': 1276, 'eat': 1277, 'dinner': 1278, 'pureblood': 1279, 'able': 1280, 'coast': 1281, 'lame': 1282, 'vaccine': 1283, 'thankfully': 1284, 'seem': 1285, 'commie': 1286, 'script': 1287, 'wide': 1288, 'cathedral': 1289, 'kinda': 1290, 'business': 1291, 'usual': 1292, 'wonderful': 1293, 'advert': 1294, 'brilliant': 1295, 'programme': 1296, 'improve': 1297, 'quality': 1298, 'strain': 1299, 'nhs': 1300, 'cherish': 1301, 'shivaami': 1302, 'entrepreneur': 1303, 'success': 1304, 'onlineregister': 1305, 'salute': 1306, 'struggle': 1307, 'secure': 1308, 'dignified': 1309, 'placewoman': 1310, 'inspiration': 1311, 'special': 1312, 'honor': 1313, 'tribute': 1314, 'madam': 1315, 'custom': 1316, 'color': 1317, 'inspirational': 1318, 'aviation': 1319, 'gift': 1320, 'funny': 1321, 'pilot': 1322, 'mug': 1323, 'amelia': 1324, 'earhart': 1325, 'quote': 1326, 'ceramic': 1327, 'cup': 1328, 'nollaigh': 1329, 'na': 1330, 'mban': 1331, 'shona': 1332, 'daoibh': 1333, 'raise': 1334, 'caring': 1335, 'yo': 1336, 'gen': 1337, 'ally': 1338, 'cry': 1339, 'joy': 1340, 'text': 1341, 'above': 1342, 'heroine': 1343, 'nora': 1344, 'ephron': 1345, 'click': 1346, 'womensday': 1347, 'theme': 1348, 'iwd': 1349, 'ahead': 1350, 'program': 1351, 'each': 1352, 'lauren': 1353, 'case': 1354, 'owner': 1355, 'bun': 1356, 'bakery': 1357, 'insight': 1358, 'uswhat': 1359, 'valuable': 1360, 'tip': 1361, 'patient': 1362, 'alert': 1363, 'understanding': 1364, 'persevere': 1365, 'hearth': 1366, 'sooo': 1367, 'disdain': 1368, 'free': 1369, 'sexist': 1370, 'cockamamie': 1371, 'excuse': 1372, 'oppress': 1373, 'discussion': 1374, 'marginalize': 1375, 'advantage': 1376, 'once': 1377, 'allvotebluein': 1378, 'beto': 1379, 'research': 1380, 'branch': 1381, 'southern': 1382, 'democrats': 1383, 'dixiecrat': 1384, 'long': 1385, 'democrat': 1386, 'racist': 1387, 'pos': 1388, 'fascist': 1389, 'away': 1390, 'repub': 1391, 'daughter': 1392, 'va': 1393, 'dislike': 1394, 'ugh': 1395, 'little': 1396, 'agree': 1397, 'voting': 1398, 'decision': 1399, 'policyboth': 1400, 'list': 1401, 'sigh': 1402, 'option': 1403, 'far': 1404, 'distorted': 1405, 'moral': 1406, 'narrative': 1407, 'religious': 1408, 'nationalism': 1409, 'interlock': 1410, 'injustice': 1411, 'evil': 1412, 'challenge': 1413, 'everywhere': 1414, 'sampd': 1415, 'reverse': 1416, 'restrictive': 1417, 'gruevskis': 1418, 'queer': 1419, 'iran': 1420, 'un': 1421, 'rights': 1422, 'commission': 1423, 'ene': 1424, 'elif': 1425, 'yaln': 1426, 'jail': 1427, 'gebze': 1428, 'son': 1429, 'quarantine': 1430, 'wardbusua': 1431, 'ortakolma': 1432, 'lets': 1433, 'murdered': 1434, 'native': 1435, 'american': 1436, 'cecilt': 1437, 'brave': 1438, 'spot': 1439, 'someone': 1440, 'majority': 1441, 'silence': 1442, 'play': 1443, 'uninterrupted': 1444, 'comment': 1445, 'calm': 1446, 'maam': 1447, 'guy': 1448, 'survive': 1449, 'catch': 1450, 'cruise': 1451, 'ab': 1452, 'initio': 1453, 'sound': 1454, 'great': 1455, 'niggas': 1456, 'mama': 1457, 'represent': 1458, 'citys': 1459, 'countys': 1460, 'nation': 1461, 'infrastructure': 1462, 'clean': 1463, 'participate': 1464, 'darle': 1465, 'fragility': 1466, 'reading': 1467, 'economy': 1468, 'regardless': 1469, 'capitalism': 1470, 'wage': 1471, 'gpd': 1472, 'disconnect': 1473, 'assume': 1474, 'stan': 1475, 'attention': 1476, 'unlike': 1477, 'ofcourse': 1478, 'complete': 1479, 'smh': 1480, 'btw': 1481, 'roe': 1482, 'overturn': 1483, 'supportive': 1484, 'organize': 1485, 'womenno': 1486, 'national': 1487, 'sick': 1488, 'economic': 1489, 'bottom': 1490, 'imagine': 1491, 'flip': 1492, 'manbad': 1493, 'blah': 1494, 'somehow': 1495, 'totally': 1496, 'opposite': 1497, 'absence': 1498, 'absent': 1499, 'countrys': 1500, 'womene': 1501, 'tuber': 1502, 'blacklist': 1503, 'co': 1504, 'worker': 1505, 'coworker': 1506, 'obsession': 1507, 'disney': 1508, 'princess': 1509, 'underage': 1510, 'ok': 1511, 'problem': 1512, 'porsha': 1513, 'mental': 1514, 'grieve': 1515, 'loss': 1516, 'alone': 1517, 'facetime': 1518, 'bout': 1519, 'curse': 1520, 'mentionnah': 1521, 'whack': 1522, 'statement': 1523, 'louder': 1524, 'literal': 1525, 'kardashian': 1526, 'partner': 1527, 'type': 1528, 'ire': 1529, 'platform': 1530, 'apologetic': 1531, 'canadian': 1532, 'willing': 1533, 'sympathybiden': 1534, 'eld': 1535, 'shameful': 1536, 'ah': 1537, 'hateful': 1538, 'pump': 1539, 'foundering': 1540, 'ego': 1541, 'possibly': 1542, 'insecurity': 1543, 'rino': 1544, 'rackexclusive': 1545, 'van': 1546, 'taylor': 1547, 'extramarital': 1548, 'affair': 1549, 'isis': 1550, 'bride': 1551, 'rim': 1552, 'imply': 1553, 'age': 1554, 'hefner': 1555, 'womanizer': 1556, 'silly': 1557, 'vax': 1558, 'healthy': 1559, 'washington': 1560, 'discover': 1561, 'forfeiture': 1562, 'magazine': 1563, 'justice': 1564, 'court': 1565, 'ij': 1566, 'influence': 1567, 'mentally': 1568, 'sleep': 1569, 'emotion': 1570, 'ease': 1571, 'favorite': 1572, 'endure': 1573, 'market': 1574, 'heap': 1575, 'hater': 1576, 'neither': 1577, 'guardianship': 1578, 'authority': 1579, 'selffunde': 1580, 'trustee': 1581, 'corporation': 1582, 'involuntary': 1583, 'client': 1584, 'procure': 1585, 'attempt': 1586, 'regain': 1587, 'liberty': 1588, 'tax': 1589, 'toward': 1590, 'equity': 1591, 'company': 1592, 'consultant': 1593, 'charge': 1594, 'ten': 1595, 'emotionally': 1596, 'taxpayersschool': 1597, 'consultation': 1598, 'refuse': 1599, 'smithsonian': 1600, 'tropical': 1601, 'allege': 1602, 'smithsonians': 1603, 'island': 1604, 'panama': 1605, 'canal': 1606, 'shut': 1607, 'performance': 1608, 'wait': 1609, 'republicans': 1610, 'tantrum': 1611, 'misinformation': 1612, 'stock': 1613, 'manipulation': 1614, 'voter': 1615, 'suppression': 1616, 'blatant': 1617, 'immigrant': 1618, 'basic': 1619, 'fail': 1620, 'insurrection': 1621, 'whoa': 1622, 'grant': 1623, 'marius': 1624, 'less': 1625, 'armand': 1626, 'aware': 1627, 'dependent': 1628, 'nor': 1629, 'androcentrism': 1630, 'gentleman': 1631, 'manage': 1632, 'substitute': 1633, 'arguably': 1634, 'deliberately': 1635, 'possible': 1636, 'idiot': 1637, 'feminism': 1638, 'biology': 1639, 'medical': 1640, 'cost': 1641, 'spsp': 1642, 'symposium': 1643, 'rain': 1644, 'shape': 1645, 'unfortunately': 1646, 'doom': 1647, 'abstract': 1648, 'isare': 1649, 'longevist': 1650, 'leni': 1651, 'po': 1652, 'ba': 1653, 'kabikabila': 1654, 'ferdinand': 1655, 'jr': 1656, 'isko': 1657, 'lacson': 1658, 'goiz': 1659, 'astounding': 1660, 'scholar': 1661, 'elect': 1662, 'icj': 1663, 'il': 1664, 'please': 1665, 'reproduction': 1666, 'societynature': 1667, 'divide': 1668, 'circle': 1669, 'degree': 1670, 'husband': 1671, 'damaging': 1672, 'pet': 1673, 'genuine': 1674, 'sake': 1675, 'cm': 1676, 'bihar': 1677, 'irony': 1678, 'hail': 1679, 'antique': 1680, 'sign': 1681, 'sntique': 1682, 'roadshow': 1683, 'doctress': 1684, 'magic': 1685, 'among': 1686, 'following': 1687, 'quite': 1688, 'excited': 1689, 'present': 1690, 'perception': 1691, 'apology': 1692, 'doctorate': 1693, 'autistic': 1694, 'super': 1695, 'skilled': 1696, 'mask': 1697, 'diagnostic': 1698, 'criterion': 1699, 'skewed': 1700, 'autism': 1701, 'insularity': 1702, 'beautifully': 1703, 'ridiculous': 1704, 'earthly': 1705, 'religion': 1706, 'central': 1707, 'aspect': 1708, 'universe': 1709, 'sobering': 1710, 'perspectivethe': 1711, 'truth': 1712, 'insignificant': 1713, 'leaf': 1714, 'oldest': 1715, 'related': 1716, 'possession': 1717, 'role': 1718, 'face': 1719, 'jarring': 1720, 'unrelenting': 1721, 'androgynous': 1722, 'virginia': 1723, 'woolf': 1724, 'marginalian': 1725, 'nearly': 1726, 'century': 1727, 'nonbinary': 1728, 'embody': 1729, 'birth': 1730, 'everything': 1731, 'passion': 1732, 'videogame': 1733, 'wanna': 1734, 'bisexual': 1735, 'ass': 1736, 'timeless': 1737, 'nonfiction': 1738, 'writer': 1739, 'preside': 1740, 'resonant': 1741, 'porous': 1742, 'naturally': 1743, 'creative': 1744, 'incandescent': 1745, 'undivide': 1746, 'mindmainexlazada': 1747, 'supershow': 1748, 'transmit': 1749, 'impediment': 1750, 'sonic': 1751, 'youth': 1752, 'experimental': 1753, 'jet': 1754, 'star': 1755, 'certainly': 1756, 'intent': 1757, 'purpose': 1758, 'cis': 1759, 'thought': 1760, 'specifically': 1761, 'sy': 1762, 'favs': 1763, 'tbh': 1764, 'bull': 1765, 'heather': 1766, 'obsess': 1767, 'sexxee': 1768, 'enemy': 1769, 'commissionfull': 1770, 'audio': 1771, 'consequence': 1772, 'smtv': 1773, 'runtime': 1774, 'blowjob': 1775, 'defeat': 1776, 'spitroast': 1777, 'swallow': 1778, 'size': 1779, 'hey': 1780, 'worry': 1781, 'sweat': 1782, 'shrugyoure': 1783, 'angel': 1784, 'average': 1785, 'hacker': 1786, 'fan': 1787, 'enthusiast': 1788, 'splendid': 1789, 'relation': 1790, 'anatomically': 1791, 'sometimes': 1792, 'quiet': 1793, 'potential': 1794, 'opposition': 1795, 'vocabulary': 1796, 'almost': 1797, 'both': 1798, 'column': 1799, 'room': 1800, 'season': 1801, 'shakespeare': 1802, 'woolfs': 1803, 'sun': 1804, 'october': 1805, 'inner': 1806, 'feminine': 1807, 'limited': 1808, 'extent': 1809, 'straight': 1810, 'welcoming': 1811, 'nothing': 1812, 'hurt': 1813, 'feeling': 1814, 'climb': 1815, 'fanny': 1816, 'hurst': 1817, 'twice': 1818, 'lasagna': 1819, 'caf': 1820, 'splash': 1821, 'woah': 1822, 'gay': 1823, 'regina': 1824, 'duck': 1825, 'laugh': 1826, 'glass': 1827, 'blahshe': 1828, 'manblah': 1829, 'towards': 1830, 'commit': 1831, 'crime': 1832, 'film': 1833, 'modelhe': 1834, 'stupid': 1835, 'twat': 1836, 'insult': 1837, 'handle': 1838, 'bit': 1839, 'succeedwhen': 1840, 'near': 1841, 'driver': 1842, 'succeed': 1843, 'gtone': 1844, 'racer': 1845, 'showgtneed': 1846, 'mangtlose': 1847, 'shuler': 1848, 'king': 1849, 'pant': 1850, 'hang': 1851, 'knee': 1852, 'cell': 1853, 'phone': 1854, 'personally': 1855, 'demonstrate': 1856, 'desire': 1857, 'advanced': 1858, 'warfare': 1859, 'lane': 1860, 'reproductive': 1861, 'areasevery': 1862, 'trip': 1863, 'syria': 1864, 'mid': 1865, 'agatha': 1866, 'christie': 1867, 'observe': 1868, 'kurdish': 1869, 'mahesh': 1870, 'babu': 1871, 'krishna': 1872, 'garu': 1873, 'bless': 1874, 'yeah': 1875, 'brown': 1876, 'league': 1877, 'favoritism': 1878, 'enforce': 1879, 'officiating': 1880, 'thee': 1881, 'hot': 1882, 'chip': 1883, 'tongue': 1884, 'fart': 1885, 'slowly': 1886, 'creep': 1887, 'crack': 1888, 'realest': 1889, 'fake': 1890, 'salivate': 1891, 'legendary': 1892, 'distract': 1893, 'bs': 1894, 'model': 1895, 'liberal': 1896, 'pure': 1897, 'stalker': 1898, 'stephanie': 1899, 'jenkins': 1900, 'lmaoooo': 1901, 'finna': 1902, 'whew': 1903, 'account': 1904, 'temporarily': 1905, 'unavailable': 1906, 'violate': 1907, 'dumb': 1908, 'hj': 1909, 'training': 1910, 'partnersgot': 1911, 'kickboxe': 1912, 'gym': 1913, 'garage': 1914, 'homie': 1915, 'christmas': 1916, 'disappointment': 1917, 'sugar': 1918, 'daddy': 1919, 'latter': 1920, 'impossible': 1921, 'slsjsu': 1922, 'bye': 1923, 'wildturtle': 1924, 'jason': 1925, 'ur': 1926, 'tracee': 1927, 'ellis': 1928, 'ross': 1929, 'silliness': 1930, 'attractive': 1931, 'bangin': 1932, 'cause': 1933, 'crush': 1934, 'annoyed': 1935, 'cuz': 1936, 'yesterday': 1937, 'fkn': 1938, 'cute': 1939, 'n': 1940, 'proportion': 1941, 'jungwoo': 1942, 'ughhh': 1943, 'smell': 1944, 'behave': 1945, 'confidently': 1946, 'perfume': 1947, 'cologne': 1948, 'wow': 1949, 'sarah': 1950, 'pailin': 1951, 'ambition': 1952, 'excitingsexyattractive': 1953, 'cheat': 1954, 'reality': 1955, 'energy': 1956, 'environment': 1957, 'significant': 1958, 'suppose': 1959, 'standard': 1960, 'eu': 1961, 'surely': 1962, 'environmental': 1963, 'netherlandshow': 1964, 'sense': 1965, 'higherstandard': 1966, 'brexit': 1967, 'britain': 1968, 'polluter': 1969, 'milwaukee': 1970, 'beautiful': 1971, 'autumn': 1972, 'storied': 1973, 'baseball': 1974, 'legacy': 1975, 'urgh': 1976, 'crazy': 1977, 'decent': 1978, 'movie': 1979, 'taste': 1980, 'lolll': 1981, 'yh': 1982, 'lucky': 1983, 'wish': 1984, 'anxiety': 1985, 'provoke': 1986, 'shutter': 1987, 'swear': 1988, 'sing': 1989, 'narcissistic': 1990, 'cringe': 1991, 'genuinely': 1992, 'andsomewhat': 1993, 'pushy': 1994, 'definitely': 1995, 'justbrace': 1996, 'himself': 1997, 'dr': 1998, 'tegan': 1999, 'arcane': 2000, 'artifact': 2001, 'dive': 2002, 'bahamaswhy': 2003, 'therethe': 2004, 'arklight': 2005, 'ancient': 2006, 'alien': 2007, 'adventure': 2008, 'trilogywe': 2009, 'alonedangerous': 2010, 'encounter': 2011, 'await': 2012, 'chart': 2013, 'lose': 2014, 'chaos': 2015, 'roy': 2016, 't': 2017, 'bennett': 2018, 'light': 2019, 'momma': 2020, 'cousin': 2021, 'deedee': 2022, 'moment': 2023, 'ball': 2024, 'adelaide': 2025, 'oval': 2026, 'congratulation': 2027, 'david': 2028, 'class': 2029, 'debut': 2030, 'umpire': 2031, 'ksa': 2032, 'getting': 2033, 'execute': 2034, 'collection': 2035, 'jimins': 2036, 'hair': 2037, 'pussycat': 2038, 'truly': 2039, 'f': 2040, 'balak': 2041, 'checkout': 2042, 'legend': 2043, 'direction': 2044, 'yara': 2045, 'mature': 2046, 'silhouette': 2047, 'update': 2048, 'refresh': 2049, 'tho': 2050, 'youthful': 2051, 'referencing': 2052, 'jo': 2053, 'baker': 2054, 'retro': 2055, 'amanda': 2056, 'se': 2057, 'ethnicity': 2058, 'heritage': 2059, 'travel': 2060, 'luv': 2061, 'stick': 2062, 'alois': 2063, 'wick': 2064, 'arm': 2065, 'capture': 2066, 'subtle': 2067, 'twisting': 2068, 'finger': 2069, 'frictionresistance': 2070, 'impeccable': 2071, 'rvf': 2072, 'wendyallure': 2073, 'korea': 2074, 'sunshine': 2075, 'sippin': 2076, 'wanderin': 2077, 'warm': 2078, 'feelin': 2079, 'lastwithout': 2080, 'youuuall': 2081, 'thinkin': 2082, 'steady': 2083, 'dreamin': 2084, 'twilightjust': 2085, 'timesyou': 2086, 'nightsippin': 2087, 'whisky': 2088, 'wme': 2089, 'perspective': 2090, 'version': 2091, 'abortion': 2092, 'effect': 2093, 'mole': 2094, 'encapsulate': 2095, 'cancer': 2096, 'attitude': 2097, 'mouth': 2098, 'reject': 2099, 'valid': 2100, 'concern': 2101, 'antivax': 2102, 'exhaust': 2103, 'narrow': 2104, 'choice': 2105, 'club': 2106, 'require': 2107, 'comfort': 2108, 'goodhe': 2109, 'exhibit': 2110, 'debate': 2111, 'synonym': 2112, 'autist': 2113, 'nato': 2114, 'putin': 2115, 'creativity': 2116, 'music': 2117, 'engineering': 2118, 'innovation': 2119, 'suggest': 2120, 'error': 2121, 'intelligence': 2122, 'consciousness': 2123, 'strictly': 2124, 'define': 2125, 'theoretical': 2126, 'outside': 2127, 'box': 2128, 'tertiary': 2129, 'quaternary': 2130, 'quinary': 2131, 'senary': 2132, 'septenary': 2133, 'octonary': 2134, 'nonary': 2135, 'denary': 2136, 'african': 2137, 'duodenarycritical': 2138, 'thinker': 2139, 'americans': 2140, 'idol': 2141, 'hero': 2142, 'idolize': 2143, 'flaw': 2144, 'indoctrination': 2145, 'binarily': 2146, 'invasive': 2147, 'plant': 2148, 'management': 2149, 'thinkingcheck': 2150, 'natural': 2151, 'resource': 2152, 'center': 2153, 'directory': 2154, 'jay': 2155, 'ferrell': 2156, 'specialist': 2157, 'christine': 2158, 'krebs': 2159, 'match': 2160, 'red': 2161, 'ole': 2162, 'consistency': 2163, 'trophy': 2164, 'player': 2165, 'contradictionit': 2166, 'nuancebecause': 2167, 'whiteye': 2168, 'centralize': 2169, 'drawback': 2170, 'highlight': 2171, 'advocate': 2172, 'centralization': 2173, 'extreme': 2174, 'thinkinglife': 2175, 'tradeoff': 2176, 'solution': 2177, 'side': 2178, 'admit': 2179, 'partisan': 2180, 'fraud': 2181, 'msnbc': 2182, 'knock': 2183, 'door': 2184, 'spin': 2185, 'dipshit': 2186, 'conspiracy': 2187, 'dangle': 2188, 'withdrawal': 2189, 'troop': 2190, 'lack': 2191, 'possibility': 2192, 'individuality': 2193, 'complex': 2194, 'faction': 2195, 'stay': 2196, 'unless': 2197, 'miracle': 2198, 'extinct': 2199, 'keen': 2200, 'motivation': 2201, 'telethon': 2202, 'mention': 2203, 'bint': 2204, 'greta': 2205, 'blame': 2206, 'steal': 2207, 'childhood': 2208, 'lost': 2209, 'allah': 2210, 'swt': 2211, 'umm': 2212, 'hakim': 2213, 'alharith': 2214, 'battle': 2215, 'marj': 2216, 'alsaffar': 2217, 'cain': 2218, 'l': 2219, 'ammm': 2220, 'crubb': 2221, 'hmm': 2222, 'b': 2223, 'basmah': 2224, 'saud': 2225, 'saudi': 2226, 'conservative': 2227, 'plebs': 2228, 'afraid': 2229, 'upset': 2230, 'perv': 2231, 'pic': 2232, 'glutenfree': 2233, 'puff': 2234, 'pastry': 2235, 'recipe': 2236, 'e': 2237, 'iqbal': 2238, 'kitchenette': 2239, 'chicken': 2240, 'patty': 2241, 'cookery': 2242, 'serve': 2243, 'breakfast': 2244, 'middle': 2245, 'circumspect': 2246, 'trumpanzee': 2247, 'english': 2248, 'incestuous': 2249, 'mum': 2250, 'whore': 2251, 'lmfao': 2252, 'shamma': 2253, 'suhail': 2254, 'faris': 2255, 'al': 2256, 'mazrui': 2257, 'accomplishment': 2258, 'overshare': 2259, 'finally': 2260, 'stfu': 2261, 'despicable': 2262, 'merry': 2263, 'xmas': 2264, 'jesus': 2265, 'proud': 2266, 'karma': 2267, 'shift': 2268, 'o': 2269, 'cait': 2270, 'domadjacent': 2271, 'vi': 2272, 'enthusiastic': 2273, 'reorder': 2274, 'goddamn': 2275, 'verbal': 2276, 'holy': 2277, 'slut': 2278, 'faggot': 2279, 'soft': 2280, 'along': 2281, 'housing': 2282, 'skate': 2283, 'tee': 2284, 'delivery': 2285, 'replace': 2286, 'miserable': 2287, 'cheating': 2288, 'playa': 2289, 'peep': 2290, 'nephew': 2291, 'min': 2292, 'minecraft': 2293, 'ender': 2294, 'dragon': 2295, 'mfs': 2296, 'everybody': 2297, 'opinion': 2298, 'analyze': 2299, 'sway': 2300, 'neva': 2301, 'skinny': 2302, 'turtle': 2303, 'character': 2304, 'mile': 2305, 'lil': 2306, 'roast': 2307, 'fork': 2308, 'carving': 2309, 'knife': 2310, 'cook': 2311, 'dante': 2312, 'italian': 2313, 'legally': 2314, 'deeply': 2315, 'extra': 2316, 'messy': 2317, 'jon': 2318, 'silver': 2319, 'condemn': 2320, 'dare': 2321, 'jades': 2322, 'nickname': 2323, 'minute': 2324, 'applebee': 2325, 'request': 2326, 'celery': 2327, 'allergic': 2328, 'fresh': 2329, 'whisper': 2330, 'maintenance': 2331, 'beyonc': 2332, 'faint': 2333, 'pop': 2334, 'xanx': 2335, 'fnaf': 2336, 'scary': 2337, 'flag': 2338, 'personality': 2339, 'trait': 2340, 'separate': 2341, 'slow': 2342, 'hoe': 2343, 'ssi': 2344, 'maaaan': 2345, 'wear': 2346, 'heel': 2347, 'rihanna': 2348, 'zendaya': 2349, 'terrible': 2350, 'barefoot': 2351, 'throw': 2352, 'lookin': 2353, 'koi': 2354, 'bacha': 2355, 'jisse': 2356, 'chugli': 2357, 'karke': 2358, 'apni': 2359, 'mazaak': 2360, 'udana': 2361, 'haithat': 2362, 'bw': 2363, 'teja': 2364, 'advice': 2365, 'page': 2366, 'professor': 2367, 'coauthor': 2368, 'paper': 2369, 'genderqueer': 2370, 'archaeology': 2371, 'nuts': 2372, 'toosi': 2373, 'pooh': 2374, 'sheisty': 2375, 'nvm': 2376, 'fok': 2377, 'musty': 2378, 'dump': 2379, 'baseprivative': 2380, 'urge': 2381, 'rejection': 2382, 'empathetic': 2383, 'selfabsorbed': 2384, 'ultimately': 2385, 'plan': 2386, 'murderous': 2387, 'rampage': 2388, 'fault': 2389, 'argument': 2390, 'guilty': 2391, 'trouble': 2392, 'cheese': 2393, 'decide': 2394, 'defective': 2395, 'maaaybe': 2396, 'lactose': 2397, 'intolerantin': 2398, 'conclusion': 2399, 'preserve': 2400, 'broken': 2401, 'mother': 2402, 'daisy': 2403, 'texas': 2404, 'republican': 2405, 'dem': 2406, 'consistently': 2407, 'insulate': 2408, 'gop': 2409, 'fkery': 2410, 'fool': 2411, 'tolerant': 2412, 'uneducated': 2413, 'elitist': 2414, 'earn': 2415, 'obnoxious': 2416, 'unstable': 2417, 'sooooo': 2418, 'freakin': 2419, 'bitter': 2420, 'drown': 2421, 'whythey': 2422, 'stat': 2423, 'lesbian': 2424, 'chase': 2425, 'gold': 2426, 'digger': 2427, 'inaccurate': 2428, 'mehwish': 2429, 'danish': 2430, 'marvi': 2431, 'sirme': 2432, 'blasphemed': 2433, 'kidnap': 2434, 'death': 2435, 'malik': 2436, 'riazs': 2437, 'actress': 2438, 'bill': 2439, 'beat': 2440, 'tab': 2441, 'rich': 2442, 'boss': 2443, 'skip': 2444, 'gent': 2445, 'grown': 2446, 'dish': 2447, 'ion': 2448, 'legit': 2449, 'dominating': 2450, 'vishap': 2451, 'difficult': 2452, 'annoying': 2453, 'farm': 2454, 'wolflord': 2455, 'loophole': 2456, 'hv': 2457, 'k': 2458, 'lesson': 2459, 'cheer': 2460, 'wake': 2461, 'am': 2462, 'weather': 2463, 'roll': 2464, 'rise': 2465, 'mint': 2466, 'pasiko': 2467, 'nalang': 2468, 'shad': 2469, 'direct': 2470, 'polyamory': 2471, 'university': 2472, 'transition': 2473, 'wall': 2474, 'soakin': 2475, 'rn': 2476, 'blood': 2477, 'virgo': 2478, 'tryna': 2479, 'birthday': 2480, 'rotdthe': 2481, 'zoomer': 2482, 'radio': 2483, 'receiverthe': 2484, 'crown': 2485, 'jewel': 2486, 'review': 2487, 'spell': 2488, 'drawer': 2489, 'draw': 2490, 'picture': 2491, 'aberdeen': 2492, 'st': 2493, 'johnstone': 2494, 'saints': 2495, 'callum': 2496, 'davidson': 2497, 'var': 2498, 'penalty': 2499, 'award': 2500, 'pittodrie': 2501, 'advise': 2502, 'richard': 2503, 'shelby': 2504, 'itgo': 2505, 'mo': 2506, 'ralf': 2507, 'rangnick': 2508, 'eye': 2509, 'factually': 2510, 'nevee': 2511, 'daphne': 2512, 'transgender': 2513, 'dave': 2514, 'chappelle': 2515, 'similar': 2516, 'aaron': 2517, 'swartz': 2518, 'jenny': 2519, 'holgate': 2520, 'jobwhen': 2521, 'australian': 2522, 'fraudulent': 2523, 'debt': 2524, 'committed': 2525, 'drag': 2526, 'bed': 2527, 'hour': 2528, 'morning': 2529, 'overplay': 2530, 'balk': 2531, 'ukraine': 2532, 'itself': 2533, 'rodger': 2534, 'cowpattie': 2535, 'ironic': 2536, 'morrison': 2537, 'bang': 2538, 'sock': 2539, 'puppetshe': 2540, 'meet': 2541, 'soon': 2542, 'card': 2543, 'holiday': 2544, 'gimbap': 2545, 'parent': 2546, 'yell': 2547, 'teach': 2548, 'shove': 2549, 'stole': 2550, 'coup': 2551, 'peter': 2552, 'motormouthe': 2553, 'smart': 2554, 'third': 2555, 'thick': 2556, 'mika': 2557, 'hourglass': 2558, 'expansion': 2559, 'helpful': 2560, 'liam': 2561, 'iti': 2562, 'highschool': 2563, 'major': 2564, 'trigger': 2565, 'told': 2566, 'acknowledge': 2567, 'episode': 2568, 'painreason': 2569, 'entice': 2570, 'bathroom': 2571, 'entrance': 2572, 'privacy': 2573, 'admin': 2574, 'hall': 2575, 'student': 2576, 'easily': 2577, 'smoke': 2578, 'vaping': 2579, 'cigarette': 2580, 'compromise': 2581, 'loved': 2582, 'facebook': 2583, 'cyber': 2584, 'threaten': 2585, 'rl': 2586, 'equivalent': 2587, 'skirt': 2588, 'heru': 2589, 'porn': 2590, 'context': 2591, 'definition': 2592, 'principle': 2593, 'rainbow': 2594, 'butterfly': 2595, 'buttling': 2596, 'mans': 2597, 'ayo': 2598, 'sjw': 2599, 'competition': 2600, 'jealous': 2601, 'mostly': 2602, 'intrigue': 2603, 'haha': 2604, 'reffe': 2605, 'nba': 2606, 'ref': 2607, 'wnba': 2608, 'count': 2609, 'da': 2610, 'gal': 2611, 'horny': 2612, 'posting': 2613, 'compare': 2614, 'pablos': 2615, 'anal': 2616, 'retraction': 2617, 'slice': 2618, 'salami': 2619, 'remarket': 2620, 'safely': 2621, 'unspoken': 2622, 'rule': 2623, 'sexpositive': 2624, 'demographic': 2625, 'overall': 2626, 'album': 2627, 'tom': 2628, 'maleness': 2629, 'allison': 2630, 'krauss': 2631, 'knocker': 2632, 'garnish': 2633, 'plus': 2634, 'bar': 2635, 'dime': 2636, 'supermodel': 2637, 'surgeon': 2638, 'impressed': 2639, 'sarcasm': 2640, 'bug': 2641, 'ceo': 2642, 'polish': 2643, 'therapist': 2644, 'mystery': 2645, 'novel': 2646, 'worried': 2647, 'gaslight': 2648, 'thickhead': 2649, 'defend': 2650, 'actual': 2651, 'activism': 2652, 'performative': 2653, 'objectify': 2654, 'bruh': 2655, 'godess': 2656, 'full': 2657, 'menthat': 2658, 'acquaint': 2659, 'casually': 2660, 'hatred': 2661, 'harmful': 2662, 'continuously': 2663, 'sad': 2664, 'surprised': 2665, 'doctor': 2666, 'gynaecologist': 2667, 'sadly': 2668, 'justify': 2669, 'cmon': 2670, 'affirm': 2671, 'doessholud': 2672, 'implication': 2673, 'saysbut': 2674, 'interpretation': 2675, 'sexiststill': 2676, 'blind': 2677, 'logicalcoherent': 2678, 'sentence': 2679, 'name': 2680, 'spout': 2681, 'nonsense': 2682, 'buy': 2683, 'trumphilary': 2684, 'libyan': 2685, 'slave': 2686, 'trade': 2687, 'clinton': 2688, 'actionsplease': 2689, 'hospital': 2690, 'gown': 2691, 'head': 2692, 'nail': 2693, 'coffin': 2694, 'wtf': 2695, 'bigot': 2696, 'mighty': 2697, 'proclaim': 2698, 'unfahrifhdyfhdh': 2699, 'whyyyyy': 2700, 'canon': 2701, 'otherwise': 2702, 'traumatising': 2703, 'military': 2704, 'witch': 2705, 'culty': 2706, 'coven': 2707, 'homoerotic': 2708, 'undertone': 2709, 'wolf': 2710, 'kiss': 2711, 'nope': 2712, 'punch': 2713, 'prom': 2714, 'ambie': 2715, 'sheet': 2716, 'glam': 2717, 'screenshot': 2718, 'missing': 2719, 'vital': 2720, 'beta': 2721, 'design': 2722, 'evolve': 2723, 'artillery': 2724, 'tank': 2725, 'regular': 2726, 'fish': 2727, 'octopus': 2728, 'becauselike': 2729, 'obvious': 2730, 'dc': 2731, 'ben': 2732, 'warner': 2733, 'plumber': 2734, 'crossover': 2735, 'green': 2736, 'lantern': 2737, 'corp': 2738, 'max': 2739, 'gl': 2740, 'ring': 2741, 'yoohan': 2742, 'kaizenix': 2743, 'omg': 2744, 'sexuality': 2745, 'bi': 2746, 'pan': 2747, 'knowqueer': 2748, 'daredevil': 2749, 'kingpin': 2750, 'confirm': 2751, 'mcu': 2752, 'huh': 2753, 'spiderman': 2754, 'cinematic': 2755, 'crawler': 2756, 'moviedc': 2757, 'nooo': 2758, 'uo': 2759, 'mirabel': 2760, 'shetheyisabela': 2761, 'sheherluisa': 2762, 'sheherdolore': 2763, 'shehercamilo': 2764, 'omni': 2765, 'nonbinarygenderfluid': 2766, 'works': 2767, 'hethey': 2768, 'fanfic': 2769, 'expand': 2770, 'formatshe': 2771, 'somewhat': 2772, 'defensively': 2773, 'spamme': 2774, 'pls': 2775, 'proof': 2776, 'sasukr': 2777, 'kaguya': 2778, 'canonically': 2779, 'intention': 2780, 'corrupt': 2781, 'kidnapping': 2782, 'potentially': 2783, 'unalive': 2784, 'charity': 2785, 'feellook': 2786, 'crucial': 2787, 'kindness': 2788, 'weigh': 2789, 'giver': 2790, 'canonization': 2791, 'todays': 2792, 'bonus': 2793, 'ep': 2794, 'unexpected': 2795, 'inflight': 2796, 'tender': 2797, 'prompt': 2798, 'resonate': 2799, 'process': 2800, 'cite': 2801, 'raja': 2802, 'devasahayam': 2803, 'pillai': 2804, 'vatican': 2805, 'official': 2806, 'petition': 2807, 'billy': 2808, 'preston': 2809, 'fast': 2810, 'dispute': 2811, 'ijma': 2812, 'jurist': 2813, 'postcanonization': 2814, 'companion': 2815, 'weight': 2816, 'active': 2817, 'eg': 2818, 'aisha': 2819, 'ra': 2820, 'jurisprudence': 2821, 'attest': 2822, 'zarkashs': 2823, 'alijba': 2824, 'reader': 2825, 'unhappy': 2826, 'annulment': 2827, 'postconciliar': 2828, 'total': 2829, 'heartbreaking': 2830, 'mess': 2831, 'catholic': 2832, 'animal': 2833, 'humanizing': 2834, 'themcatere': 2835, 'revolution': 2836, 'mistake': 2837, 'pope': 2838, 'saint': 2839, 'piux': 2840, 'xs': 2841, 'blue': 2842, 'shine': 2843, 'incorrupt': 2844, 'intact': 2845, 'exhumation': 2846, 'sola': 2847, 'scriptura': 2848, 'doctrine': 2849, 'bible': 2850, 'ashamed': 2851, 'huber': 2852, 'ascend': 2853, 'descend': 2854, 'spiritually': 2855, 'enlighten': 2856, 'although': 2857, 'biblical': 2858, 'map': 2859, 'ignorance': 2860, 'area': 2861, 'redress': 2862, 'john': 2863, 'xxiis': 2864, 'thomas': 2865, 'library': 2866, 'archdiocese': 2867, 'ny': 2868, 'transfer': 2869, 'diocese': 2870, 'peoria': 2871, 'delay': 2872, 'beautificationcanonization': 2873, 'begin': 2874, 'infallibility': 2875, 'refer': 2876, 'heaven': 2877, 'extend': 2878, 'whether': 2879, 'accept': 2880, 'meaning': 2881, 'indeed': 2882, 'trinity': 2883, 'significantly': 2884, 'contribute': 2885, 'nicene': 2886, 'creed': 2887, 'approve': 2888, 'bl': 2889, 'titus': 2890, 'brandsmathe': 2891, 'brandsma': 2892, 'cloth': 2893, 'large': 2894, 'sale': 2895, 'dforce': 2896, 'thin': 2897, 'layer': 2898, 'buff': 2899, 'chef': 2900, 'cyberwhistle': 2901, 'whistle': 2902, 'grandchild': 2903, 'inherit': 2904, 'dirty': 2905, 'unbox': 2906, 'kat': 2907, 'ryall': 2908, 'oracle': 2909, 'poodle': 2910, 'formal': 2911, 'loin': 2912, 'xwatch': 2913, 'stream': 2914, 'description': 2915, 'enter': 2916, 'giveaway': 2917, 'covidpositive': 2918, 'midnight': 2919, 'ohhere': 2920, 'kne': 2921, 'anywhere': 2922, 'indoor': 2923, 'quick': 2924, 'somewhere': 2925, 'crowded': 2926, 'store': 2927, 'surgical': 2928, 'shadow': 2929, 'beast': 2930, 'yorknew': 2931, 'uvogin': 2932, 'owl': 2933, 'conjuration': 2934, 'shrink': 2935, 'camping': 2936, 'accessory': 2937, 'softspun': 2938, 'microfiber': 2939, 'cleaning': 2940, 'pc': 2941, 'xcms': 2942, 'gsm': 2943, 'highly': 2944, 'absorbent': 2945, 'lint': 2946, 'streak': 2947, 'multi': 2948, 'wash': 2949, 'kitchen': 2950, 'window': 2951, 'stainless': 2952, 'steel': 2953, 'silverware': 2954, 'offuse': 2955, 'dddjanreusable': 2956, 'ply': 2957, 'adjustable': 2958, 'ear': 2959, 'loops': 2960, 'nose': 2961, 'wire': 2962, 'breathable': 2963, 'adult': 2964, 'barbie': 2965, 'doll': 2966, 'jasmine': 2967, 'mattel': 2968, 'aladdin': 2969, 'greenpant': 2970, 'particulate': 2971, 'unlikely': 2972, 'transmitit': 2973, 'juicy': 2974, 'respiratory': 2975, 'droplet': 2976, 'expert': 2977, 'colourful': 2978, 'cover': 2979, 'neat': 2980, 'mat': 2981, 'spellground': 2982, 'hopefully': 2983, 'snag': 2984, 'villain': 2985, 'wet': 2986, 'sparkle': 2987, 'trick': 2988, 'tragic': 2989, 'lie': 2990, 'switch': 2991, 'diaper': 2992, 'novella': 2993, 'noelle': 2994, 'cockblock': 2995, 'fearmongere': 2996, 'yearold': 2997, 'knowseems': 2998, 'whomever': 2999, 'headline': 3000, 'awash': 3001, 'hole': 3002, 'groundspoiler': 3003, 'us': 3004, 'drug': 3005, 'flight': 3006, 'eh': 3007, 'doh': 3008, 'drool': 3009, 'buss': 3010, 'flirt': 3011, 'classic': 3012, 'anacostia': 3013, 'jeongguk': 3014, 'nervous': 3015, 'sky': 3016, 'scrunch': 3017, 'adorably': 3018, 'tall': 3019, 'byenkiru': 3020, 'interested': 3021, 'herguy': 3022, 'babe': 3023, 'sha': 3024, 'dey': 3025, 'dogboy': 3026, 'priority': 3027, 'abandon': 3028, 'hunt': 3029, 'demon': 3030, 'kagome': 3031, 'carousel': 3032, 'access': 3033, 'elusive': 3034, 'hyperfocuse': 3035, 'often': 3036, 'ago': 3037, 'shame': 3038, 'attraction': 3039, 'carnival': 3040, 'smth': 3041, 'recent': 3042, 'metaphor': 3043, 'aww': 3044, 'ho': 3045, 'multicolore': 3046, 'provider': 3047, 'hunting': 3048, 'failing': 3049, 'catswine': 3050, 'untamed': 3051, 'waterfall': 3052, 'house': 3053, 'dry': 3054, 'television': 3055, 'hooman': 3056, 'dispose': 3057, 'particularly': 3058, 'kan': 3059, 'malchaamah': 3060, 'regale': 3061, 'interminable': 3062, 'regret': 3063, 'boredom': 3064, 'tease': 3065, 'massive': 3066, 'lunabrooooo': 3067, 'iv': 3068, 'been': 3069, 'ffs': 3070, 'sir': 3071, 'rate': 3072, 'biden': 3073, 'jar': 3074, 'nvmslitterhead': 3075, 'spending': 3076, 'spite': 3077, 'aak': 3078, 'suspension': 3079, 'brute': 3080, 'pplleeaassee': 3081, 'iruma': 3082, 'ameri': 3083, 'mangaanime': 3084, 'audience': 3085, 'eventually': 3086, 'add': 3087, 'resolution': 3088, 'xd': 3089, 'welp': 3090, 'literary': 3091, 'cocktease': 3092, 'ac': 3093, 'lincoln': 3094, 'riley': 3095, 'usc': 3096, 'hc': 3097, 'ultimate': 3098, 'lolol': 3099, 'sell': 3100, 'manipulatrix': 3101, 'babysitter': 3102, 'joi': 3103, 'pov': 3104, 'upclose': 3105, 'dammit': 3106, 'bradys': 3107, 'khan': 3108, 'chelsea': 3109, 'leo': 3110, 'advertising': 3111, 'board': 3112, 'singha': 3113, 'google': 3114, 'exactly': 3115, 'semantic': 3116, 'preacher': 3117, 'spotify': 3118, 'record': 3119, 'forget': 3120, 'drop': 3121, 'wtb': 3122, 'bt': 3123, 'ptd': 3124, 'la': 3125, 'ticketslooke': 3126, 'ticket': 3127, 'november': 3128, 'seatcomment': 3129, 'meim': 3130, 'shootin': 3131, 'shot': 3132, 'overpay': 3133, 'bts': 3134, 'permission': 3135, 'dance': 3136, 'wts': 3137, 'nov': 3138, 'army': 3139, 'ig': 3140, 'tear': 3141, 'goxuan': 3142, 'retain': 3143, 'myt': 3144, 'nft': 3145, 'rt': 3146, 'rvn': 3147, 'winner': 3148, 'randomly': 3149, 'select': 3150, 'hoursp': 3151, 'tune': 3152, 'tonight': 3153, 'pst': 3154, 'topic': 3155, 'gaming': 3156, 'boyfriend': 3157, 'fly': 3158, 'reposte': 3159, 'kris': 3160, 'eavestrough': 3161, 'yr': 3162, 'grandson': 3163, 'june': 3164, 'hydro': 3165, 'north': 3166, 'donation': 3167, 'zodiacs': 3168, 'brilliance': 3169, 'disagree': 3170, 'lmao': 3171, 'unfollow': 3172, 'obtuse': 3173, 'media': 3174, 'stare': 3175, 'screen': 3176, 'martin': 3177, 'pandemic': 3178, 'labor': 3179, 'fringe': 3180, 'badly': 3181, 'ton': 3182, 'owen': 3183, 'clear': 3184, 'charter': 3185, 'disgusting': 3186, 'wherever': 3187, 'preperformance': 3188, 'funky': 3189, 'selfie': 3190, 'vid': 3191, 'rank': 3192, 'considerate': 3193, 'ph': 3194, 'balance': 3195, 'border': 3196, 'agent': 3197, 'round': 3198, 'consciousnessraising': 3199, 'kamran': 3200, 'shezad': 3201, 'ecological': 3202, 'mosque': 3203, 'communismclass': 3204, 'raising': 3205, 'communismacknowledge': 3206, 'communismeverythe': 3207, 'communism': 3208, 'agency': 3209, 'cointelpro': 3210, 'officially': 3211, 'practice': 3212, 'phd': 3213, 'consciousnessraise': 3214, 'versus': 3215, 'lecture': 3216, 'interest': 3217, 'homemake': 3218, 'nursingstraight': 3219, 'pimp': 3220, 'technique': 3221, 'wut': 3222, 'bitcoin': 3223, 'technology': 3224, 'path': 3225, 'enlightenment': 3226, 'relatable': 3227, 'entertaining': 3228, 'namely': 3229, 'recall': 3230, 'fn': 3231, 'reserve': 3232, 'collective': 3233, 'awe': 3234, 'humble': 3235, 'bell': 3236, 'hook': 3237, 'transgress': 3238, 'studentcentere': 3239, 'engaged': 3240, 'pedagogy': 3241, 'broadly': 3242, 'writingcentere': 3243, 'classroom': 3244, 'ideal': 3245, 'interdisciplinary': 3246, 'maximum': 3247, 'effort': 3248, 'conscientizao': 3249, 'raisingit': 3250, 'cycle': 3251, 'vehicular': 3252, 'cycling': 3253, 'encourage': 3254, 'alternative': 3255, 'transit': 3256, 'nerd': 3257, 'constitution': 3258, 'organized': 3259, 'session': 3260, 'separatist': 3261, 'activity': 3262, 'tireless': 3263, 'tangible': 3264, 'meaningful': 3265, 'future': 3266, 'position': 3267, 'terfs': 3268, 'rather': 3269, 'rad': 3270, 'fem': 3271, 'split': 3272, 'newb': 3273, 'gcfem': 3274, 'ampmayb': 3275, 'trad': 3276, 'gc': 3277, 'lgbamp': 3278, 'gnc': 3279, 'status': 3280, 'quo': 3281, 'hierarchy': 3282, 'default': 3283, 'dominate': 3284, 'experienceare': 3285, 'expect': 3286, 'oncethat': 3287, 'intentional': 3288, 'resist': 3289, 'indue': 3290, 'hugh': 3291, 'magnifie': 3292, 'lnp': 3293, 'core': 3294, 'belief': 3295, 'replicate': 3296, 'ancestor': 3297, 'moreover': 3298, 'uncomfortable': 3299, 'spectrum': 3300, 'politician': 3301, 'dominos': 3302, 'current': 3303, 'cabal': 3304, 'structural': 3305, 'reform': 3306, 'divorce': 3307, 'restaurant': 3308, 'ainihin': 3309, 'newton': 3310, 'motion': 3311, 'din': 3312, 'kenan': 3313, 'favour': 3314, 'yhooyou': 3315, 'cz': 3316, 'wife': 3317, 'material': 3318, 'piss': 3319, 'wachana': 3320, 'bandit': 3321, 'clothe': 3322, 'dress': 3323, 'crash': 3324, 'husbandowner': 3325, 'motivate': 3326, 'asian': 3327, 'food': 3328, 'sosatie': 3329, 'meeting': 3330, 'burn': 3331, 'wellme': 3332, 'admire': 3333, 'delicious': 3334, 'meal': 3335, 'teaching': 3336, 'ata': 3337, 'yap': 3338, 'kila': 3339, 'tik': 3340, 'tok': 3341, 'wayyou': 3342, 'insist': 3343, 'badger': 3344, 'loan': 3345, 'wipe': 3346, 'hs': 3347, 'grad': 3348, 'allegedly': 3349, 'owe': 3350, 'borrow': 3351, 'grit': 3352, 'detractor': 3353, 'congratsyou': 3354, 'wabr': 3355, 'cake': 3356, 'hug': 3357, 'happiness': 3358, 'dita': 3359, 'youtoday': 3360, 'dream': 3361, 'yours': 3362, 'refreshing': 3363, 'watcheveryone': 3364, 'stinkpot': 3365, 'frontandcenter': 3366, 'pray': 3367, 'freak': 3368, 'naked': 3369, 'yard': 3370, 'forever': 3371, 'salary': 3372, 'membership': 3373, 'okinawa': 3374, 'vacation': 3375, 'nbc': 3376, 'telemundo': 3377, 'usa': 3378, 'bravo': 3379, 'nbcsn': 3380, 'golf': 3381, 'syfy': 3382, 'twin': 3383, 'terrify': 3384, 'losingyall': 3385, 'existence': 3386, 'tomoe': 3387, 'annoy': 3388, 'lambert': 3389, 'jaskier': 3390, 'deserving': 3391, 'living': 3392, 'building': 3393, 'filthy': 3394, 'hr': 3395, 'diguste': 3396, 'affirmation': 3397, 'constantly': 3398, 'prioritize': 3399, 'peace': 3400, 'clarity': 3401, 'pirate': 3402, 'anime': 3403, 'manga': 3404, 'translate': 3405, 'translator': 3406, 'fair': 3407, 'pathetic': 3408, 'outgrowth': 3409, 'incorrect': 3410, 'betray': 3411, 'knowledge': 3412, 'amusing': 3413, 'inability': 3414, 'string': 3415, 'coherent': 3416, 'elsewhere': 3417, 'kiddo': 3418, 'lucy': 3419, 'bland': 3420, 'wave': 3421, 'lieu': 3422, 'customary': 3423, 'author': 3424, 'awesomely': 3425, 'vintage': 3426, 'fuzzy': 3427, 'purple': 3428, 'kangol': 3429, 'bucket': 3430, 'hat': 3431, 'spence': 3432, 'tupac': 3433, 'crit': 3434, 'conceptual': 3435, 'parallel': 3436, 'ambitionz': 3437, 'az': 3438, 'ridah': 3439, 'shortly': 3440, 'radical': 3441, 'plain': 3442, 'french': 3443, 'jcj': 3444, 'citesshe': 3445, 'dualism': 3446, 'halfgraspe': 3447, 'halfbaked': 3448, 'poststructuralism': 3449, 'appropriate': 3450, 'repurpose': 3451, 'employ': 3452, 'empire': 3453, 'european': 3454, 'reflect': 3455, 'godly': 3456, 'differencefeminism': 3457, 'masculinitychange': 3458, 'pseudo': 3459, 'enablers': 3460, 'menwoman': 3461, 'nourish': 3462, 'cishet': 3463, 'tran': 3464, 'destroy': 3465, 'marxist': 3466, 'aim': 3467, 'dunno': 3468, 'afford': 3469, 'fulcrum': 3470, 'protestantism': 3471, 'masculine': 3472, 'feminismpapism': 3473, 'effeminate': 3474, 'patriarchylol': 3475, 'ending': 3476, 'baldy': 3477, 'universalism': 3478, 'scandal': 3479, 'square': 3480, 'robert': 3481, 'jordon': 3482, 'modern': 3483, 'carol': 3484, 'gilligan': 3485, 'avatar': 3486, 'competitive': 3487, 'cooperative': 3488, 'schoolchildren': 3489, 'bunch': 3490, 'supposedly': 3491, 'document': 3492, 'conflict': 3493, 'essentialism': 3494, 'afghanistan': 3495, 'trooper': 3496, 'judge': 3497, 'carceral': 3498, 'institution': 3499, 'broad': 3500, 'ideology': 3501, 'repression': 3502, 'inequality': 3503, 'criminalization': 3504, 'statesn': 3505, 'determine': 3506, 'fed': 3507, 'oversight': 3508, 'wrongdoing': 3509, 'entity': 3510, 'airbnb': 3511, 'guest': 3512, 'antidiscrimination': 3513, 'experimentfor': 3514, 'host': 3515, 'oregon': 3516, 'initial': 3517, 'booking': 3518, 'requestmeasuring': 3519, 'metran': 3520, 'visible': 3521, 'rightshuman': 3522, 'freedom': 3523, 'slavery': 3524, 'torture': 3525, 'expression': 3526, 'entitle': 3527, 'leftover': 3528, 'covid': 3529, 'dose': 3530, 'sue': 3531, 'county': 3532, 'underestimate': 3533, 'york': 3534, 'mp': 3535, 'cross': 3536, 'floor': 3537, 'rebecca': 3538, 'moonrepresentation': 3539, 'asianidentifye': 3540, 'newly': 3541, 'freshman': 3542, 'admission': 3543, 'revise': 3544, 'changer': 3545, 'firm': 3546, 'unvaccinated': 3547, 'coerce': 3548, 'positionloss': 3549, 'limit': 3550, 'income': 3551, 'etcdiscrimination': 3552, 'exemption': 3553, 'recruit': 3554, 'detail': 3555, 'premise': 3556, 'ruse': 3557, 'acceptable': 3558, 'exile': 3559, 'oppose': 3560, 'typical': 3561, 'discriminatory': 3562, 'goverment': 3563, 'fml': 3564, 'hahaha': 3565, 'compliance': 3566, 'woefully': 3567, 'ineffective': 3568, 'transmission': 3569, 'sideeffect': 3570, 'maim': 3571, 'countless': 3572, 'thousandsyour': 3573, 'quit': 3574, 'prejudice': 3575, 'epitome': 3576, 'blonde': 3577, 'dbs': 3578, 'whenever': 3579, 'db': 3580, 'perm': 3581, 'chemically': 3582, 'induce': 3583, 'skull': 3584, 'dfkm': 3585, 'tls': 3586, 'resident': 3587, 'mgk': 3588, 'seriously': 3589, 'democracy': 3590, 'disappointing': 3591, 'escalator': 3592, 'sandwich': 3593, 'nyjc': 3594, 'negative': 3595, 'clue': 3596, 'bidan': 3597, 'bleachedbut': 3598, 'taking': 3599, 'aka': 3600, 'ainsley': 3601, 'airhead': 3602, 'fox': 3603, 'fiend': 3604, 'handedly': 3605, 'resurrect': 3606, 'omgi': 3607, 'singersongwriter': 3608, 'hoku': 3609, 'offer': 3610, 'commitment': 3611, 'bare': 3612, 'sleepless': 3613, 'ujiko': 3614, 'fancy': 3615, 'confess': 3616, 'eternal': 3617, 'loveafo': 3618, 'silently': 3619, 'shhh': 3620, 'embarrassed': 3621, 'preach': 3622, 'epic': 3623, 'shocking': 3624, 'aussie': 3625, 'download': 3626, 'playlist': 3627, 'undertale': 3628, 'rp': 3629, 'roblox': 3630, 'blush': 3631, 'confront': 3632, 'liverpool': 3633, 'clap': 3634, 'manager': 3635, 'norwich': 3636, 'villa': 3637, 'smug': 3638, 'arrogant': 3639, 'fullofhimself': 3640, 'bricke': 3641, 'prick': 3642, 'scoatlan': 3643, 'doon': 3644, 'bellowing': 3645, 'weep': 3646, 'gap': 3647, 'martina': 3648, 'navratilova': 3649, 'chris': 3650, 'evert': 3651, 'dio': 3652, 'sfw': 3653, 'scenario': 3654, 'foible': 3655, 'having': 3656, 'mistakenly': 3657, 'careful': 3658, 'damned': 3659, 'adorable': 3660, 'witness': 3661, 'fuckin': 3662, 'atrocious': 3663, 'itshe': 3664, 'shake': 3665, 'flush': 3666, 'clearly': 3667, 'clasp': 3668, 'damaged': 3669, 'silk': 3670, 'glove': 3671, 'tj': 3672, 'alexa': 3673, 'empower': 3674, 'soulsonly': 3675, 'godjesus': 3676, 'moreno': 3677, 'periodt': 3678, 'fvck': 3679, 'maria': 3680, 'lionzas': 3681, 'statue': 3682, 'inspiring': 3683, 'icon': 3684, 'vp': 3685, 'sara': 3686, 'philippine': 3687, 'bold': 3688, 'zone': 3689, 'peoplethere': 3690, 'florence': 3691, 'g': 3692, 'amuse': 3693, 'iq': 3694, 'kamalas': 3695, 'shed': 3696, 'kamala': 3697, 'coveted': 3698, 'sass': 3699, 'anu': 3700, 'aunty': 3701, 'doucheraj': 3702, 'mkk': 3703, 'lately': 3704, 'growth': 3705, 'timid': 3706, 'submissive': 3707, 'housewife': 3708, 'semi': 3709, 'kinju': 3710, 'samar': 3711, 'et': 3712, 'fakesswi': 3713, 'andhkaar': 3714, 'bohot': 3715, 'karan': 3716, 'pandra': 3717, 'kundrra': 3718, 'talaga': 3719, 'development': 3720, 'gajab': 3721, 'shrinate': 3722, 'russia': 3723, 'degrade': 3724, 'leader': 3725, 'bbm': 3726, 'interview': 3727, 'portray': 3728, 'remarkable': 3729, 'fearless': 3730, 'tinnie': 3731, 'typo': 3732, 'estoy': 3733, 'fascinado': 3734, 'con': 3735, 'esas': 3736, 'de': 3737, 'tipo': 3738, 'badd': 3739, 'es': 3740, 'paraso': 3741, 'nuevo': 3742, 'permanent': 3743, 'secretary': 3744, 'focus': 3745, 'multitask': 3746, 'spine': 3747, 'sin': 3748, 'shortcoming': 3749, 'phenomenal': 3750, 'recognize': 3751, 'bashfully': 3752, 'acceptance': 3753, 'empowerment': 3754, 'sum': 3755, 'tht': 3756, 'heavy': 3757, 'btche': 3758, 'interchangeably': 3759, 'hermaphrodite': 3760, 'eunuch': 3761, 'ministry': 3762, 'redefine': 3763, 'january': 3764, 'dna': 3765, 'bullet': 3766, 'fragment': 3767, 'tory': 3768, 'lanez': 3769, 'absolve': 3770, 'becomes': 3771, 'superiorwho': 3772, 'emancipation': 3773, 'barista': 3774, 'kampalathank': 3775, 'iwca': 3776, 'uganda': 3777, 'chapter': 3778, 'skilling': 3779, 'womenampyouth': 3780, 'advancement': 3781, 'james': 3782, 'harden': 3783, 'absolute': 3784, 'diva': 3785, 'bail': 3786, 'rocket': 3787, 'net': 3788, 'shitty': 3789, 'era': 3790, 'spiritual': 3791, 'brand': 3792, 'goal': 3793, 'sophia': 3794, 'receive': 3795, 'scholarship': 3796, 'saving': 3797, 'yang': 3798, 'vocal': 3799, 'kobe': 3800, 'offseason': 3801, 'beg': 3802, 'laker': 3803, 'simmons': 3804, 'sixer': 3805, 'kindly': 3806, 'signup': 3807, 'digital': 3808, 'currency': 3809, 'cio': 3810, 'unprecedented': 3811, 'prediction': 3812, 'westminster': 3813, 'keeper': 3814, 'poster': 3815, 'weavernote': 3816, 'epistemology': 3817, 'rev': 3818, 'j': 3819, 'tooheythere': 3820, 'brazilian': 3821, 'recommend': 3822, 'afaik': 3823, 'ha': 3824, 'beget': 3825, 'ontology': 3826, 'continental': 3827, 'guide': 3828, 'philosophy': 3829, 'fundamental': 3830, 'metaphysics': 3831, 'ethic': 3832, 'macready': 3833, 'plato': 3834, 'descarte': 3835, 'hume': 3836, 'kant': 3837, 'nietzsche': 3838, 'schopenhauer': 3839, 'arendt': 3840, 'widely': 3841, 'goodbut': 3842, 'distinguish': 3843, 'realism': 3844, 'positivism': 3845, 'realist': 3846, 'permit': 3847, 'epistemic': 3848, 'relativism': 3849, 'modernist': 3850, 'reset': 3851, 'sink': 3852, 'abyss': 3853, 'postmodernism': 3854, 'letter': 3855, 'standpoint': 3856, 'trample': 3857, 'disadvantaged': 3858, 'ravel': 3859, 'unending': 3860, 'knot': 3861, 'slightly': 3862, 'subjective': 3863, 'objectively': 3864, 'subjectively': 3865, 'critique': 3866, 'eurocentric': 3867, 'analysis': 3868, 'masquerade': 3869, 'liberatory': 3870, 'antioedipus': 3871, 'colonial': 3872, 'rand': 3873, 'demolish': 3874, 'empirical': 3875, 'evidence': 3876, 'importance': 3877, 'various': 3878, 'tribalism': 3879, 'organization': 3880, 'epistemologyyour': 3881, 'malapropism': 3882, 'volume': 3883, 'classical': 3884, 'overestimate': 3885, 'thus': 3886, 'reckless': 3887, 'steward': 3888, 'inheritancethe': 3889, 'tribe': 3890, 'fragile': 3891, 'rootless': 3892, 'ma': 3893, 'dissertation': 3894, 'wowser': 3895, 'terminology': 3896, 'vaguely': 3897, 'eternally': 3898, 'pregnant': 3899, 'opinionif': 3900, 'glow': 3901, 'marker': 3902, 'wellforme': 3903, 'worthwhile': 3904, 'objectivism': 3905, 'obstacle': 3906, 'objectivist': 3907, 'suspicion': 3908, 'hostility': 3909, 'lurk': 3910, 'phrase': 3911, 'qualitative': 3912, 'prof': 3913, 'comprehend': 3914, 'positionality': 3915, 'biased': 3916, 'tribal': 3917, 'skepticism': 3918, 'ks': 3919, 'questionnaire': 3920, 'fab': 3921, 'introduction': 3922, 'unit': 3923, 'language': 3924, 'guidance': 3925, 'servant': 3926, 'ekyo': 3927, 'kikyuuseinfact': 3928, 'equality': 3929, 'distinction': 3930, 'nature': 3931, 'masculinity': 3932, 'translation': 3933, 'site': 3934, 'perform': 3935, 'independent': 3936, 'sa': 3937, 'crt': 3938, 'popular': 3939, 'definitionracial': 3940, 'wokeness': 3941, 'ensure': 3942, 'beyond': 3943, 'supremacist': 3944, 'citizen': 3945, 'france': 3946, 'bookmark': 3947, 'folder': 3948, 'twt': 3949, 'web': 3950, 'implicit': 3951, 'assumption': 3952, 'yahwe': 3953, 'cancel': 3954, 'normalize': 3955, 'ryback': 3956, 'wwe': 3957, 'pitch': 3958, 'socialist': 3959, 'contract': 3960, 'upper': 3961, 'lowercard': 3962, 'talent': 3963, 'terminological': 3964, 'sayyid': 3965, 'sharif': 3966, 'excess': 3967, 'deviation': 3968, 'standstill': 3969, 'islam': 3970, 'ghulam': 3971, 'rasool': 3972, 'cheema': 3973, 'liberation': 3974, 'capitalismgirl': 3975, 'jus': 3976, 'false': 3977, 'objective': 3978, 'comparison': 3979, 'dn': 3980, 'ds': 3981, 'bake': 3982, 'scientist': 3983, 'neutral': 3984, 'null': 3985, 'putatively': 3986, 'evolved': 3987, 'archaic': 3988, 'mentality': 3989, 'diminish': 3990, 'progress': 3991, 'population': 3992, 'achieve': 3993, 'district': 3994, 'boundary': 3995, 'remove': 3996, 'enable': 3997, 'region': 3998, 'ticketi': 3999, 'beth': 4000, 'negate': 4001, 'caste': 4002, 'historical': 4003, 'illogical': 4004, 'hurtful': 4005, 'casteist': 4006, 'flawed': 4007, 'attain': 4008, 'invest': 4009, 'transformative': 4010, 'capacity': 4011, 'strengthen': 4012, 'reiterate': 4013, 'privilege': 4014, 'fundamentally': 4015, 'solve': 4016, 'maximalism': 4017, 'welfare': 4018, 'wellness': 4019, 'wellbee': 4020, 'prosperity': 4021, 'minimalism': 4022, 'burden': 4023, 'menace': 4024, 'leadership': 4025, 'individual': 4026, 'prevent': 4027, 'deny': 4028, 'dynamism': 4029, 'um': 4030, 'dead': 4031, 'repeat': 4032, 'biological': 4033, 'motherhood': 4034, 'lt': 4035, 'simon': 4036, 'cowell': 4037, 'pointblank': 4038, 'nervetrainer': 4039, 'rebound': 4040, 'essentialismdrone': 4041, 'lettering': 4042, 'clothespin': 4043, 'invariance': 4044, 'pile': 4045, 'baggage': 4046, 'marxism': 4047, 'postmodern': 4048, 'gobbily': 4049, 'gook': 4050, 'crybaby': 4051, 'socialism': 4052, 'illness': 4053, 'yess': 4054, 'wahi': 4055, 'masla': 4056, 'sexology': 4057, 'reinforce': 4058, 'racial': 4059, 'elevate': 4060, 'woke': 4061, 'clout': 4062, 'wind': 4063, 'mystic': 4064, 'cerulean': 4065, 'sea': 4066, 'agreementsoctober': 4067, 'doorway': 4068, 'memory': 4069, 'score': 4070, 'norse': 4071, 'mythology': 4072, 'circe': 4073, 'certain': 4074, 'kendis': 4075, 'foundational': 4076, 'reconciliation': 4077, 'discourse': 4078, 'handinhand': 4079, 'dainty': 4080, 'eager': 4081, 'fat': 4082, 'demanding': 4083, 'stray': 4084, 'banner': 4085, 'alignment': 4086, 'category': 4087, 'morality': 4088, 'classify': 4089, 'object': 4090, 'dampd': 4091, 'differentiation': 4092, 'uncool': 4093, 'sunglass': 4094, 'juju': 4095, 'gtgtgt': 4096, 'logo': 4097, 'remain': 4098, 'silent': 4099, 'essentialistidolatrous': 4100, 'praxis': 4101, 'termini': 4102, 'essentialist': 4103, 'pullingback': 4104, 'amount': 4105, 'filth': 4106, 'wassomethe': 4107, 'lawsuit': 4108, 'nightmarish': 4109, 'rampant': 4110, 'unsurprise': 4111, 'necessary': 4112, 'armour': 4113, 'utterly': 4114, 'speechless': 4115, 'poem': 4116, 'expereince': 4117, 'math': 4118, 'discourage': 4119, 'passionate': 4120, 'matheveryday': 4121, 'undermine': 4122, 'stem': 4123, 'ourselves': 4124, 'boot': 4125, 'officer': 4126, 'invisible': 4127, 'intersectionality': 4128, 'slutty': 4129, 'loudwe': 4130, 'golden': 4131, 'notebook': 4132, 'eutelsat': 4133, 'initiative': 4134, 'investigation': 4135, 'firefighter': 4136, 'union': 4137, 'marshall': 4138, 'beset': 4139, 'harm': 4140, 'hbo': 4141, 'miniserie': 4142, 'catherine': 4143, 'viewer': 4144, 'welcome': 4145, 'helen': 4146, 'mirren': 4147, 'perpetual': 4148, 'fury': 4149, 'sexismwhy': 4150, 'trial': 4151, 'laura': 4152, 'bateshive': 4153, 'warn': 4154, 'joking': 4155, 'rapist': 4156, 'testimony': 4157, 'md': 4158, 'anz': 4159, 'steven': 4160, 'worrall': 4161, 'scourge': 4162, 'realise': 4163, 'tcocisdoiclp': 4164, 'selfexoticization': 4165, 'invadersruler': 4166, 'privileged': 4167, 'entirety': 4168, 'anticolonialist': 4169, 'articulate': 4170, 'eng': 4171, 'presence': 4172, 'asymmetry': 4173, 'exoticization': 4174, 'othering': 4175, 'quickly': 4176, 'blur': 4177, 'being': 4178, 'common': 4179, 'circumstance': 4180, 'sequence': 4181, 'fremen': 4182, 'eastern': 4183, 'orientalism': 4184, 'colonization': 4185, 'urbex': 4186, 'lara': 4187, 'excavate': 4188, 'former': 4189, 'olympic': 4190, 'village': 4191, 'missile': 4192, 'silos': 4193, 'sidestep': 4194, 'colonialism': 4195, 'femboy': 4196, 'mindful': 4197, 'cissexist': 4198, 'anthropologist': 4199, 'uncritically': 4200, 'empathy': 4201, 'mimetic': 4202, 'function': 4203, 'reinstate': 4204, 'flavor': 4205, 'throughout': 4206, 'ontological': 4207, 'aesthetic': 4208, 'exotic': 4209, 'antiblack': 4210, 'icymi': 4211, 'dodgy': 4212, 'relentless': 4213, 'bizarre': 4214, 'stoat': 4215, 'clavell': 4216, 'shogun': 4217, 'glorify': 4218, 'fetishization': 4219, 'ram': 4220, 'boat': 4221, 'africa': 4222, 'socially': 4223, 'professional': 4224, 'journalism': 4225, 'twee': 4226, 'entertain': 4227, 'strange': 4228, 'condescension': 4229, 'representation': 4230, 'mere': 4231, 'explanation': 4232, 'drum': 4233, 'psychotherapy': 4234, 'crap': 4235, 'useless': 4236, 'depression': 4237, 'sunbathe': 4238, 'oriental': 4239, 'descriptor': 4240, 'squicky': 4241, 'outdated': 4242, 'concept': 4243, 'location': 4244, 'surprising': 4245, 'honour': 4246, 'psychotic': 4247, 'symptom': 4248, 'hardtoimagine': 4249, 'experiencesi': 4250, 'lxp': 4251, 'coopte': 4252, 'hobby': 4253, 'kno': 4254, 'anger': 4255, 'wit': 4256, 'premisejosephine': 4257, 'capitalize': 4258, 'ambiguitycolorist': 4259, 'available': 4260, 'darker': 4261, 'entertainersthis': 4262, 'delf': 4263, 'wher': 4264, 'crole': 4265, 'neglect': 4266, 'usurper': 4267, 'enamor': 4268, 'master': 4269, 'harsh': 4270, 'wyt': 4271, 'savior': 4272, 'chocolate': 4273, 'exhibition': 4274, 'zoo': 4275, 'output': 4276, 'japan': 4277, 'presuppose': 4278, 'euus': 4279, 'bid': 4280, 'famous': 4281, 'curve': 4282, 'resurge': 4283, 'compound': 4284, 'supplement': 4285, 'enhance': 4286, 'regenerate': 4287, 'metabolism': 4288, 'fiance': 4289, 'rip': 4290, 'honorary': 4291, 'doink': 4292, 'likelihood': 4293, 'tickle': 4294, 'vaccinate': 4295, 'virus': 4296, 'unvaxxed': 4297, 'infect': 4298, 'vitamin': 4299, 'exercise': 4300, 'realistically': 4301, 'cookie': 4302, 'tit': 4303, 'bullying': 4304, 'masse': 4305, 'metabolic': 4306, 'confusion': 4307, 'intake': 4308, 'hormone': 4309, 'estrogenhormone': 4310, 'replacement': 4311, 'vegetarian': 4312, 'protein': 4313, 'thisvegan': 4314, 'bean': 4315, 'ounce': 4316, 'meat': 4317, 'calorie': 4318, 'darkskin': 4319, 'perceive': 4320, 'semilong': 4321, 'acrylic': 4322, 'foreign': 4323, 'communication': 4324, 'pr': 4325, 'promotion': 4326, 'hungry': 4327, 'accidentally': 4328, 'bottle': 4329, 'cucumber': 4330, 'ngl': 4331, 'lmfaooo': 4332, 'yeaaaaa': 4333, 'ot': 4334, 'eliminate': 4335, 'bothersome': 4336, 'recondition': 4337, 'health': 4338, 'cowboy': 4339, 'mccarthy': 4340, 'sixth': 4341, 'presnap': 4342, 'boil': 4343, 'syk': 4344, 'gordon': 4345, 'gordo': 4346, 'spanish': 4347, 'perfection': 4348, 'overfeed': 4349, 'protagonist': 4350, 'customization': 4351, 'priest': 4352, 'robe': 4353, 'triangular': 4354, 'boob': 4355, 'patch': 4356, 'later': 4357, 'hallucinate': 4358, 'cuddle': 4359, 'weatherme': 4360, 'ishim': 4361, 'aloneme': 4362, 'suckand': 4363, 'minah': 4364, 'kkab': 4365, 'jokwon': 4366, 'viera': 4367, 'againmaybe': 4368, 'feelbut': 4369, 'intersexmany': 4370, 'disingenuous': 4371, 'agenda': 4372, 'intersex': 4373, 'collaborate': 4374, 'musician': 4375, 'yemi': 4376, 'alade': 4377, 'boyle': 4378, 'margret': 4379, 'atwood': 4380, 'paolo': 4381, 'bacigalupi': 4382, 'cory': 4383, 'doctorow': 4384, 'marginalized': 4385, 'viewpoint': 4386, 'youtuber': 4387, 'suuuuck': 4388, 'collab': 4389, 'commentator': 4390, 'unaltered': 4391, 'german': 4392, 'shepherd': 4393, 'approximately': 4394, 'shania': 4395, 'twain': 4396, 'womanterfs': 4397, 'brainwash': 4398, 'manidentifyingwoman': 4399, 'statistically': 4400, 'lighten': 4401, 'emotional': 4402, 'feminazi': 4403, 'killer': 4404, 'breakwill': 4405, 'finish': 4406, 'slasher': 4407, 'propaganda': 4408, 'ship': 4409, 'straighthomophobicship': 4410, 'homosexualyoure': 4411, 'fetishize': 4412, 'peopleask': 4413, 'incelask': 4414, 'womenfeminazilike': 4415, 'fictional': 4416, 'uptight': 4417, 'womyn': 4418, 'outrageous': 4419, 'lispbut': 4420, 'unironically': 4421, 'leverage': 4422, 'noveltywoman': 4423, 'willingly': 4424, 'enormous': 4425, 'penise': 4426, 'themi': 4427, 'profit': 4428, 'electric': 4429, 'haired': 4430, 'scream': 4431, 'abc': 4432, 'squad': 4433, 'dutton': 4434, 'albo': 4435, 'ageit': 4436, 'tacky': 4437, 'creepy': 4438, 'suguha': 4439, 'sao': 4440, 'leafa': 4441, 'fffffffuck': 4442, 'offanother': 4443, 'sol': 4444, 'marron': 4445, 'lord': 4446, 'series': 4447, 'clover': 4448, 'soy': 4449, 'boi': 4450, 'choiceher': 4451, 'nasty': 4452, 'ruin': 4453, 'allwhere': 4454, 'unleash': 4455, 'twerp': 4456, 'scold': 4457, 'fully': 4458, 'five': 4459, 'tone': 4460, 'impinge': 4461, 'youtoo': 4462, 'soviet': 4463, 'emasculation': 4464, 'testosterone': 4465, 'rush': 4466, 'limbaugh': 4467, 'moe': 4468, 'thief': 4469, 'endsar': 4470, 'tl': 4471, 'lioness': 4472, 'amd': 4473, 'brush': 4474, 'outa': 4475, 'wey': 4476, 'headnahhsomethe': 4477, 'sexisthomophobetransphobic': 4478, 'nazi': 4479, 'feb': 4480, 'betty': 4481, 'friedans': 4482, 'mystique': 4483, 'cinderella': 4484, 'snow': 4485, 'embark': 4486, 'journey': 4487, 'bookish': 4488, 'friedan': 4489, 'russell': 4490, 'hoban': 4491, 'stewart': 4492, 'onan': 4493, 'neal': 4494, 'asher': 4495, 'skinner': 4496, 'mackinlay': 4497, 'kantor': 4498, 'andersonville': 4499, 'loud': 4500, 'offputting': 4501, 'ricardo': 4502, 'wishlistthe': 4503, 'friedanthe': 4504, 'sylvia': 4505, 'plaththe': 4506, 'polarity': 4507, 'alan': 4508, 'wattsspaceman': 4509, 'bohemia': 4510, 'jaroslav': 4511, 'kalfarroadside': 4512, 'picnic': 4513, 'arkady': 4514, 'boris': 4515, 'strugatskyhard': 4516, 'strugatsky': 4517, 'hip': 4518, 'candle': 4519, 'mystiqueor': 4520, 'oat': 4521, 'milk': 4522, 'latte': 4523, 'dairy': 4524, 'cream': 4525, 'provide': 4526, 'amusement': 4527, 'adultery': 4528, 'prophetically': 4529, 'antithesis': 4530, 'fifty': 4531, 'shade': 4532, 'grey': 4533, 'nothingtohide': 4534, 'assplante': 4535, 'shop': 4536, 'elie': 4537, 'saab': 4538, 'readytowear': 4539, 'evo': 4540, 'plath': 4541, 'effective': 4542, 'flirting': 4543, 'besides': 4544, 'shakespearean': 4545, 'rapping': 4546, 'ban': 4547, 'quietly': 4548, 'valium': 4549, 'lunchtime': 4550, 'incredibly': 4551, 'riff': 4552, 'mgcs': 4553, 'dior': 4554, 'sloganeer': 4555, 'hollow': 4556, 'whichin': 4557, 'movementwell': 4558, 'proletarian': 4559, 'soc': 4560, 'rea': 4561, 'manly': 4562, 'manthat': 4563, 'feminismbut': 4564, 'interpret': 4565, 'differently': 4566, 'fir': 4567, 'movt': 4568, 'invalidate': 4569, 'fashy': 4570, 'shitmy': 4571, 'grandma': 4572, 'lend': 4573, 'manifestobook': 4574, 'radsanger': 4575, 'eugenic': 4576, 'rec': 4577, 'forgivablei': 4578, 'screw': 4579, 'shark': 4580, 'bite': 4581, 'riot': 4582, 'suburan': 4583, 'punk': 4584, 'pave': 4585, 'pussy': 4586, 'grasp': 4587, 'concerned': 4588, 'per': 4589, 'appeal': 4590, 'wellgo': 4591, 'adichie': 4592, 'anddodge': 4593, 'accountabilityi': 4594, 'stance': 4595, 'twirra': 4596, 'femimism': 4597, 'swift': 4598, 'flavour': 4599, 'pacino': 4600, 'dense': 4601, 'further': 4602, 'peaceful': 4603, 'supporter': 4604, 'womenfolk': 4605, 'whom': 4606, 'flat': 4607, 'womans': 4608, 'revolve': 4609, 'hamiltoni': 4610, 'progressive': 4611, 'wrestler': 4612, 'peddle': 4613, 'selfserve': 4614, 'ew': 4615, 'indulge': 4616, 'relevant': 4617, 'prescient': 4618, 'confused': 4619, 'information': 4620, 'interaction': 4621, 'lgbt': 4622, 'biologically': 4623, 'terf': 4624, 'constructchapelle': 4625, 'crass': 4626, 'tshirt': 4627, 'classist': 4628, 'hooks': 4629, 'primer': 4630, 'theorist': 4631, 'selfe': 4632, 'proper': 4633, 'buffer': 4634, 'cult': 4635, 'ultrafeminism': 4636, 'western': 4637, 'extremist': 4638, 'necessarily': 4639, 'aboutfeminism': 4640, 'institutionalise': 4641, 'nadia': 4642, 'ngo': 4643, 'datum': 4644, 'gov': 4645, 'perpetuate': 4646, 'evangelilical': 4647, 'sponsor': 4648, 'sic': 4649, 'organise': 4650, 'catholism': 4651, 'flock': 4652, 'identity': 4653, 'presumption': 4654, 'useful': 4655, 'profoundly': 4656, 'speaker': 4657, 'transparent': 4658, 'sympathise': 4659, 'transsexual': 4660, 'lesbianism': 4661, 'colonize': 4662, 'demiboy': 4663, 'gate': 4664, 'tightly': 4665, 'ke': 4666, 'angry': 4667, 'leftwe': 4668, 'successful': 4669, 'attach': 4670, 'subservient': 4671, 'femalefirst': 4672, 'confident': 4673, 'pack': 4674, 'scare': 4675, 'jfc': 4676, 'celia': 4677, 'clan': 4678, 'ie': 4679, 'anahi': 4680, 'aliciain': 4681, 'alicia': 4682, 'vomit': 4683, 'unprovoked': 4684, 'anybody': 4685, 'blocklist': 4686, 'afghankabul': 4687, 'unshaven': 4688, 'armpit': 4689, 'imhothe': 4690, 'noncitizen': 4691, 'victimise': 4692, 'disrespect': 4693, 'doocys': 4694, 'vapor': 4695, 'mfer': 4696, 'darkskinne': 4697, 'racially': 4698, 'ambiguous': 4699, 'childrenwhich': 4700, 'namjoon': 4701, 'verify': 4702, 'korean': 4703, 'antifeminist': 4704, 'countryremember': 4705, 'happeni': 4706, 'christian': 4707, 'antitran': 4708, 'antireproductive': 4709, 'feminization': 4710, 'resistance': 4711, 'reclaim': 4712, 'affective': 4713, 'indefinite': 4714, 'counterstrategy': 4715, 'activismby': 4716, 'asl': 4717, 'vatansever': 4718, 'guytbh': 4719, 'armys': 4720, 'rotten': 4721, 'interrupt': 4722, 'sissy': 4723, 'bareback': 4724, 'scene': 4725, 'feminized': 4726, 'stud': 4727, 'forced': 4728, 'midwest': 4729, 'dire': 4730, 'robust': 4731, 'thirst': 4732, 'quenching': 4733, 'milki': 4734, 'chug': 4735, 'quart': 4736, 'water': 4737, 'kidney': 4738, 'stone': 4739, 'monster': 4740, 'plane': 4741, 'facial': 4742, 'surgery': 4743, 'insanely': 4744, 'expensive': 4745, 'mmmm': 4746, 'denki': 4747, 'fucky': 4748, 'barbell': 4749, 'butt': 4750, 'bakubussy': 4751, 'display': 4752, 'crystal': 4753, 'doorsbut': 4754, 'deffo': 4755, 'cent': 4756, 'validation': 4757, 'developmental': 4758, 'jule': 4759, 'sexualize': 4760, 'infatuation': 4761, 'hyper': 4762, 'fansper': 4763, 'purchase': 4764, 'subscription': 4765, 'schedule': 4766, 'updatetomorrow': 4767, 'makeup': 4768, 'hoop': 4769, 'ehs': 4770, 'lillet': 4771, 'prayer': 4772, 'erotica': 4773, 'express': 4774, 'bumper': 4775, 'sticker': 4776, 'multiple': 4777, 'peeker': 4778, 'vehicle': 4779, 'originally': 4780, 'northern': 4781, 'mn': 4782, 'mechanical': 4783, 'mtu': 4784, 'houghton': 4785, 'minnesota': 4786, 'automotive': 4787, 'maskanyone': 4788, 'suppress': 4789, 'puzzle': 4790, 'sumn': 4791, 'blank': 4792, 'yoruba': 4793, 'idrk': 4794, 'dolby': 4795, 'synth': 4796, 'foreigner': 4797, 'sympathy': 4798, 'fee': 4799, 'medicalvery': 4800, 'itman': 4801, 'dady': 4802, 'unusual': 4803, 'postpone': 4804, 'note': 4805, 'exam': 4806, 'infection': 4807, 'severe': 4808, 'lymphedema': 4809, 'swab': 4810, 'adam': 4811, 'sally': 4812, 'rey': 4813, 'implode': 4814, 'noah': 4815, 'selfishness': 4816, 'rescue': 4817, 'disrespectful': 4818, 'yearn': 4819, 'painfully': 4820, 'ft': 4821, 'general': 4822, 'holder': 4823, 'candidate': 4824, 'herself': 4825, 'financially': 4826, 'homiebut': 4827, 'importantyeah': 4828, 'malnutrition': 4829, 'homiejust': 4830, 'womanit': 4831, 'vigil': 4832, 'officeryour': 4833, 'basiswe': 4834, 'commissioner': 4835, 'barely': 4836, 'socalled': 4837, 'honesty': 4838, 'papayas': 4839, 'imagination': 4840, 'perhaps': 4841, 'starve': 4842, 'chromatica': 4843, 'alice': 4844, 'plastic': 4845, 'replay': 4846, 'meh': 4847, 'shave': 4848, 'loner': 4849, 'fav': 4850, 'wellbiden': 4851, 'weibo': 4852, 'babylon': 4853, 'bree': 4854, 'runway': 4855, 'remix': 4856, 'rina': 4857, 'sawayama': 4858, 'alterlife': 4859, 'cherry': 4860, 'sweeping': 4861, 'dorothy': 4862, 'kirwan': 4863, 'wealthy': 4864, 'landowner': 4865, 'indie': 4866, 'breebylon': 4867, 'flop': 4868, 'dossier': 4869, 'russiagate': 4870, 'hillary': 4871, 'actively': 4872, 'malinda': 4873, 'domestic': 4874, 'cookbook': 4875, 'contain': 4876, 'selection': 4877, 'receipt': 4878, 'historically': 4879, 'america': 4880, 'sophistication': 4881, 'replaygtalicegtbabylongtfree': 4882, 'probation': 4883, 'perfectly': 4884, 'frigid': 4885, 'swing': 4886, 'onondaga': 4887, 'lake': 4888, 'sampling': 4889, 'handy': 4890, 'exposure': 4891, 'suit': 4892, 'usgs': 4893, 'sample': 4894, 'collaboration': 4895, 'upstate': 4896, 'freshwater': 4897, 'invitation': 4898, 'duely': 4899, 'acceptedshe': 4900, 'coldhope': 4901, 'toe': 4902, 'florida': 4903, 'crochet': 4904, 'sec': 4905, 'creamy': 4906, 'row': 4907, 'original': 4908, 'themed': 4909, 'smash': 4910, 'pallet': 4911, 'project': 4912, 'mastermind': 4913, 'brainfreeze': 4914, 'stake': 4915, 'mystify': 4916, 'belinda': 4917, 'bum': 4918, 'graze': 4919, 'proactive': 4920, 'joyous': 4921, 'return': 4922, 'bound': 4923, 'snowchester': 4924, 'sensation': 4925, 'cold': 4926, 'chill': 4927, 'quarter': 4928, 'centurya': 4929, 'wooden': 4930, 'winter': 4931, 'summer': 4932, 'desert': 4933, 'cloud': 4934, 'air': 4935, 'spring': 4936, 'sometime': 4937, 'darkness': 4938, 'lightprotector': 4939, 'dom': 4940, 'mountain': 4941, 'bend': 4942, 'bj': 4943, 'wane': 4944, 'awwww': 4945, 'dropping': 4946, 'outskirt': 4947, 'temperature': 4948, 'siouxland': 4949, 'overnight': 4950, 'arctic': 4951, 'spill': 4952, 'gust': 4953, 'mph': 4954, 'forecast': 4955, 'gtgt': 4956, 'section': 4957, 'fill': 4958, 'witty': 4959, 'lonely': 4960, 'tap': 4961, 'temp': 4962, 'range': 4963, 'digit': 4964, 'south': 4965, 'ontario': 4966, 'minus': 4967, 'interior': 4968, 'protection': 4969, 'clothing': 4970, 'outdoors': 4971, 'palace': 4972, 'frantically': 4973, 'forest': 4974, 'ice': 4975, 'cunt': 4976, 'breakout': 4977, 'ed': 4978, 'varg': 4979, 'dasha': 4980, 'polar': 4981, 'juno': 4982, 'ltlt': 4983, 'bhole': 4984, 'outraged': 4985, 'fuckery': 4986, 'optic': 4987, 'columbus': 4988, 'genova': 4989, 'lollll': 4990, 'ahahhaha': 4991, 'cuntim': 4992, 'stl': 4993, 'task': 4994, 'fellow': 4995, 'maskless': 4996, 'coughing': 4997, 'hack': 4998, 'chick': 4999, 'tolerate': 5000, 'diamond': 5001, 'rough': 5002, 'lolz': 5003, 'joffy': 5004, 'lick': 5005, 'poubd': 5006, 'throat': 5007, 'fucker': 5008, 'scroll': 5009, 'thru': 5010, 'ao': 5011, 'ranchu': 5012, 'fic': 5013, 'ranpo': 5014, 'gangbange': 5015, 'chuuyas': 5016, 'subordinate': 5017, 'horrify': 5018, 'sakura': 5019, 'bbc': 5020, 'ebony': 5021, 'spinner': 5022, 'dp': 5023, 'titans': 5024, 'spongebob': 5025, 'gettinf': 5026, 'motherfuker': 5027, 'extremely': 5028, 'heu': 5029, 'muzzie': 5030, 'jew': 5031, 'bazi': 5032, 'attend': 5033, 'cumdumpget': 5034, 'holly': 5035, 'hotwife': 5036, 'booster': 5037, 'decepticon': 5038, 'strocke': 5039, 'allguyshost': 5040, 'straighthad': 5041, 'cum': 5042, 'cumhole': 5043, 'surprisedamp': 5044, 'pleasedeven': 5045, 'amplight': 5046, 'knowing': 5047, 'blindfold': 5048, 'ampbre': 5049, 'manam': 5050, 'efficient': 5051, 'cutie': 5052, 'czech': 5053, 'porngirl': 5054, 'deku': 5055, 'omega': 5056, 'lrt': 5057, 'panel': 5058, 'shared': 5059, 'bath': 5060, 'disgustingthen': 5061, 'proceed': 5062, 'gangbanged': 5063, 'crypto': 5064, 'california': 5065, 'senator': 5066, 'propose': 5067, 'collect': 5068, 'effectively': 5069, 'emphasis': 5070, 'inclusion': 5071, 'diversity': 5072, 'trainee': 5073, 'lunch': 5074, 'opening': 5075, 'keynote': 5076, 'clancy': 5077, 'conference': 5078, 'segregate': 5079, 'employee': 5080, 'ivory': 5081, 'bias': 5082, 'uniform': 5083, 'intercourse': 5084, 'palatable': 5085, 'syndrome': 5086, 'examination': 5087, 'malemajority': 5088, 'campus': 5089, 'cundiff': 5090, 'coincidentally': 5091, 'sel': 5092, 'pride': 5093, 'documentary': 5094, 'senior': 5095, 'ohh': 5096, 'onset': 5097, 'likely': 5098, 'womenfrom': 5099, 'preventative': 5100, 'sexgender': 5101, 'sexualgender': 5102, 'misconduct': 5103, 'datingdomestic': 5104, 'stalk': 5105, 'cracker': 5106, 'targeted': 5107, 'chanel': 5108, 'suggs': 5109, 'title': 5110, 'odd': 5111, 'overcome': 5112, 'battlefield': 5113, 'paediatrician': 5114, 'shethey': 5115, 'paediatric': 5116, 'shoehorn': 5117, 'curriculum': 5118, 'lessonsyeeehaw': 5119, 'wholeheartedly': 5120, 'victory': 5121, 'lap': 5122, 'spike': 5123, 'zonei': 5124, 'concede': 5125, 'newsworthy': 5126, 'mr': 5127, 'potato': 5128, 'agender': 5129, 'correlation': 5130, 'racegender': 5131, 'homophobictransphobic': 5132, 'secretly': 5133, 'internalize': 5134, 'outward': 5135, 'sexualitygender': 5136, 'withso': 5137, 'nonconforme': 5138, 'fashion': 5139, 'fluid': 5140, 'reminder': 5141, 'pp': 5142, 'mfe': 5143, 'gendere': 5144, 'expectation': 5145, 'objectiongender': 5146, 'distinct': 5147, 'jessie': 5148, 'nelson': 5149, 'offensive': 5150, 'minimize': 5151, 'sweetie': 5152, 'sweetheart': 5153, 'honey': 5154, 'traditionally': 5155, 'femme': 5156, 'erase': 5157, 'overwrite': 5158, 'affect': 5159, 'coercively': 5160, 'impose': 5161, 'consent': 5162, 'caveat': 5163, 'style': 5164, 'engage': 5165, 'whatadditionally': 5166, 'rigid': 5167, 'pair': 5168, 'reasoning': 5169, 'nirvana': 5170, 'blatantly': 5171, 'rude': 5172, 'halfclosed': 5173, 'rid': 5174, 'rat': 5175, 'unfollowe': 5176, 'singing': 5177, 'basketball': 5178, 'societal': 5179, 'peer': 5180, 'sudden': 5181, 'ww': 5182, 'grandfather': 5183, 'housemy': 5184, 'washing': 5185, 'gathering': 5186, 'costume': 5187, 'weirdo': 5188, 'formalize': 5189, 'backward': 5190, 'regressive': 5191, 'selfcare': 5192, 'paleopartitione': 5193, 'philiacs': 5194, 'harry': 5195, 'vogue': 5196, 'stereotype': 5197, 'bear': 5198, 'determination': 5199, 'generally': 5200, 'genitalia': 5201, 'identifier': 5202, 'appearance': 5203, 'cement': 5204, 'dinosaur': 5205, 'deconstruct': 5206, 'heteronormativity': 5207, 'moneydebt': 5208, 'inflation': 5209, 'climate': 5210, 'overpopulation': 5211, 'inflate': 5212, 'changeirrespective': 5213, 'gossip': 5214, 'simpe': 5215, 'yankees': 5216, 'redsox': 5217, 'playoff': 5218, 'mkbl': 5219, 'circus': 5220, 'rte': 5221, 'amy': 5222, 'humberman': 5223, 'cosmic': 5224, 'brownie': 5225, 'loli': 5226, 'nutty': 5227, 'dani': 5228, 'horse': 5229, 'emma': 5230, 'efficiency': 5231, 'lip': 5232, 'shades': 5233, 'sunray': 5234, 'daysim': 5235, 'immaculate': 5236, 'salty': 5237, 'fritolays': 5238, 'geha': 5239, 'mahome': 5240, 'cheetah': 5241, 'maze': 5242, 'uncle': 5243, 'recover': 5244, 'gunman': 5245, 'twenty': 5246, 'fariah': 5247, 'marcellus': 5248, 'gone': 5249, 'pppl': 5250, 'ik': 5251, 'accomplish': 5252, 'cull': 5253, 'shout': 5254, 'pastor': 5255, 'offering': 5256, 'tithe': 5257, 'complain': 5258, 'complaindid': 5259, 'artist': 5260, 'artistry': 5261, 'disgust': 5262, 'plainly': 5263, 'r': 5264, 'therebut': 5265, 'hnata': 5266, 'stans': 5267, 'x': 5268, 'escape': 5269, 'harasser': 5270, 'psychos': 5271, 'truefender': 5272, 'feh': 5273, 'dancer': 5274, 'pony': 5275, 'satanic': 5276, 'themtire': 5277, 'congrat': 5278, 'kep': 5279, 'kepe': 5280, 'keper': 5281, 'debutation': 5282, 'mindset': 5283, 'grand': 5284, 'slam': 5285, 'solid': 5286, 'tnt': 5287, 'fl': 5288, 'nepotism': 5289, 'nepo': 5290, 'liza': 5291, 'minelli': 5292, 'barrymore': 5293, 'carrie': 5294, 'gwyneth': 5295, 'paltrow': 5296, 'properly': 5297, 'sis': 5298, 'halloween': 5299, 'rap': 5300, 'freestyle': 5301, 'whoever': 5302, 'msut': 5303, 'physics': 5304, 'tounge': 5305, 'furious': 5306, 'johnny': 5307, 'depp': 5308, 'sideand': 5309, 'havedoesnt': 5310, 'happensno': 5311, 'klopp': 5312, 'pep': 5313, 'vibesshe': 5314, 'bhululu': 5315, 'wealth': 5316, 'gtfo': 5317, 'amber': 5318, 'suzette': 5319, 'chemistry': 5320, 'kurt': 5321, 'carolyn': 5322, 'doc': 5323, 'tendency': 5324, 'fumble': 5325, 'beach': 5326, 'ikr': 5327, 'bahahah': 5328, 'prince': 5329, 'wifeshe': 5330, 'opportunist': 5331, 'manipulate': 5332, 'estrange': 5333, 'duty': 5334, 'heartless': 5335, 'honorable': 5336, 'brownso': 5337, 'surprise': 5338, 'golddigger': 5339, 'defence': 5340, 'unte': 5341, 'shitstain': 5342, 'prob': 5343, 'ohhhhh': 5344, 'grab': 5345, 'omo': 5346, 'ooo': 5347, 'shoe': 5348, 'sandal': 5349, 'cranberry': 5350, 'melt': 5351, 'jess': 5352, 'areif': 5353, 'incase': 5354, 'groupchat': 5355, 'photographerbeomgyu': 5356, 'muse': 5357, 'kai': 5358, 'soobinjust': 5359, 'p': 5360, 'arena': 5361, 'intermission': 5362, 'rlly': 5363, 'wallet': 5364, 'popcorn': 5365, 'uninformed': 5366, 'rhetorici': 5367, 'newsbreak': 5368, 'buckman': 5369, 'gunstock': 5370, 'showcase': 5371, 'grind': 5372, 'streaming': 5373, 'neck': 5374, 'twirl': 5375, 'wala': 5376, 'ngang': 5377, 'deliver': 5378, 'hundred': 5379, 'wl': 5380, 'iot': 5381, 'transformation': 5382, 'coffeegrab': 5383, 'settlein': 5384, 'pakistani': 5385, 'pakistan': 5386, 'imran': 5387, 'choor': 5388, 'coverage': 5389, 'albuquerque': 5390, 'marjorie': 5391, 'greene': 5392, 'louie': 5393, 'gohmert': 5394, 'warden': 5395, 'rioter': 5396, 'titanfall': 5397, 'halo': 5398, 'nowhere': 5399, 'uncanny': 5400, 'edgy': 5401, 'dudebro': 5402, 'workshopper': 5403, 'dmca': 5404, 'copyright': 5405, 'fb': 5406, 'coordinate': 5407, 'suspending': 5408, 'unfortunate': 5409, 'beside': 5410, 'colleague': 5411, 'greg': 5412, 'imma': 5413, 'copypaste': 5414, 'everytime': 5415, 'deffend': 5416, 'pplyou': 5417, 'mobile': 5418, 'spam': 5419, 'waffle': 5420, 'guru': 5421, 'complaint': 5422, 'modder': 5423, 'nonstop': 5424, 'rationally': 5425, 'youi': 5426, 'enrage': 5427, 'workschool': 5428, 'sickie': 5429, 'flu': 5430, 'fatal': 5431, 'contagiously': 5432, 'flower': 5433, 'simulation': 5434, 'deflect': 5435, 'creatorsure': 5436, 'disable': 5437, 'robot': 5438, 'pervert': 5439, 'armed': 5440, 'hegemony': 5441, 'fixture': 5442, 'tension': 5443, 'resultus': 5444, 'econmy': 5445, 'loathe': 5446, 'americas': 5447, 'foundation': 5448, 'geopolitic': 5449, 'template': 5450, 'advance': 5451, 'russias': 5452, 'labour': 5453, 'constituency': 5454, 'karachi': 5455, 'pak': 5456, 'bengalis': 5457, 'forcibly': 5458, 'merge': 5459, 'snatch': 5460, 'martha': 5461, 'karua': 5462, 'laughable': 5463, 'mt': 5464, 'kenya': 5465, 'entitlement': 5466, 'reagan': 5467, 'gingrich': 5468, 'mcconnell': 5469, 'murdoch': 5470, 'fu': 5471, 'outcome': 5472, 'bus': 5473, 'overhear': 5474, 'bourgeoiscultural': 5475, 'glimpse': 5476, 'downtrodden': 5477, 'feed': 5478, 'illtreate': 5479, 'militaryactually': 5480, 'demonstration': 5481, 'sitin': 5482, 'kinsman': 5483, 'vision': 5484, 'hegemonywhat': 5485, 'land': 5486, 'engineer': 5487, 'lifestyle': 5488, 'uswe': 5489, 'ruler': 5490, 'worldu': 5491, 'centre': 5492, 'multicultural': 5493, 'hideousness': 5494, 'mechanization': 5495, 'messaging': 5496, 'goof': 5497, 'literacy': 5498, 'hamper': 5499, 'corrective': 5500, 'epistemological': 5501, 'warsaw': 5502, 'liberalism': 5503, 'contradict': 5504, 'hunger': 5505, 'poland': 5506, 'ryszard': 5507, 'legutko': 5508, 'casterly': 5509, 'rock': 5510, 'immense': 5511, 'capital': 5512, 'appear': 5513, 'tywin': 5514, 'tyrant': 5515, 'amadudu': 5516, 'historyherstory': 5517, 'vawg': 5518, 'contestant': 5519, 'herstory': 5520, 'wells': 5521, 'fargo': 5522, 'pennsylvania': 5523, 'spoiler': 5524, 'kylie': 5525, 'rajah': 5526, 'historian': 5527, 'victoryodd': 5528, 'dahlia': 5529, 'placer': 5530, 'align': 5531, 'gunnersbury': 5532, 'estate': 5533, 'bawl': 5534, 'aux': 5535, 'femmes': 5536, 'patrie': 5537, 'reconnaissante': 5538, 'fm': 5539, 'wvstfm': 5540, 'vsus': 5541, 'weekly': 5542, 'wjennifer': 5543, 'williamson': 5544, 'crater': 5545, 'dept': 5546, 'hart': 5547, 'chloe': 5548, 'edwards': 5549, 'analyst': 5550, 'childrenracial': 5551, 'campaign': 5552, 'harris': 5553, 'briefly': 5554, 'presidency': 5555, 'instruction': 5556, 'hexen': 5557, 'transform': 5558, 'pioneer': 5559, 'authenticity': 5560, 'validity': 5561, 'courage': 5562, 'conviction': 5563, 'ressa': 5564, 'nobel': 5565, 'prizewe': 5566, 'press': 5567, 'tuesday': 5568, 'edition': 5569, 'commotion': 5570, 'beckon': 5571, 'alpine': 5572, 'refuge': 5573, 'confine': 5574, 'bedroom': 5575, 'arch': 5576, 'stretch': 5577, 'absorb': 5578, 'unfold': 5579, 'ownhand': 5580, 'settle': 5581, 'brow': 5582, 'stammering': 5583, 'moan': 5584, 'motif': 5585, 'jacket': 5586, 'tie': 5587, 'hipsher': 5588, 'pencil': 5589, 'sketch': 5590, 'drawing': 5591, 'eleanor': 5592, 'motorcycle': 5593, 'somebody': 5594, 'widen': 5595, 'coyote': 5596, 'giddy': 5597, 'excitment': 5598, 'hoseok': 5599, 'slide': 5600, 'squeeze': 5601, 'cassandras': 5602, 'smirk': 5603, 'peck': 5604, 'shoulder': 5605, 'tiny': 5606, 'dorito': 5607, 'tilt': 5608, 'deepen': 5609, 'dig': 5610, 'aid': 5611, 'keibo': 5612, 'tend': 5613, 'tragedy': 5614, 'dak': 5615, 'bowl': 5616, 'receiver': 5617, 'draft': 5618, 'thrower': 5619, 'ankle': 5620, 'wrist': 5621, 'thigh': 5622, 'hips': 5623, 'dnt': 5624, 'rapistchris': 5625, 'womentekashi': 5626, 'snitch': 5627, 'biggie': 5628, 'fatall': 5629, 'rapper': 5630, 'travis': 5631, 'scott': 5632, 'alse': 5633, 'hypocrite': 5634, 'mannerism': 5635, 'worrisomehe': 5636, 'themand': 5637, 'stupidity': 5638, 'buck': 5639, 'tailgate': 5640, 'choke': 5641, 'hardly': 5642, 'scrawny': 5643, 'sayit': 5644, 'faultwhy': 5645, 'stayyou': 5646, 'angrywhen': 5647, 'gf': 5648, 'slap': 5649, 'angryyoure': 5650, 'chain': 5651, 'hog': 5652, 'retweete': 5653, 'clip': 5654, 'jose': 5655, 'credible': 5656, 'accusation': 5657, 'kevin': 5658, 'timing': 5659, 'asleep': 5660, 'envelope': 5661, 'sleepy': 5662, 'himbo': 5663, 'halfdecency': 5664, 'proabuse': 5665, 'rhetoric': 5666, 'gasp': 5667, 'congregation': 5668, 'veteran': 5669, 'beloved': 5670, 'awesome': 5671, 'precisely': 5672, 'jabbed': 5673, 'recovery': 5674, 'complication': 5675, 'jung': 5676, 'realistic': 5677, 'aiki': 5678, 'z': 5679, 'poop': 5680, 'homemade': 5681, 'soup': 5682, 'loading': 5683, 'debbie': 5684, 'com': 5685, 'wireless': 5686, 'pta': 5687, 'oop': 5688, 'hahahaha': 5689, 'yeswould': 5690, 'delete': 5691, 'tweetwoman': 5692, 'respond': 5693, 'asap': 5694, 'ethan': 5695, 'thoi': 5696, 'dawg': 5697, 'navi': 5698, 'gronru': 5699, 'contest': 5700, 'barton': 5701, 'clossus': 5702, 'fighter': 5703, 'flesh': 5704, 'metal': 5705, 'freddy': 5706, 'superstar': 5707, 'unnatural': 5708, 'uncivilized': 5709, 'wookie': 5710, 'roommatebroke': 5711, 'unemployed': 5712, 'existthis': 5713, 'faith': 5714, 'swag': 5715, 'gamer': 5716, 'amogus': 5717, 'impatient': 5718, 'herei': 5719, 'undergarment': 5720, 'whrs': 5721, 'percent': 5722, 'achille': 5723, 'fuckit': 5724, 'weeki': 5725, 'twtjesus': 5726, 'gine': 5727, 'vibe': 5728, 'girli': 5729, 'shilpa': 5730, 'mrs': 5731, 'fantasize': 5732, 'astrodomina': 5733, 'darling': 5734, 'soo': 5735, 'jordyn': 5736, 'jones': 5737, 'fineass': 5738, 'aside': 5739, 'crosse': 5740, 'overt': 5741, 'intend': 5742, 'purely': 5743, 'insane': 5744, 'orphan': 5745, 'trauma': 5746, 'foster': 5747, 'gas': 5748, 'chamber': 5749, 'delude': 5750, 'slaughter': 5751, 'allegation': 5752, 'counter': 5753, 'aap': 5754, 'bjp': 5755, 'inc': 5756, 'forefather': 5757, 'forcely': 5758, 'convert': 5759, 'bruise': 5760, 'bigte': 5761, 'religin': 5762, 'essentiality': 5763, 'abr': 5764, 'vapid': 5765, 'billionaire': 5766, 'disparity': 5767, 'problemyour': 5768, 'contrarianism': 5769, 'madinah': 5770, 'corruption': 5771, 'tackle': 5772, 'poverty': 5773, 'educational': 5774, 'anarchist': 5775, 'philosophical': 5776, 'cretin': 5777, 'grifter': 5778, 'lizard': 5779, 'realization': 5780, 'prop': 5781, 'monied': 5782, 'misguided': 5783, 'immerwahr': 5784, 'depth': 5785, 'surround': 5786, 'uh': 5787, 'awaken': 5788, 'transcend': 5789, 'ideological': 5790, 'notorious': 5791, 'diet': 5792, 'mmt': 5793, 'analogue': 5794, 'ideologythe': 5795, 'assertion': 5796, 'debase': 5797, 'perjorative': 5798, 'loser': 5799, 'garbage': 5800, 'transgenderism': 5801, 'orientation': 5802, 'thro': 5803, 'coal': 5804, 'mining': 5805, 'manufacturing': 5806, 'thatcher': 5807, 'vast': 5808, 'expense': 5809, 'erens': 5810, 'found': 5811, 'titan': 5812, 'gqp': 5813, 'planet': 5814, 'earthso': 5815, 'trillion': 5816, 'womens': 5817, 'subvert': 5818, 'countalway': 5819, 'prolife': 5820, 'fetus': 5821, 'israel': 5822, 'rusia': 5823, 'bla': 5824, 'meanwhile': 5825, 'terrorist': 5826, 'colonizer': 5827, 'apartheid': 5828, 'palestinians': 5829, 'bomb': 5830, 'womenkidsbabie': 5831, 'sp': 5832, 'kungcono': 5833, 'kwa': 5834, 'ezo': 5835, 'slay': 5836, 'rosie': 5837, 'station': 5838, 'lifethreatening': 5839, 'emergency': 5840, 'desolation': 5841, 'nikkab': 5842, 'verge': 5843, 'burqa': 5844, 'bodyman': 5845, 'heartbeat': 5846, 'freeze': 5847, 'abduct': 5848, 'rapidly': 5849, 'alot': 5850, 'predator': 5851, 'kidnapkill': 5852, 'wary': 5853, 'wade': 5854, 'safe': 5855, 'babiesit': 5856, 'outrage': 5857, 'nag': 5858, 'length': 5859, 'timeand': 5860, 'positive': 5861, 'mainstream': 5862, 'laddish': 5863, 'outlandish': 5864, 'craic': 5865, 'influencer': 5866, 'amadour': 5867, 'observation': 5868, 'nick': 5869, 'carter': 5870, 'rugby': 5871, 'graham': 5872, 'dean': 5873, 'smith': 5874, 'deano': 5875, 'pink': 5876, 'despise': 5877, 'bigotry': 5878, 'empoweredpink': 5879, 'hue': 5880, 'authoritarian': 5881, 'trivialise': 5882, 'iainhow': 5883, 'officerthe': 5884, 'slip': 5885, 'puppet': 5886, 'indefensible': 5887, 'baddiel': 5888, 'publicly': 5889, 'comedy': 5890, 'forefront': 5891, 'dreadful': 5892, 'football': 5893, 'memorise': 5894, 'nowadays': 5895, 'psychology': 5896, 'leary': 5897, 'psychedelic': 5898, 'utopianism': 5899, 'orchestrate': 5900, 'cut': 5901, 'rod': 5902, 'singe': 5903, 'goodness': 5904, 'heartbreake': 5905, 'huskiness': 5906, 'dishevel': 5907, 'sexiness': 5908, 'celebrity': 5909, 'celebration': 5910, 'ladness': 5911, 'endeavour': 5912, 'camaraderie': 5913, 'oasis': 5914, 'originalthey': 5915, 'clobber': 5916, 'trainer': 5917, 'predecessor': 5918, 'revel': 5919, 'cliched': 5920, 'tabloid': 5921, 'boorish': 5922, 'punchy': 5923, 'upcoke': 5924, 'source': 5925, 'foul': 5926, 'wolfwhistle': 5927, 'lout': 5928, 'warning': 5929, 'reckon': 5930, 'postcard': 5931, 'youladie': 5932, 'comb': 5933, 'roller': 5934, 'chest': 5935, 'payment': 5936, 'hood': 5937, 'ey': 5938, 'bothermy': 5939, 'supportersclientscustomer': 5940, 'menthe': 5941, 'lion': 5942, 'goat': 5943, 'ought': 5944, 'feast': 5945, 'lioni': 5946, 'hustle': 5947, 'broke': 5948, 'statusfocus': 5949, 'thiccbee': 5950, 'clock': 5951, 'bty': 5952, 'weightlifting': 5953, 'necessitate': 5954, 'leg': 5955, 'def': 5956, 'rubbish': 5957, 'oloriburuku': 5958, 'jubjub': 5959, 'rapedhai': 5960, 'guyssome': 5961, 'misuse': 5962, 'powersplease': 5963, 'worldbeside': 5964, 'lawand': 5965, 'retract': 5966, 'boring': 5967, 'girlfriend': 5968, 'motuary': 5969, 'deceive': 5970, 'aye': 5971, 'lover': 5972, 'busty': 5973, 'masc': 5974, 'aerosmith': 5975, 'clack': 5976, 'toy': 5977, 'dis': 5978, 'tha': 5979, 'karaoke': 5980, 'celine': 5981, 'dion': 5982, 'excessive': 5983, 'sweetness': 5984, 'perf': 5985, 'reformulate': 5986, 'thier': 5987, 'batch': 5988, 'projection': 5989, 'jz': 5990, 'manner': 5991, 'er': 5992, 'dawgs': 5993, 'thot': 5994, 'temptation': 5995, 'norman': 5996, 'maneuver': 5997, 'helli': 5998, 'voiceit': 5999, 'womani': 6000, 'definitively': 6001, 'unfair': 6002, 'compete': 6003, 'fauxwomanshe': 6004, 'etcetctec': 6005, 'lana': 6006, 'alltime': 6007, 'lalalala': 6008, 'drain': 6009, 'carpenter': 6010, 'husbandprobably': 6011, 'magical': 6012, 'starman': 6013, 'infantilise': 6014, 'aunt': 6015, 'untangle': 6016, 'backstabbe': 6017, 'doent': 6018, 'whitaker': 6019, 'habit': 6020, 'anew': 6021, 'integrity': 6022, 'scorn': 6023, 'ape': 6024, 'examine': 6025, 'anatomy': 6026, 'physiology': 6027, 'genetic': 6028, 'moaning': 6029, 'pity': 6030, 'shorteramp': 6031, 'frailer': 6032, 'hath': 6033, 'scornedsara': 6034, 'ayleen': 6035, 'mansplaining': 6036, 'intelligent': 6037, 'resurrection': 6038, 'jfk': 6039, 'excel': 6040, 'mansplaine': 6041, 'tooyoure': 6042, 'saidi': 6043, 'tsb': 6044, 'seemingly': 6045, 'thereive': 6046, 'heroic': 6047, 'contribution': 6048, 'whilst': 6049, 'condescend': 6050, 'kuppalli': 6051, 'lawyer': 6052, 'touchy': 6053, 'seeing': 6054, 'sheesh': 6055, 'empty': 6056, 'horror': 6057, 'dim': 6058, 'predictable': 6059, 'cryptocurrency': 6060, 'womanim': 6061, 'heal': 6062, 'practicality': 6063, 'pocket': 6064, 'necessity': 6065, 'tianlangjun': 6066, 'malewife': 6067, 'irrelevant': 6068, 'jews': 6069, 'goysplaine': 6070, 'whitesplaine': 6071, 'tater': 6072, 'prolly': 6073, 'mansplain': 6074, 'specie': 6075, 'genshin': 6076, 'manspreading': 6077, 'boudoir': 6078, 'picsscott': 6079, 'commodity': 6080, 'stefme': 6081, 'comfy': 6082, 'greasy': 6083, 'jackson': 6084, 'wang': 6085, 'photoshoot': 6086, 'manspreade': 6087, 'asshole': 6088, 'blake': 6089, 'throne': 6090, 'jelly': 6091, 'jupiter': 6092, 'sinnoh': 6093, 'remakes': 6094, 'gilmore': 6095, 'guarantee': 6096, 'horncastles': 6097, 'studio': 6098, 'greatly': 6099, 'megan': 6100, 'taehyung': 6101, 'chair': 6102, 'ooh': 6103, 'roommate': 6104, 'nobodys': 6105, 'jeonghan': 6106, 'spicy': 6107, 'sizzle': 6108, 'signal': 6109, 'dominance': 6110, 'jimin': 6111, 'ohmylord': 6112, 'fiction': 6113, 'singleminde': 6114, 'rigour': 6115, 'monopoly': 6116, 'intellectualism': 6117, 'anytime': 6118, 'layoff': 6119, 'bonuswhy': 6120, 'qa': 6121, 'nurture': 6122, 'phil': 6123, 'murphy': 6124, 'ukrainian': 6125, 'talking': 6126, 'mexican': 6127, 'sector': 6128, 'ang': 6129, 'laborer': 6130, 'si': 6131, 'leody': 6132, 'dun': 6133, 'hindi': 6134, 'siya': 6135, 'katulad': 6136, 'ng': 6137, 'ibang': 6138, 'petty': 6139, 'exchange': 6140, 'shelter': 6141, 'lockdown': 6142, 'godgiven': 6143, 'ostracize': 6144, 'nonbeliever': 6145, 'tyranny': 6146, 'vk': 6147, 'captaincyshould': 6148, 'earlierneed': 6149, 'captaincy': 6150, 'toorohit': 6151, 'skipper': 6152, 'youngster': 6153, 'fortunate': 6154, 'evermore': 6155, 'prominent': 6156, 'refugee': 6157, 'sadrist': 6158, 'blocs': 6159, 'prepare': 6160, 'stage': 6161, 'coordination': 6162, 'disseminate': 6163, 'electromagnetic': 6164, 'attackaudio': 6165, 'transmissionremote': 6166, 'neural': 6167, 'monitoring': 6168, 'delusional': 6169, 'carl': 6170, 'disgusted': 6171, 'steve': 6172, 'loyal': 6173, 'dedicated': 6174, 'happyit': 6175, 'che': 6176, 'storyline': 6177, 'fastforward': 6178, 'zillow': 6179, 'hedge': 6180, 'ownership': 6181, 'feasible': 6182, 'corporate': 6183, 'moneyedit': 6184, 'cannabis': 6185, 'pelosi': 6186, 'committee': 6187, 'assignment': 6188, 'intersectionalitydo': 6189, 'roomdo': 6190, 'brb': 6191, 'masturbate': 6192, 'sub': 6193, 'fluster': 6194, 'intently': 6195, 'sirmadame': 6196, 'bg': 6197, 'anxiously': 6198, 'computer': 6199, 'ohoo': 6200, 'shey': 6201, 'abi': 6202, 'wetin': 6203, 'masturbating': 6204, 'communist': 6205, 'heartcommunist': 6206, 'pantry': 6207, 'contentaka': 6208, 'houseplant': 6209, 'projectile': 6210, 'crucifix': 6211, 'nominate': 6212, 'disappoint': 6213, 'clump': 6214, 'sentience': 6215, 'masturbateman': 6216, 'billion': 6217, 'aggressively': 6218, 'perpetually': 6219, 'coward': 6220, 'afternoon': 6221, 'teasing': 6222, 'edging': 6223, 'frustrate': 6224, 'obscure': 6225, 'normalise': 6226, 'deviance': 6227, 'metanarrative': 6228, 'succumb': 6229, 'internal': 6230, 'ample': 6231, 'meta': 6232, 'psychoanalysis': 6233, 'metaverse': 6234, 'clever': 6235, 'metadata': 6236, 'itreade': 6237, 'deltarune': 6238, 'baseless': 6239, 'togethermy': 6240, 'wicked': 6241, 'mechanic': 6242, 'reaffirm': 6243, 'bond': 6244, 'sunset': 6245, 'boulevardmasterpiece': 6246, 'screenplay': 6247, 'gloria': 6248, 'swanson': 6249, 'studioera': 6250, 'hollywood': 6251, 'nuclear': 6252, 'lucrative': 6253, 'politically': 6254, 'expedient': 6255, 'cynically': 6256, 'problematise': 6257, 'asuka': 6258, 'theming': 6259, 'sorta': 6260, 'leapableio': 6261, 'ido': 6262, 'presale': 6263, 'tier': 6264, 'ownersthere': 6265, 'airdrop': 6266, 'token': 6267, 'xlet': 6268, 'complicated': 6269, 'obsessively': 6270, 'fixate': 6271, 'dichotomy': 6272, 'sociology': 6273, 'convincing': 6274, 'simulacrum': 6275, 'posing': 6276, 'resuscitation': 6277, 'transcendental': 6278, 'inscribe': 6279, 'axiomatize': 6280, 'daya': 6281, 'farleft': 6282, 'essentially': 6283, 'fullyarticulated': 6284, 'hidden': 6285, 'aspiration': 6286, 'particular': 6287, 'warlike': 6288, 'indoeuropean': 6289, 'dispatch': 6290, 'cohesive': 6291, 'wes': 6292, 'anderson': 6293, 'concentrated': 6294, 'admonition': 6295, 'pattern': 6296, 'morally': 6297, 'perry': 6298, 'glanzernew': 6299, 'glanzer': 6300, 'cosmologymetanarrative': 6301, 'fate': 6302, 'christianity': 6303, 'ad': 6304, 'infinitum': 6305, 'sentiment': 6306, 'awashilo': 6307, 'noma': 6308, 'rethink': 6309, 'emphasise': 6310, 'casual': 6311, 'interact': 6312, 'observable': 6313, 'nigerian': 6314, 'notoriously': 6315, 'kim': 6316, 'equally': 6317, 'culprit': 6318, 'pig': 6319, 'systemic': 6320, 'whereas': 6321, 'diss': 6322, 'uterus': 6323, 'romanticize': 6324, 'amaze': 6325, 'wholesome': 6326, 'gfwife': 6327, 'elsecant': 6328, 'dresscant': 6329, 'thinkreal': 6330, 'breed': 6331, 'nursery': 6332, 'mps': 6333, 'bowie': 6334, 'collar': 6335, 'speculate': 6336, 'jewelry': 6337, 'autopsy': 6338, 'load': 6339, 'hooter': 6340, 'ridiculousnbc': 6341, 'didmost': 6342, 'thisif': 6343, 'widow': 6344, 'medieval': 6345, 'moon': 6346, 'poo': 6347, 'lift': 6348, 'upgrade': 6349, 'unknowingly': 6350, 'gross': 6351, 'womenthis': 6352, 'bash': 6353, 'chore': 6354, 'worldwhen': 6355, 'bestie': 6356, 'fishing': 6357, 'shirt': 6358, 'joe': 6359, 'goldberg': 6360, 'manif': 6361, 'willow': 6362, 'lecturesmum': 6363, 'mountainsme': 6364, 'silencei': 6365, 'americansmum': 6366, 'silencewell': 6367, 'movedme': 6368, 'singlehandedly': 6369, 'wrestle': 6370, 'cooker': 6371, 'sincerely': 6372, 'temple': 6373, 'happily': 6374, 'commercial': 6375, 'thoughtful': 6376, 'unnecessary': 6377, 'wool': 6378, 'hayi': 6379, 'lama': 6380, 'vet': 6381, 'wenu': 6382, 'zim': 6383, 'dancehall': 6384, 'desperately': 6385, 'needso': 6386, 'souldnt': 6387, 'romantic': 6388, 'rely': 6389, 'teenage': 6390, 'havehad': 6391, 'grid': 6392, 'silverstonei': 6393, 'problematic': 6394, 'mend': 6395, 'wahine': 6396, 'mori': 6397, 'mock': 6398, 'chime': 6399, 'diff': 6400, 'worldthe': 6401, 'wedding': 6402, 'digressive': 6403, 'prey': 6404, 'dripping': 6405, 'vex': 6406, 'thisblah': 6407, 'sleepingnurse': 6408, 'akali': 6409, 'croc': 6410, 'oncology': 6411, 'nurse': 6412, 'mew': 6413, 'humor': 6414, 'increasingly': 6415, 'poke': 6416, 'lifeboat': 6417, 'durable': 6418, 'taxis': 6419, 'retirement': 6420, 'unlocked': 6421, 'bright': 6422, 'mural': 6423, 'appointment': 6424, 'frontline': 6425, 'administer': 6426, 'overweight': 6427, 'hydration': 6428, 'zinc': 6429, 'asapit': 6430, 'availiaple': 6431, 'cali': 6432, 'detox': 6433, 'slovenia': 6434, 'vak': 6435, 'pv': 6436, 'coutesy': 6437, 'heartattacksyoursickchildyourfailingkidneyscarcrashvictimsand': 6438, 'onbecause': 6439, 'trop': 6440, 'medicine': 6441, 'practitioner': 6442, 'vaccination': 6443, 'passport': 6444, 'immunologist': 6445, 'adjust': 6446, 'disclaimer': 6447, 'treatment': 6448, 'anywaysorry': 6449, 'hysteria': 6450, 'irrational': 6451, 'overwhelmed': 6452, 'comply': 6453, 'gene': 6454, 'injection': 6455, 'plandemic': 6456, 'pneumonia': 6457, 'till': 6458, 'softthen': 6459, 'scope': 6460, 'unsupervised': 6461, 'nursing': 6462, 'shortage': 6463, 'supervise': 6464, 'loo': 6465, 'injury': 6466, 'volunteer': 6467, 'vaccinatedour': 6468, 'mission': 6469, 'mednursingscience': 6470, 'smtreade': 6471, 'gently': 6472, 'proven': 6473, 'efficacy': 6474, 'grandmother': 6475, 'cupcake': 6476, 'donut': 6477, 'notgreat': 6478, 'underlie': 6479, 'clinical': 6480, 'nddegree': 6481, 'elderly': 6482, 'unable': 6483, 'accommodate': 6484, 'result': 6485, 'guaranteedpay': 6486, 'yourassignmentsonline': 6487, 'classmathchemistrynursinggeographypsychologysociologyresearch': 6488, 'paperpsychology': 6489, 'duealgebraenglish': 6490, 'studycalculusdm': 6491, 'nowemail': 6492, 'paperswritingprocom': 6493, 'ohio': 6494, 'chinese': 6495, 'sydney': 6496, 'nsw': 6497, 'qualified': 6498, 'carer': 6499, 'pty': 6500, 'ltd': 6501, 'usshe': 6502, 'fave': 6503, 'notify': 6504, 'scrub': 6505, 'notification': 6506, 'tjs': 6507, 'impeached': 6508, 'ps': 6509, 'elder': 6510, 'impeach': 6511, 'pivot': 6512, 'sauce': 6513, 'dip': 6514, 'automatically': 6515, 'benefit': 6516, 'orient': 6517, 'federation': 6518, 'chernobyl': 6519, 'strategic': 6520, 'republicanrefuse': 6521, 'wallace': 6522, 'abbott': 6523, 'mandate': 6524, 'dang': 6525, 'cursed': 6526, 'lul': 6527, 'scarface': 6528, 'soundboard': 6529, 'timedont': 6530, 'ghost': 6531, 'michael': 6532, 'mikemost': 6533, 'tough': 6534, 'marche': 6535, 'looting': 6536, 'occur': 6537, 'collectible': 6538, 'pass': 6539, 'worthless': 6540, 'price': 6541, 'buying': 6542, 'bulk': 6543, 'angular': 6544, 'apparent': 6545, 'canvas': 6546, 'professionally': 6547, 'measure': 6548, 'theodolite': 6549, 'telescope': 6550, 'approximation': 6551, 'objectboy': 6552, 'boyman': 6553, 'giveshare': 6554, 'doublefeaturelover': 6555, 'juco': 6556, 'oxymoron': 6557, 'sensor': 6558, 'betterit': 6559, 'tic': 6560, 'tac': 6561, 'conflate': 6562, 'oneflir': 6563, 'fravordietrichs': 6564, 'visual': 6565, 'submarine': 6566, 'collide': 6567, 'indopacifica': 6568, 'indopacific': 6569, 'doesnot': 6570, 'aerial': 6571, 'mandala': 6572, 'chaitya': 6573, 'dimension': 6574, 'inanimate': 6575, 'rendelshem': 6576, 'objectbottom': 6577, 'circletriangle': 6578, 'bdsm': 6579, 'aftercare': 6580, 'catharsis': 6581, 'objectification': 6582, 'coach': 6583, 'capitalisation': 6584, 'fascinating': 6585, 'banter': 6586, 'hooooly': 6587, 'lyric': 6588, 'mumble': 6589, 'releasecommission': 6590, 'gojirostory': 6591, 'profession': 6592, 'hijabrefusing': 6593, 'persist': 6594, 'marginalisation': 6595, 'esp': 6596, 'slur': 6597, 'spouse': 6598, 'plot': 6599, 'barclub': 6600, 'solely': 6601, 'focused': 6602, 'generate': 6603, 'millionaire': 6604, 'appropriating': 6605, 'sexismobjectification': 6606, 'pose': 6607, 'convince': 6608, 'beauty': 6609, 'lustwhat': 6610, 'sayclick': 6611, 'memo': 6612, 'objectifying': 6613, 'commodifye': 6614, 'creator': 6615, 'hypocrisy': 6616, 'blither': 6617, 'moron': 6618, 'royalty': 6619, 'ruling': 6620, 'commonersthe': 6621, 'oppressedsuch': 6622, 'england': 6623, 'historythe': 6624, 'oppressed': 6625, 'nigerians': 6626, 'median': 6627, 'household': 6628, 'uae': 6629, 'misplace': 6630, 'bentley': 6631, 'shoplifting': 6632, 'anecdote': 6633, 'panic': 6634, 'lifeofitsown': 6635, 'mania': 6636, 'budget': 6637, 'surveillance': 6638, 'shopkeeper': 6639, 'busy': 6640, 'treasury': 6641, 'pension': 6642, 'investor': 6643, 'spyware': 6644, 'nsotell': 6645, 'divest': 6646, 'nso': 6647, 'israeli': 6648, 'org': 6649, 'coalition': 6650, 'gon': 6651, 'peasantry': 6652, 'symbol': 6653, 'imperial': 6654, 'thanksgiving': 6655, 'merlin': 6656, 'dvmb': 6657, 'gwen': 6658, 'uther': 6659, 'cruelty': 6660, 'mlk': 6661, 'produce': 6662, 'extension': 6663, 'censorship': 6664, 'democratic': 6665, 'unconstitutional': 6666, 'censor': 6667, 'persecute': 6668, 'craft': 6669, 'wound': 6670, 'displacement': 6671, 'entitled': 6672, 'politicos': 6673, 'devise': 6674, 'purge': 6675, 'chattel': 6676, 'bayonet': 6677, 'jewss': 6678, 'polen': 6679, 'und': 6680, 'juden': 6681, 'nach': 6682, 'barelkowskikraft': 6683, 'ull': 6684, 'attribute': 6685, 'modest': 6686, 'mass': 6687, 'sexualization': 6688, 'okbut': 6689, 'reward': 6690, 'atleast': 6691, 'martyr': 6692, 'parellel': 6693, 'framing': 6694, 'vaw': 6695, 'sacrifice': 6696, 'patriarchalwhichi': 6697, 'xenophobic': 6698, 'homophobic': 6699, 'rightwe': 6700, 'extremistterrorist': 6701, 'halfwit': 6702, 'lazy': 6703, 'liberallyeducate': 6704, 'rightsor': 6705, 'unproductiveyou': 6706, 'foetus': 6707, 'oncepatriarchal': 6708, 'godback': 6709, 'astonishing': 6710, 'prefer': 6711, 'oppressive': 6712, 'selfloathing': 6713, 'omicron': 6714, 'rational': 6715, 'whileim': 6716, 'selfworth': 6717, 'individualistic': 6718, 'slash': 6719, 'cont': 6720, 'generalwhat': 6721, 'worse': 6722, 'niceness': 6723, 'supreme': 6724, 'gut': 6725, 'ongoing': 6726, 'united': 6727, 'states': 6728, 'theocracy': 6729, 'converge': 6730, 'criminal': 6731, 'barbaric': 6732, 'inhumane': 6733, 'totalitarian': 6734, 'theocratic': 6735, 'east': 6736, 'cr': 6737, 'teamyou': 6738, 'kick': 6739, 'penaltyonce': 6740, 'respectman': 6741, 'creature': 6742, 'bow': 6743, 'joint': 6744, 'organisation': 6745, 'greedremember': 6746, 'enviro': 6747, 'indigenous': 6748, 'manthis': 6749, 'embodiment': 6750, 'leftist': 6751, 'priviledge': 6752, 'threat': 6753, 'oneparty': 6754, 'takeover': 6755, 'depend': 6756, 'inexistent': 6757, 'backsame': 6758, 'inferior': 6759, 'hereone': 6760, 'grizzle': 6761, 'keanu': 6762, 'storywhy': 6763, 'assassin': 6764, 'keychain': 6765, 'fck': 6766, 'lyrically': 6767, 'perspectivemake': 6768, 'abse': 6769, 'participant': 6770, 'podcast': 6771, 'zoom': 6772, 'generational': 6773, 'patriarchys': 6774, 'uncomplicated': 6775, 'alimony': 6776, 'stack': 6777, 'hiv': 6778, 'nd': 6779, 'primary': 6780, 'moreonly': 6781, 'begat': 6782, 'supremacymediocre': 6783, 'stump': 6784, 'patriarchyyoure': 6785, 'refusal': 6786, 'internationalism': 6787, 'actuality': 6788, 'entanglement': 6789, 'inseparability': 6790, 'persecution': 6791, 'gendersexual': 6792, 'superior': 6793, 'cus': 6794, 'accountable': 6795, 'y': 6796, 'becus': 6797, 'womenchildren': 6798, 'jargon': 6799, 'patriarchyim': 6800, 'portia': 6801, 'merchant': 6802, 'venice': 6803, 'books': 6804, 'wollstonecraft': 6805, 'dworkin': 6806, 'butler': 6807, 'lorde': 6808, 'latinoa': 6809, 'prime': 6810, 'elizabeth': 6811, 'warren': 6812, 'nyt': 6813, 'matrilineal': 6814, 'patrilineal': 6815, 'judea': 6816, 'greek': 6817, 'naming': 6818, 'anglicise': 6819, 'dennis': 6820, 'indias': 6821, 'trap': 6822, 'inspire': 6823, 'terrific': 6824, 'eventthank': 6825, 'cyborg': 6826, 'meld': 6827, 'jap': 6828, 'remarkably': 6829, 'consistent': 6830, 'adoptive': 6831, 'heterosexual': 6832, 'surname': 6833, 'respectfully': 6834, 'curious': 6835, 'unconditional': 6836, 'disappear': 6837, 'patriarcal': 6838, 'matriarcal': 6839, 'investigate': 6840, 'distinctive': 6841, 'leopard': 6842, 'jc': 6843, 'jyl': 6844, 'parentage': 6845, 'jfm': 6846, 'tiger': 6847, 'yzy': 6848, 'patrilocal': 6849, 'mongolia': 6850, 'vietnam': 6851, 'arab': 6852, 'catalonia': 6853, 'germany': 6854, 'austria': 6855, 'serbia': 6856, 'albania': 6857, 'bulgaria': 6858, 'bosnia': 6859, 'macedonia': 6860, 'mesoamerican': 6861, 'atheist': 6862, 'sjfkkffkgk': 6863, 'preenlightenment': 6864, 'signifier': 6865, 'bloodline': 6866, 'aristocrat': 6867, 'akin': 6868, 'hornet': 6869, 'nest': 6870, 'sovietemplace': 6871, 'nazarbayev': 6872, 'kazakh': 6873, 'manipulative': 6874, 'anybodys': 6875, 'polititcs': 6876, 'none': 6877, 'gaius': 6878, 'julius': 6879, 'caesar': 6880, 'augustus': 6881, 'decisive': 6882, 'actium': 6883, 'antony': 6884, 'cleopatra': 6885, 'virgil': 6886, 'aeneid': 6887, 'tale': 6888, 'trace': 6889, 'pedigree': 6890, 'italic': 6891, 'mythical': 6892, 'stalwart': 6893, 'trojan': 6894, 'prophesy': 6895, 'messiahking': 6896, 'descendant': 6897, 'usher': 6898, 'davidic': 6899, 'kingschristianitys': 6900, 'messiah': 6901, 'divine': 6902, 'notion': 6903, 'groom': 6904, 'dowry': 6905, 'hebrew': 6906, 'clarifyin': 6907, 'primarily': 6908, 'evolutionary': 6909, 'huntingampgathere': 6910, 'hg': 6911, 'bilocalmultilocal': 6912, 'samesex': 6913, 'agriculture': 6914, 'kps': 6915, 'acephalous': 6916, 'igbo': 6917, 'uburu': 6918, 'ncha': 6919, 'igboeze': 6920, 'neighbour': 6921, 'amasr': 6922, 'edda': 6923, 'reference': 6924, 'relative': 6925, 'deng': 6926, 'register': 6927, 'urban': 6928, 'rachel': 6929, 'dolezal': 6930, 'bourassa': 6931, 'othersthrough': 6932, 'exogamous': 6933, 'manymost': 6934, 'tribessome': 6935, 'pine': 6936, 'lineage': 6937, 'inheritance': 6938, 'bse': 6939, 'heir': 6940, 'dinkahe': 6941, 'childrenin': 6942, 'patrilinealpatrilocal': 6943, 'enlightening': 6944, 'oped': 6945, 'toi': 6946, 'matrilinybut': 6947, 'dominant': 6948, 'mode': 6949, 'yearsand': 6950, 'asia': 6951, 'steppe': 6952, 'origin': 6953, 'piespeake': 6954, 'invader': 6955, 'folklore': 6956, 'awkward': 6957, 'pot': 6958, 'teenager': 6959, 'pageant': 6960, 'worldbuilde': 6961, 'vary': 6962, 'avunlocal': 6963, 'neolocal': 6964, 'matrilocal': 6965, 'indicator': 6966, 'residence': 6967, 'pithy': 6968, 'complicatedsomeone': 6969, 'obfuscate': 6970, 'pithily': 6971, 'actor': 6972, 'justdo': 6973, 'gta': 6974, 'practiceyes': 6975, 'wordthe': 6976, 'imaginary': 6977, 'sole': 6978, 'relegate': 6979, 'prepatriarchal': 6980, 'neolithic': 6981, 'envy': 6982, 'stoller': 6983, 'fulfil': 6984, 'gem': 6985, 'freud': 6986, 'whip': 6987, 'bitvh': 6988, 'tradie': 6989, 'ute': 6990, 'fiber': 6991, 'affleck': 6992, 'brokeside': 6993, 'pawn': 6994, 'healthhazard': 6995, 'unwashedandsoiled': 6996, 'unprocessedfish': 6997, 'filthyinside': 6998, 'penisenvy': 6999, 'sissyuhuru': 7000, 'evileye': 7001, 'loobat': 7002, 'sitpretty': 7003, 'yrs': 7004, 'stil': 7005, 'troll': 7006, 'texte': 7007, 'comeback': 7008, 'sigmund': 7009, 'madonna': 7010, 'trek': 7011, 'emoji': 7012, 'stelter': 7013, 'forehead': 7014, 'frozen': 7015, 'lemon': 7016, 'tek': 7017, 'freezer': 7018, 'stronk': 7019, 'bub': 7020, 'mainly': 7021, 'ef': 7022, 'hiatus': 7023, 'yrboi': 7024, 'tis': 7025, 'stoke': 7026, 'donkey': 7027, 'phallocentrism': 7028, 'traveller': 7029, 'bemused': 7030, 'pushback': 7031, 'granular': 7032, 'dune': 7033, 'adolescence': 7034, 'sandworm': 7035, 'reify': 7036, 'contour': 7037, 'structure': 7038, 'organism': 7039, 'spice': 7040, 'immediate': 7041, 'extermination': 7042, 'nepenthe': 7043, 'sofoulis': 7044, 'revolutionary': 7045, 'differentially': 7046, 'settler': 7047, 'selfawareness': 7048, 'subaltern': 7049, 'privilegelet': 7050, 'hatefuck': 7051, 'confound': 7052, 'prvlgd': 7053, 'alibis': 7054, 'phallocentric': 7055, 'tradition': 7056, 'selfadmire': 7057, 'selfstimulate': 7058, 'selfcongratulatory': 7059, 'pj': 7060, 'ftl': 7061, 'scientific': 7062, 'broadcast': 7063, 'freeing': 7064, 'grrrr': 7065, 'philosopher': 7066, 'detonate': 7067, 'souvenir': 7068, 'ii': 7069, 'orderphallocentrism': 7070, 'skew': 7071, 'askhow': 7072, 'remedy': 7073, 'rewatche': 7074, 'laptop': 7075, 'shein': 7076, 'mute': 7077, 'phallogocentrism': 7078, 'constitutive': 7079, 'iterability': 7080, 'hospitality': 7081, 'acquire': 7082, 'rhyme': 7083, 'linguistic': 7084, 'hose': 7085, 'hosiery': 7086, 'lawn': 7087, 'globalhistorical': 7088, 'circuit': 7089, 'operate': 7090, 'operation': 7091, 'appropriative': 7092, 'autoidentification': 7093, 'centrism': 7094, 'signify': 7095, 'bataille': 7096, 'midterm': 7097, 'amok': 7098, 'derrida': 7099, 'construct': 7100, 'assessment': 7101, 'compel': 7102, 'indelicate': 7103, 'handling': 7104, 'hiszher': 7105, 'forbid': 7106, 'upright': 7107, 'assignation': 7108, 'prevalent': 7109, 'autogynephiliait': 7110, 'matterid': 7111, 'jacques': 7112, 'dprk': 7113, 'phallus': 7114, 'scorch': 7115, 'talented': 7116, 'moranbong': 7117, 'band': 7118, 'scorching': 7119, 'musical': 7120, 'tansume': 7121, 'inquiry': 7122, 'compulsory': 7123, 'heterosexualityi': 7124, 'yourselfwe': 7125, 'consolation': 7126, 'prize': 7127, 'gesture': 7128, 'whitesupremacistcisnormativepatriarchy': 7129, 'oppresses': 7130, 'otherize': 7131, 'aristotle': 7132, 'dimensionality': 7133, 'racialize': 7134, 'dark': 7135, 'continent': 7136, 'association': 7137, 'constant': 7138, 'impossibility': 7139, 'oi': 7140, 'jikook': 7141, 'nyo': 7142, 'uwinguwi': 7143, 'kelangan': 7144, 'ko': 7145, 'taegi': 7146, 'ano': 7147, 'setld': 7148, 'moot': 7149, 'firstjungkook': 7150, 'taehyungjimin': 7151, 'yoongi': 7152, 'kitty': 7153, 'conservatory': 7154, 'marys': 7155, 'industrial': 7156, 'eight': 7157, 'twelveyear': 7158, 'twelve': 7159, 'sixteenyear': 7160, 'sixteen': 7161, 'los': 7162, 'angeles': 7163, 'raider': 7164, 'las': 7165, 'vegas': 7166, 'yup': 7167, 'jewish': 7168, 'creation': 7169, 'blueprint': 7170, 'existencean': 7171, 'wherewith': 7172, 'christ': 7173, 'entangle': 7174, 'yoke': 7175, 'bondage': 7176, 'galatians': 7177, 'kjvsource': 7178, 'canva': 7179, 'watson': 7180, 'tokyo': 7181, 'architecture': 7182, 'lego': 7183, 'howdy': 7184, 'roam': 7185, 'unrelated': 7186, 'toattack': 7187, 'downandout': 7188, 'wreck': 7189, 'congress': 7190, 'moreid': 7191, 'raw': 7192, 'hashtag': 7193, 'pnd': 7194, 'pndhis': 7195, 'grace': 7196, 'cae': 7197, 'fret': 7198, 'noise': 7199, 'caeax': 7200, 'uri': 7201, 'rug': 7202, 'brent': 7203, 'rampb': 7204, 'innocence': 7205, 'scheme': 7206, 'aris': 7207, 'altseason': 7208, 'brutal': 7209, 'bearmarket': 7210, 'grave': 7211, 'manehe': 7212, 'quemix': 7213, 'kehlani': 7214, 'lmfaooooo': 7215, 'awaytoo': 7216, 'savage': 7217, 'anthem': 7218, 'youyoure': 7219, 'roadmap': 7220, 'vcs': 7221, 'vc': 7222, 'partynextdoor': 7223, 'fye': 7224, 'weeknd': 7225, 'auntie': 7226, 'avax': 7227, 'othersonly': 7228, 'paint': 7229, 'ftm': 7230, 'wellall': 7231, 'underoverpeeforming': 7232, 'shower': 7233, 'wednesday': 7234, 'hopeful': 7235, 'groupsit': 7236, 'pound': 7237, 'swedish': 7238, 'tattoo': 7239, 'withdraw': 7240, 'sup': 7241, 'banknote': 7242, 'signweare': 7243, 'technical': 7244, 'directional': 7245, 'dend': 7246, 'pinpoint': 7247, 'gravy': 7248, 'biscuit': 7249, 'scrambled': 7250, 'egg': 7251, 'bacon': 7252, 'enemys': 7253, 'lumber': 7254, 'glaze': 7255, 'hbu': 7256, 'toll': 7257, 'penny': 7258, 'cormack': 7259, 'experiment': 7260, 'jim': 7261, 'goodwin': 7262, 'derek': 7263, 'mcinne': 7264, 'futa': 7265, 'steroide': 7266, 'steroid': 7267, 'steroidsthere': 7268, 'dysphoric': 7269, 'epi': 7270, 'jittery': 7271, 'fanbase': 7272, 'perpetuity': 7273, 'sand': 7274, 'package': 7275, 'staircase': 7276, 'himalayan': 7277, 'salt': 7278, 'gramsdrie': 7279, 'seafood': 7280, 'largesize': 7281, 'squid': 7282, 'johnleemushr': 7283, 'truck': 7284, 'fence': 7285, 'rib': 7286, 'mary': 7287, 'friendship': 7288, 'tumble': 7289, 'weed': 7290, 'taco': 7291, 'flags': 7292, 'cat': 7293, 'alresdy': 7294, 'queue': 7295, 'twink': 7296, 'blk': 7297, 'impregnate': 7298, 'exotical': 7299, 'pregnantbc': 7300, 'em': 7301, 'masseslet': 7302, 'governor': 7303, 'doso': 7304, 'imposition': 7305, 'payer': 7306, 'tye': 7307, 'phillip': 7308, 'midwife': 7309, 'needle': 7310, 'moo': 7311, 'oao': 7312, 'lifesaver': 7313, 'standing': 7314, 'mexico': 7315, 'newborn': 7316, 'dumpster': 7317, 'juvenile': 7318, 'condemnation': 7319, 'puritan': 7320, 'prude': 7321, 'inmoral': 7322, 'aislate': 7323, 'moderate': 7324, 'likes': 7325, 'idgaf': 7326, 'outdate': 7327, 'regulate': 7328, 'scripture': 7329, 'winthrops': 7330, 'treatise': 7331, 'holyrood': 7332, 'southampton': 7333, 'massachusetts': 7334, 'bay': 7335, 'colonists': 7336, 'arbella': 7337, 'boston': 7338, 'longing': 7339, 'arrive': 7340, 'magnet': 7341, 'paperback': 7342, 'waitlist': 7343, 'virtue': 7344, 'denominator': 7345, 'calculator': 7346, 'ant': 7347, 'communicate': 7348, 'prep': 7349, 'nbi': 7350, 'antisex': 7351, 'sheffield': 7352, 'undercover': 7353, 'nathaniel': 7354, 'hawthorne': 7355, 'persecuting': 7356, 'spirt': 7357, 'communal': 7358, 'deplore': 7359, 'punish': 7360, 'astringent': 7361, 'purification': 7362, 'righteous': 7363, 'grandstandingecstasy': 7364, 'sanctomony': 7365, 'zunelhakart': 7366, 'christmasopinion': 7367, 'times': 7368, 'nuance': 7369, 'complexity': 7370, 'brainwashing': 7371, 'reception': 7372, 'warehouse': 7373, 'sfprice': 7374, 'nnn': 7375, 'july': 7376, 'remake': 7377, 'optimistic': 7378, 'pill': 7379, 'inconsequential': 7380, 'incident': 7381, 'chefayo': 7382, 'apologist': 7383, 'pissed': 7384, 'wabt': 7385, 'tage': 7386, 'cintebt': 7387, 'unethical': 7388, 'mukesh': 7389, 'ambanii': 7390, 'jkr': 7391, 'itseem': 7392, 'paralysis': 7393, 'moneyrogathem': 7394, 'mumbai': 7395, 'ruind': 7396, 'mistakenot': 7397, 'ectopic': 7398, 'pregnancy': 7399, 'nonviable': 7400, 'pancrea': 7401, 'combination': 7402, 'cringy': 7403, 'hindutva': 7404, 'beech': 7405, 'survivor': 7406, 'boyz': 7407, 'malmo': 7408, 'sweden': 7409, 'massively': 7410, 'disproportionate': 7411, 'ada': 7412, 'magistrate': 7413, 'kira': 7414, 'dale': 7415, 'von': 7416, 'ehlinger': 7417, 'arraignment': 7418, 'misunderstanding': 7419, 'kenny': 7420, 'horrendous': 7421, 'restorative': 7422, 'shoplift': 7423, 'whoop': 7424, 'restore': 7425, 'unrape': 7426, 'someoneim': 7427, 'unrepentant': 7428, 'rot': 7429, 'camera': 7430, 'devour': 7431, 'whoresrape': 7432, 'bury': 7433, 'underyou': 7434, 'lust': 7435, 'angryit': 7436, 'indention': 7437, 'failure': 7438, 'yellowhammer': 7439, 'repressedthat': 7440, 'tlj': 7441, 'poeoscar': 7442, 'isaac': 7443, 'tfa': 7444, 'contrastrival': 7445, 'repressed': 7446, 'kylo': 7447, 'poe': 7448, 'redundant': 7449, 'finn': 7450, 'sw': 7451, 'inventiondiscoverytechnology': 7452, 'repress': 7453, 'shill': 7454, 'paste': 7455, 'anguish': 7456, 'inextricably': 7457, 'dehumanizing': 7458, 'ace': 7459, 'flashy': 7460, 'compassion': 7461, 'creativityreverse': 7462, 'selflove': 7463, 'intuition': 7464, 'timehop': 7465, 'snap': 7466, 'regard': 7467, 'evident': 7468, 'narcissism': 7469, 'quiz': 7470, 'jeez': 7471, 'jack': 7472, 'clayton': 7473, 'innocent': 7474, 'premature': 7475, 'ejaculation': 7476, 'aged': 7477, 'critically': 7478, 'ofi': 7479, 'castratd': 7480, 'laughter': 7481, 'wht': 7482, 'homophoberepressed': 7483, 'homosexual': 7484, 'sinn': 7485, 'fin': 7486, 'frank': 7487, 'ireland': 7488, 'republicanism': 7489, 'nonoomf': 7490, 'trench': 7491, 'cornerstone': 7492, 'feral': 7493, 'viciously': 7494, 'nearby': 7495, 'selfdefense': 7496, 'catsrelated': 7497, 'fyi': 7498, 'taiwan': 7499, 'denmark': 7500, 'retarded': 7501, 'policymaker': 7502, 'irans': 7503, 'youthe': 7504, 'dehydration': 7505, 'river': 7506, 'mismanagement': 7507, 'embezzlement': 7508, 'killing': 7509, 'criticsplease': 7510, 'cp': 7511, 'liberalconstitutional': 7512, 'lefts': 7513, 'swiveleyed': 7514, 'occupy': 7515, 'libertarian': 7516, 'ethnic': 7517, 'albanian': 7518, 'cleansing': 7519, 'serb': 7520, 'kosovo': 7521, 'serbian': 7522, 'mustread': 7523, 'cinephilesall': 7524, 'yallprobably': 7525, 'englishlanguage': 7526, 'critic': 7527, 'rosenbaum': 7528, 'fei': 7529, 'mus': 7530, 'masterpiece': 7531, 'spainisnotademocracy': 7532, 'museum': 7533, 'impunity': 7534, 'device': 7535, 'inhabitable': 7536, 'external': 7537, 'violator': 7538, 'thanks': 7539, 'uscuba': 7540, 'normalization': 7541, 'republish': 7542, 'debaclearchipilago': 7543, 'cuban': 7544, 'intimidation': 7545, 'detention': 7546, 'rightsit': 7547, 'repressionps': 7548, 'harvey': 7549, 'cuba': 7550, 'prisoner': 7551, 'repressor': 7552, 'instrument': 7553, 'resume': 7554, 'sabbagh': 7555, 'occupation': 7556, 'syrian': 7557, 'occupied': 7558, 'golan': 7559, 'arbitrary': 7560, 'seizure': 7561, 'attica': 7562, 'strategy': 7563, 'repressive': 7564, 'enthusiastically': 7565, 'destruction': 7566, 'bem': 7567, 'inventory': 7568, 'indirectly': 7569, 'procreation': 7570, 'soldier': 7571, 'assign': 7572, 'charlie': 7573, 'folkskirk': 7574, 'modeleven': 7575, 'affairsif': 7576, 'honeyok': 7577, 'setup': 7578, 'scripted': 7579, 'info': 7580, 'unanswered': 7581, 'lipstick': 7582, 'fogdilemma': 7583, 'playing': 7584, 'derive': 7585, 'inherent': 7586, 'kohlberg': 7587, 'cognitivedevelopmental': 7588, 'children': 7589, 'maccoby': 7590, 'ee': 7591, 'stanford': 7592, 'pathologise': 7593, 'lgb': 7594, 'underpin': 7595, 'joey': 7596, 'bada': 7597, 'wishful': 7598, 'mf': 7599, 'mfw': 7600, 'aspen': 7601, 'characteristic': 7602, 'sidenote': 7603, 'ageold': 7604, 'wabout': 7605, 'reassign': 7606, 'conform': 7607, 'auto': 7608, 'autocorrect': 7609, 'tosh': 7610, 'notcorrect': 7611, 'bird': 7612, 'attendant': 7613, 'haggard': 7614, 'immature': 7615, 'intercom': 7616, 'southwest': 7617, 'affectionate': 7618, 'affection': 7619, 'womenwoman': 7620, 'nurturing': 7621, 'micheal': 7622, 'debakey': 7623, 'parking': 7624, 'stitch': 7625, 'subscribe': 7626, 'humiliate': 7627, 'girly': 7628, 'kink': 7629, 'backwards': 7630, 'improper': 7631, 'private': 7632, 'plethora': 7633, 'enby': 7634, 'tech': 7635, 'intellectual': 7636, 'othersharasse': 7637, 'ect': 7638, 'tolerateplease': 7639, 'tex': 7640, 'acronym': 7641, 'acronymnice': 7642, 'coolioim': 7643, 'mysogynistic': 7644, 'ratio': 7645, 'simultaneously': 7646, 'promise': 7647, 'pummel': 7648, 'fierce': 7649, 'fightthank': 7650, 'bravery': 7651, 'raft': 7652, 'ags': 7653, 'perjury': 7654, 'joeand': 7655, 'buddy': 7656, 'teddy': 7657, 'kennedyuse': 7658, 'waitress': 7659, 'oldtimers': 7660, 'chappaquiddick': 7661, 'kopechne': 7662, 'lump': 7663, 'abd': 7664, 'infer': 7665, 'norm': 7666, 'aggressive': 7667, 'rekieta': 7668, 'trustworthy': 7669, 'csrrying': 7670, 'meritless': 7671, 'slapp': 7672, 'defamation': 7673, 'shoddy': 7674, 'cleveland': 7675, 'reporting': 7676, 'insurance': 7677, 'np': 7678, 'prescription': 7679, 'unwanted': 7680, 'bandy': 7681, 'tremble': 7682, 'shanaia': 7683, 'exp': 7684, 'kung': 7685, 'kuya': 7686, 'lang': 7687, 'nagtitake': 7688, 'babae': 7689, 'housemate': 7690, 'pumuna': 7691, 'kay': 7692, 'tjforce': 7693, 'evict': 7694, 'tjprotect': 7695, 'gomez': 7696, 'hermain': 7697, 'several': 7698, 'suspend': 7699, 'tea': 7700, 'cabinet': 7701, 'federal': 7702, 'netflix': 7703, 'jerry': 7704, 'cheerleading': 7705, 'berkeley': 7706, 'conductasking': 7707, 'facultythank': 7708, 'impostor': 7709, 'nj': 7710, 'evolution': 7711, 'klobuchar': 7712, 'simpleton': 7713, 'preference': 7714, 'production': 7715, 'grief': 7716, 'bate': 7717, 'preferred': 7718, 'selfpleasure': 7719, 'gq': 7720, 'brag': 7721, 'monger': 7722, 'forwardlet': 7723, 'believersmy': 7724, 'revelation': 7725, 'fearful': 7726, 'sane': 7727, 'confidence': 7728, 'becomme': 7729, 'assert': 7730, 'classmate': 7731, 'valentine': 7732, 'homo': 7733, 'homosapien': 7734, 'founder': 7735, 'hisher': 7736, 'trustworthiness': 7737, 'goose': 7738, 'bidmc': 7739, 'equitable': 7740, 'factor': 7741, 'rob': 7742, 'stis': 7743, 'recsreference': 7744, 'modelling': 7745, 'classifier': 7746, 'dignity': 7747, 'tday': 7748, 'shld': 7749, 'lunacy': 7750, 'murrrphhhur': 7751, 'orientationetc': 7752, 'rs': 7753, 'treatedseen': 7754, 'tfumy': 7755, 'sincere': 7756, 'wtweet': 7757, 'inadequacy': 7758, 'wittgenstein': 7759, 'suspect': 7760, 'background': 7761, 'diagnosis': 7762, 'disclose': 7763, 'user': 7764, 'neighbor': 7765, 'network': 7766, 'intentionally': 7767, 'method': 7768, 'affiliation': 7769, 'competency': 7770, 'vaccinated': 7771, 'asexual': 7772, 'sus': 7773, 'portion': 7774, 'lookingacte': 7775, 'fempresente': 7776, 'gendersexuality': 7777, 'precious': 7778, 'opinionfree': 7779, 'dimwit': 7780, 'tactic': 7781, 'attract': 7782, 'reallywho': 7783, 'hunter': 7784, 'upsetting': 7785, 'themself': 7786, 'spitballe': 7787, 'reveal': 7788, 'virtual': 7789, 'gn': 7790, 'quest': 7791, 'tevinter': 7792, 'halward': 7793, 'dorian': 7794, 'npc': 7795, 'dai': 7796, 'amen': 7797, 'sailor': 7798, 'scout': 7799, 'margot': 7800, 'harley': 7801, 'pfeiffer': 7802, 'hathaway': 7803, 'sk': 7804, 'portrayal': 7805, 'dme': 7806, 'bradley': 7807, 'superficially': 7808, 'investment': 7809, 'period': 7810, 'moreso': 7811, 'menstrual': 7812, 'ovulate': 7813, 'brainnervous': 7814, 'intersexuality': 7815, 'connection': 7816, 'concierge': 7817, 'jermaine': 7818, 'amusedi': 7819, 'consensus': 7820, 'staff': 7821, 'meddle': 7822, 'romanticpersonal': 7823, 'itis': 7824, 'ped': 7825, 'poorly': 7826, 'fitting': 7827, 'breathe': 7828, 'loosen': 7829, 'somethin': 7830, 'combo': 7831, 'yea': 7832, 'nosebleed': 7833, 'tulsa': 7834, 'scanner': 7835, 'flee': 7836, 'perimeter': 7837, 'helo': 7838, 'chisel': 7839, 'crisp': 7840, 'unbuttoned': 7841, 'taecthey': 7842, 'unbutton': 7843, 'pavard': 7844, 'bayern': 7845, 'timely': 7846, 'shipping': 7847, 'yessssss': 7848, 'gif': 7849, 'provincetown': 7850, 'badtween': 7851, 'navy': 7852, 'seal': 7853, 'nk': 7854, 'camp': 7855, 'bruce': 7856, 'springsteen': 7857, 'shirti': 7858, 'lemme': 7859, 'dallas': 7860, 'grammar': 7861, 'crop': 7862, 'radness': 7863, 'behold': 7864, 'emerald': 7865, 'skank': 7866, 'quid': 7867, 'shriner': 7868, 'bone': 7869, 'belate': 7870, 'blessing': 7871, 'ukgh': 7872, 'lethal': 7873, 'bizzle': 7874, 'fester': 7875, 'prod': 7876, 'diztortion': 7877, 'theall': 7878, 'abroad': 7879, 'alist': 7880, 'yfm': 7881, 'snapchat': 7882, 'skankproving': 7883, 'electrical': 7884, 'voluminous': 7885, 'barbera': 7886, 'grade': 7887, 'dropoutjust': 7888, 'cher': 7889, 'dropoutremember': 7890, 'pre': 7891, 'bush': 7892, 'dumboh': 7893, 'ironyshe': 7894, 'bedsit': 7895, 'dum': 7896, 'rockefeller': 7897, 'bop': 7898, 'forgot': 7899, 'credit': 7900, 'genius': 7901, 'aubrey': 7902, 'donald': 7903, 'dumbass': 7904, 'deprogramme': 7905, 'desomethe': 7906, 'obvs': 7907, 'slag': 7908, 'listing': 7909, 'closet': 7910, 'le': 7911, 'bittersweet': 7912, 'pedestal': 7913, 'candy': 7914, 'compote': 7915, 'orange': 7916, 'gvb': 7917, 'maloney': 7918, 'height': 7919, 'clueless': 7920, 'lbc': 7921, 'johnson': 7922, 'hoursmeanwhile': 7923, 'keir': 7924, 'starmer': 7925, 'commons': 7926, 'votewhy': 7927, 'propensity': 7928, 'masqurading': 7929, 'keyboard': 7930, 'wimp': 7931, 'gav': 7932, 'coldplay': 7933, 'meagre': 7934, 'yearsthere': 7935, 'cleanly': 7936, 'lyingjust': 7937, 'ocean': 7938, 'otis': 7939, 'ola': 7940, 'aimee': 7941, 'eric': 7942, 'maeve': 7943, 'wench': 7944, 'walsall': 7945, 'rife': 7946, 'heavily': 7947, 'ruby': 7948, 'remnant': 7949, 'omi': 7950, 'bannister': 7951, 'mod': 7952, 'equaliser': 7953, 'dubai': 7954, 'slack': 7955, 'muppet': 7956, 'sb': 7957, 'sandle': 7958, 'boogie': 7959, 'brazy': 7960, 'faced': 7961, 'coercion': 7962, 'jab': 7963, 'smartnews': 7964, 'tiktok': 7965, 'forth': 7966, 'bald': 7967, 'dunsparce': 7968, 'granny': 7969, 'ash': 7970, 'groan': 7971, 'nervously': 7972, 'mercy': 7973, 'closeruhh': 7974, 'professionaly': 7975, 'procrastinate': 7976, 'reese': 7977, 'peanut': 7978, 'butter': 7979, 'cultist': 7980, 'misbehavin': 7981, 'soundtrack': 7982, 'defiant': 7983, 'domesticity': 7984, 'slapslapkiss': 7985, 'dong': 7986, 'jonghyun': 7987, 'autotune': 7988, 'bust': 7989, 'bowser': 7990, 'purposely': 7991, 'stupidknee': 7992, 'slapper': 7993, 'lmaoocmon': 7994, 'whoohahaha': 7995, 'manchin': 7996, 'comedian': 7997, 'kneeslapper': 7998, 'baio': 7999, 'mosh': 8000, 'slapperwith': 8001, 'caliber': 8002, 'yacht': 8003, 'wishlist': 8004, 'steam': 8005, 'kickstarter': 8006, 'generous': 8007, 'asta': 8008, 'pinch': 8009, 'onea': 8010, 'aucklander': 8011, 'wgtn': 8012, 'wrister': 8013, 'snapper': 8014, 'glennyoungkin': 8015, 'lib': 8016, 'donaldjtrump': 8017, 'racisttired': 8018, 'courtois': 8019, 'habitual': 8020, 'decline': 8021, 'prostitutionwow': 8022, 'iswhat': 8023, 'whine': 8024, 'hilte': 8025, 'plush': 8026, 'rear': 8027, 'firmly': 8028, 'groin': 8029, 'freely': 8030, 'flow': 8031, 'friendly': 8032, 'neighbourhood': 8033, 'emo': 8034, 'submissiv': 8035, 'montain': 8036, 'alley': 8037, 'britney': 8038, 'lotta': 8039, 'nth': 8040, 'yooooooo': 8041, 'mmyyyyit': 8042, 'fantasy': 8043, 'macho': 8044, 'slutthank': 8045, 'acrobatic': 8046, 'belt': 8047, 'simp': 8048, 'mesh': 8049, 'hump': 8050, 'petras': 8051, 'visualizer': 8052, 'hello': 8053, 'radabot': 8054, 'regalia': 8055, 'brenda': 8056, 'chastity': 8057, 'endlessly': 8058, 'stockholme': 8059, 'grope': 8060, 'hmmm': 8061, 'amateur': 8062, 'dhagne': 8063, 'chop': 8064, 'poorlyburie': 8065, 'peat': 8066, 'bog': 8067, 'thale': 8068, 'jongleur': 8069, 'monkey': 8070, 'slutbag': 8071, 'vector': 8072, 'rona': 8073, 'finelytune': 8074, 'airborne': 8075, 'contagion': 8076, 'iconic': 8077, 'don': 8078, 'akdhajhdajjahshh': 8079, 'pantie': 8080, 'insert': 8081, 'ejaculate': 8082, 'boo': 8083, 'powerwash': 8084, 'couch': 8085, 'kel': 8086, 'goone': 8087, 'youlink': 8088, 'findomgoddess': 8089, 'femdom': 8090, 'sissyslave': 8091, 'subserve': 8092, 'cashmeet': 8093, 'realtime': 8094, 'chaturbate': 8095, 'afterpay': 8096, 'blight': 8097, 'astronomical': 8098, 'locally': 8099, 'adorama': 8100, 'poison': 8101, 'disease': 8102, 'chatteringclass': 8103, 'ruinous': 8104, 'gig': 8105, 'ocde': 8106, 'indicate': 8107, 'isolation': 8108, 'cultured': 8109, 'thrive': 8110, 'teen': 8111, 'yellowjacket': 8112, 'bec': 8113, 'unavoidable': 8114, 'confusing': 8115, 'toilet': 8116, 'paywall': 8117, 'selfdeclare': 8118, 'illnessesviruse': 8119, 'medication': 8120, 'conditionsvirusesdisease': 8121, 'byte': 8122, 'antifa': 8123, 'antic': 8124, 'gt': 8125, 'protocol': 8126, 'bh': 8127, 'ugly': 8128, 'sodomize': 8129, 'eternity': 8130, 'sneaky': 8131, 'rub': 8132, 'roomtemperature': 8133, 'disorder': 8134, 'decade': 8135, 'handshake': 8136, 'reassure': 8137, 'baritone': 8138, 'icc': 8139, 'kept': 8140, 'brooks': 8141, 'screws': 8142, 'yank': 8143, 'pe': 8144, 'microchip': 8145, 'bat': 8146, 'wrap': 8147, 'barb': 8148, 'nude': 8149, 'gfy': 8150, 'lefthole': 8151, 'shitsodomize': 8152, 'mohamme': 8153, 'thighfcker': 8154, 'carcass': 8155, 'fowl': 8156, 'brew': 8157, 'enclose': 8158, 'dosent': 8159, 'himinch': 8160, 'karl': 8161, 'malone': 8162, 'lebron': 8163, 'explicitly': 8164, 'rhino': 8165, 'suburban': 8166, 'domesticthe': 8167, 'airline': 8168, 'usesusedhas': 8169, 'ducttape': 8170, 'passanger': 8171, 'thay': 8172, 'rhave': 8173, 'beenwould': 8174, 'midget': 8175, 'spank': 8176, 'republic': 8177, 'easter': 8178, 'pomlzka': 8179, 'fertile': 8180, 'superhero': 8181, 'czechia': 8182, 'fertility': 8183, 'festival': 8184, 'spanker': 8185, 'axe': 8186, 'spanking': 8187, 'wtfgarrett': 8188, 'bryne': 8189, 'retake': 8190, 'tower': 8191, 'amrylin': 8192, 'elaida': 8193, 'elvis': 8194, 'hawaii': 8195, 'likewhat': 8196, 'reel': 8197, 'tx': 8198, 'kathleen': 8199, 'inappropriate': 8200, 'falsify': 8201, 'presidential': 8202, 'recordsseriously': 8203, 'partnerbut': 8204, 'josh': 8205, 'hawley': 8206, 'py': 8207, 'receivesi': 8208, 'womanwoman': 8209, 'inclination': 8210, 'spankedeven': 8211, 'rightspanke': 8212, 'increase': 8213, 'jerk': 8214, 'orgasm': 8215, 'milf': 8216, 'profile': 8217, 'racismantiblack': 8218, 'descent': 8219, 'root': 8220, 'enslavement': 8221, 'deadass': 8222, 'stereotyping': 8223, 'slenders': 8224, 'takeaway': 8225, 'placemeryl': 8226, 'streep': 8227, 'cosetta': 8228, 'scapegoating': 8229, 'anchor': 8230, 'tae': 8231, 'kyun': 8232, 'pajeet': 8233, 'defy': 8234, 'adopt': 8235, 'narration': 8236, 'irish': 8237, 'embarrassingly': 8238, 'alcoholism': 8239, 'facade': 8240, 'salient': 8241, 'worsen': 8242, 'playand': 8243, 'salience': 8244, 'brentford': 8245, 'commentate': 8246, 'stimulate': 8247, 'grumpy': 8248, 'nutjob': 8249, 'hearing': 8250, 'thisnot': 8251, 'foebut': 8252, 'mostspare': 8253, 'illiterate': 8254, 'yeh': 8255, 'intwrvewer': 8256, 'questuon': 8257, 'premure': 8258, 'completly': 8259, 'champ': 8260, 'kyler': 8261, 'offense': 8262, 'cater': 8263, 'temper': 8264, 'saya': 8265, 'maging': 8266, 'captain': 8267, 'rohit': 8268, 'rift': 8269, 'virat': 8270, 'whopping': 8271, 'kohli': 8272, 'concert': 8273, 'twisted': 8274, 'mawkish': 8275, 'virtuous': 8276, 'outta': 8277, 'textbook': 8278, 'tempt': 8279, 'molly': 8280, 'capethe': 8281, 'sickwe': 8282, 'hilig': 8283, 'mothers': 8284, 'superwoman': 8285, 'adoption': 8286, 'autopilot': 8287, 'marybeth': 8288, 'cranewomen': 8289, 'wanta': 8290, 'everywherestreame': 8291, 'unlearn': 8292, 'essentiali': 8293, 'bundle': 8294, 'cape': 8295, 'selfloveget': 8296, 'bundlegt': 8297, 'againand': 8298, 'timeif': 8299, 'elayne': 8300, 'fluker': 8301, 'cure': 8302, 'conditioning': 8303, 'depency': 8304, 'december': 8305, 'shedde': 8306, 'preoccupy': 8307, 'overreach': 8308, 'pin': 8309, 'distributor': 8310, 'xrp': 8311, 'xrps': 8312, 'patriot': 8313, 'incompetent': 8314, 'administration': 8315, 'surface': 8316, 'imperative': 8317, 'worldwide': 8318, 'mrna': 8319, 'immediatelyinnate': 8320, 'immune': 8321, 'sarscov': 8322, 'aclu': 8323, 'rudywrongbenito': 8324, 'mussolini': 8325, 'adolf': 8326, 'hitler': 8327, 'fascistsfascism': 8328, 'farright': 8329, 'ultranationalism': 8330, 'characterize': 8331, 'dictatorial': 8332, 'forcible': 8333, 'regimentation': 8334, 'data': 8335, 'transparency': 8336, 'anomaly': 8337, 'viable': 8338, 'gases': 8339, 'womendont': 8340, 'simultaneous': 8341, 'imaging': 8342, 'homogeneous': 8343, 'implementation': 8344, 'favourite': 8345, 'application': 8346, 'brnovich': 8347, 'dnc': 8348, 'scotu': 8349, 'rectify': 8350, 'contrary': 8351, 'gerrymandering': 8352, 'loooose': 8353, 'fauci': 8354, 'pharma': 8355, 'hence': 8356, 'distraction': 8357, 'cliff': 8358, 'margin': 8359, 'baffling': 8360, 'antiabortion': 8361, 'september': 8362, 'loathing': 8363, 'pmcome': 8364, 'alcoholic': 8365, 'protective': 8366, 'pumpin': 8367, 'duncan': 8368, 'evaluate': 8369, 'coral': 8370, 'reef': 8371, 'incountry': 8372, 'brotopia': 8373, 'silicon': 8374, 'valley': 8375, 'emily': 8376, 'chang': 8377, 'weakening': 8378, 'shay': 8379, 'untouchable': 8380, 'busybody': 8381, 'infiltrate': 8382, 'khs': 8383, 'thiswhich': 8384, 'paternalistic': 8385, 'leech': 8386, 'completion': 8387, 'initiation': 8388, 'powerthe': 8389, 'inexorable': 8390, 'blizzard': 8391, 'alotta': 8392, 'indiana': 8393, 'chrissy': 8394, 'kj': 8395, 'gaze': 8396, 'lunaria': 8397, 'blink': 8398, 'nod': 8399, 'rapeeducation': 8400, 'knowtransparency': 8401, 'dissolve': 8402, 'pokemon': 8403, 'giratina': 8404, 'taehyun': 8405, 'cysm': 8406, 'vocalist': 8407, 'haunt': 8408, 'toyou': 8409, 'ouijia': 8410, 'ghoul': 8411, 'ringu': 8412, 'spiral': 8413, 'demonic': 8414, 'wallpaper': 8415, 'gazeim': 8416, 'meltingkai': 8417, 'peach': 8418, 'teaser': 8419, 'akaabireen': 8420, 'akaabir': 8421, 'amaal': 8422, 'devotional': 8423, 'mamoolaat': 8424, 'outsidemoulana': 8425, 'maseehullah': 8426, 'rahmatullahi': 8427, 'alaih': 8428, 'curly': 8429, 'sumit': 8430, 'hina': 8431, 'complimentary': 8432, 'reside': 8433, 'raid': 8434, 'weast': 8435, 'healer': 8436, 'brotherhood': 8437, 'lettuce': 8438, 'salad': 8439, 'mb': 8440, 'uninspired': 8441, 'humiliation': 8442, 'weaponize': 8443, 'invisibility': 8444, 'eraser': 8445, 'banger': 8446, 'sear': 8447, 'whopper': 8448, 'randall': 8449, 'pearson': 8450, 'stomp': 8451, 'garland': 8452, 'fuckingg': 8453, 'tanuki': 8454, 'cutethen': 8455, 'wolford': 8456, 'batter': 8457, 'hilarious': 8458, 'windshield': 8459, 'gasthe': 8460, 'aikman': 8461, 'greatful': 8462, 'rapperradio': 8463, 'monie': 8464, 'reasonable': 8465, 'hop': 8466, 'unsafe': 8467, 'enuh': 8468, 'sensational': 8469, 'admittedly': 8470, 'childif': 8471, 'automaton': 8472, 'afterwards': 8473, 'spineless': 8474, 'flannelget': 8475, 'gorgeous': 8476, 'nip': 8477, 'pie': 8478, 'furry': 8479, 'oc': 8480, 'titsit': 8481, 'validate': 8482, 'captivate': 8483, 'cash': 8484, 'jane': 8485, 'lowkey': 8486, 'wonky': 8487, 'holocaust': 8488, 'memorial': 8489, 'whop': 8490, 'gtadd': 8491, 'innuendosthe': 8492, 'stupendous': 8493, 'albeit': 8494, 'catfishe': 8495, 'surprisingly': 8496, 'brandi': 8497, 'dee': 8498, 'sophiedeelive': 8499, 'meetup': 8500, 'boyden': 8501, 'craig': 8502, 'stevens': 8503, 'lineup': 8504, 'fireside': 8505, 'gilliland': 8506, 'eyecatche': 8507, 'scoreline': 8508, 'qualifier': 8509, 'priya': 8510, 'priyas': 8511, 'dash': 8512, 'ayesha': 8513, 'highest': 8514, 'boner': 8515, 'provoker': 8516, 'tlife': 8517, 'wifey': 8518, 'financial': 8519, 'compensation': 8520, 'lmaoooooooo': 8521, 'nominee': 8522, 'directorate': 8523, 'excellence': 8524, 'awards': 8525, 'soccer': 8526, 'swic': 8527, 'fulfill': 8528, 'requirement': 8529, 'hallmark': 8530, 'exceptional': 8531, 'salem': 8532, 'importantly': 8533, 'regression': 8534, 'sphere': 8535, 'revert': 8536, 'intrepid': 8537, 'aviator': 8538, 'jj': 8539, 'jake': 8540, 'jjs': 8541, 'experienced': 8542, 'spar': 8543, 'boxer': 8544, 'spl': 8545, 'brisbane': 8546, 'sustainability': 8547, 'othersession': 8548, 'proposal': 8549, 'representative': 8550, 'submit': 8551, 'gullibleespecially': 8552, 'lure': 8553, 'kane': 8554, 'ronaldo': 8555, 'euro': 8556, 'rooney': 8557, 'distance': 8558, 'pen': 8559, 'tablet': 8560, 'bounce': 8561, 'grass': 8562, 'unfollowed': 8563, 'ricky': 8564, 'dan': 8565, 'hill': 8566, 'toddler': 8567, 'tidying': 8568, 'rarely': 8569, 'andrew': 8570, 'pa': 8571, 'multitouch': 8572, 'integrate': 8573, 'engine': 8574, 'incorporate': 8575, 'marketing': 8576, 'pictwitt': 8577, 'nat': 8578, 'bench': 8579, 'paw': 8580, 'groundmeanwhile': 8581, 'crammed': 8582, 'overflow': 8583, 'smooth': 8584, 'candice': 8585, 'resourceful': 8586, 'amazingly': 8587, 'trading': 8588, 'staking': 8589, 'ecosystem': 8590, 'suggestive': 8591, 'nsfw': 8592, 'melowkey': 8593, 'ly': 8594, 'blm': 8595, 'rant': 8596, 'bimbo': 8597, 'regal': 8598, 'scholarly': 8599, 'lounge': 8600, 'gayi': 8601, 'omw': 8602, 'passive': 8603, 'kartini': 8604, 'moneyyy': 8605, 'stressful': 8606, 'fianc': 8607, 'positivity': 8608, 'arenobody': 8609, 'parlance': 8610, 'squirter': 8611, 'ransom': 8612, 'payoff': 8613, 'whitetrash': 8614, 'hills': 8615, 'peasant': 8616, 'convo': 8617, 'dunk': 8618, 'yeezys': 8619, 'af': 8620, 'automatic': 8621, 'ty': 8622, 'dax': 8623, 'imminent': 8624, 'preseason': 8625, 'knick': 8626, 'defense': 8627, 'reputation': 8628, 'uglier': 8629, 'shorty': 8630, 'trippin': 8631, 'peloton': 8632, 'resemblance': 8633, 'puke': 8634, 'asf': 8635, 'fingerprint': 8636, 'uss': 8637, 'thisno': 8638, 'outfit': 8639, 'smileand': 8640, 'vile': 8641, 'grill': 8642, 'wft': 8643, 'underpant': 8644, 'homegirl': 8645, 'retreat': 8646, 'athena': 8647, 'homiletic': 8648, 'exegetical': 8649, 'semester': 8650, 'danimation': 8651, 'dot': 8652, 'wno': 8653, 'sclera': 8654, 'aliexpressmen': 8655, 'lingerie': 8656, 'underwear': 8657, 'brief': 8658, 'ubulge': 8659, 'breathless': 8660, 'knicker': 8661, 'bikini': 8662, 'newpriceoriginal': 8663, 'pricepurchase': 8664, 'alreadyeither': 8665, 'rating': 8666, 'addition': 8667, 'cocaine': 8668, 'speed': 8669, 'audi': 8670, 'attorney': 8671, 'rightsdem': 8672, 'rightsthis': 8673, 'gnome': 8674, 'teaor': 8675, 'underpantsi': 8676, 'mi': 8677, 'bellingcat': 8678, 'underpantshave': 8679, 'liiiife': 8680, 'planner': 8681, 'sanitizer': 8682, 'rocketship': 8683, 'batman': 8684, 'opinioncool': 8685, 'wanti': 8686, 'wrestling': 8687, 'unacceptable': 8688, 'wellbeing': 8689, 'pleasurable': 8690, 'trynna': 8691, 'pizza': 8692, 'slogan': 8693, 'leadershow': 8694, 'chale': 8695, 'slumber': 8696, 'fleabag': 8697, 'prometheusstyle': 8698, 'spacesuit': 8699, 'immaturity': 8700, 'utter': 8701, 'nothingthey': 8702, 'ityou': 8703, 'impression': 8704, 'dorm': 8705, 'jumper': 8706, 'jean': 8707, 'heat': 8708, 'print': 8709, 'fur': 8710, 'pearl': 8711, 'chocker': 8712, 'bike': 8713, 'sxy': 8714, 'tifa': 8715, 'pntie': 8716, 'schoolgirl': 8717, 'verey': 8718, 'luvs': 8719, 'commando': 8720, 'windsa': 8721, 'issy': 8722, 'diapere': 8723, 'frilly': 8724, 'puffy': 8725, 'programmer': 8726, 'mmaybe': 8727, 'ochako': 8728, 'muttersnonsense': 8729, 'mina': 8730, 'wink': 8731, 'blimey': 8732, 'suitable': 8733, 'garden': 8734, 'mmaaaster': 8735, 'aboveincluding': 8736, 'dancingplugge': 8737, 'security': 8738, 'guard': 8739, 'islamic': 8740, 'implement': 8741, 'modify': 8742, 'colin': 8743, 'kaepernick': 8744, 'nfls': 8745, 'auction': 8746, 'elaborate': 8747, 'zel': 8748, 'crook': 8749, 'oligarch': 8750, 'riddance': 8751, 'tbf': 8752, 'kennedys': 8753, 'ingo': 8754, 'wobble': 8755, 'command': 8756, 'sef': 8757, 'gezz': 8758, 'wm': 8759, 'subhuman': 8760, 'wantedher': 8761, 'fame': 8762, 'cardshell': 8763, 'laud': 8764, 'loon': 8765, 'cnn': 8766, 'amendment': 8767, 'scammer': 8768, 'waaaafraud': 8769, 'sighyes': 8770, 'hamas': 8771, 'anyhoo': 8772, 'discussgood': 8773, 'himfirst': 8774, 'novakn': 8775, 'novak': 8776, 'servethey': 8777, 'djokovic': 8778, 'wbk': 8779, 'dvmbse': 8780, 'elijah': 8781, 'mikaelsoni': 8782, 'uniquely': 8783, 'paxton': 8784, 'bind': 8785, 'agri': 8786, 'pastoral': 8787, 'hrs': 8788, 'birthwhat': 8789, 'reduction': 8790, 'nonvulnerable': 8791, 'alt': 8792, 'maine': 8793, 'enterprise': 8794, 'cede': 8795, 'selfish': 8796, 'cap': 8797, 'typically': 8798, 'unreasonable': 8799, 'slayer': 8800, 'lessskille': 8801, 'teammate': 8802, 'fend': 8803, 'breakup': 8804, 'toothat': 8805, 'worthlessand': 8806, 'thatremind': 8807, 'closed': 8808, 'illustration': 8809, 'festive': 8810, 'funfetti': 8811, 'appreciation': 8812, 'unveil': 8813, 'passenger': 8814, 'demographically': 8815, 'train': 8816, 'imprison': 8817, 'shithole': 8818, 'minister': 8819, 'truss': 8820, 'mogg': 8821, 'cleverly': 8822, 'frost': 8823, 'deadly': 8824, 'survival': 8825, 'bodys': 8826, 'backtoschool': 8827, 'jitter': 8828, 'empathize': 8829, 'burdensome': 8830, 'myopia': 8831, 'planesjust': 8832, 'sayin': 8833, 'bfs': 8834, 'jeffrey': 8835, 'governmentbut': 8836, 'reallymanchinsenicacutte': 8837, 'bbb': 8838, 'shredsu': 8839, 'swinebc': 8840, 'grub': 8841, 'treasonous': 8842, 'egregious': 8843, 'sellout': 8844, 'impeachedamp': 8845, 'indict': 8846, 'beba': 8847, 'unlucky': 8848, 'euphoria': 8849, 'nate': 8850, 'cassie': 8851, 'onlyfan': 8852, 'isler': 8853, 'imdb': 8854, 'suicidal': 8855, 'superman': 8856, 'impersonator': 8857, 'tlink': 8858, 'vermont': 8859, 'snowstorm': 8860, 'tow': 8861, 'pint': 8862, 'jerrys': 8863, 'trunk': 8864, 'spirit': 8865, 'hargeisa': 8866, 'license': 8867, 'awful': 8868, 'partly': 8869, 'headlight': 8870, 'overcast': 8871, 'convertible': 8872, 'frog': 8873, 'bee': 8874, 'mcdonald': 8875, 'beehive': 8876, 'assuage': 8877, 'driving': 8878, 'san': 8879, 'francisco': 8880, 'mayor': 8881, 'hike': 8882, 'panty': 8883, 'mens': 8884, 'ottawa': 8885, 'pedestrian': 8886, 'cyclist': 8887, 'crosswalk': 8888, 'bmw': 8889, 'homicide': 8890, 'chileno': 8891, 'peacock': 8892, 'middleage': 8893, 'recklessly': 8894, 'deputy': 8895, 'taxi': 8896, 'thr': 8897, 'apartment': 8898, 'sword': 8899, 'h': 8900, 'sinsherni': 8901, 'tejasswi': 8902, 'prakash': 8903, 'isnti': 8904, 'psychic': 8905, 'doghouse': 8906, 'converse': 8907, 'womanoh': 8908, 'goku': 8909, 'vlog': 8910, 'upload': 8911, 'igorot': 8912, 'kiko': 8913, 'aew': 8914, 'ember': 8915, 'division': 8916, 'dynamite': 8917, 'ppvs': 8918, 'youthis': 8919, 'womangay': 8920, 'miscarriage': 8921, 'illegal': 8922, 'search': 8923, 'womanism': 8924, 'jam': 8925, 'fefe': 8926, 'poet': 8927, 'haitian': 8928, 'surrealist': 8929, 'heartbreak': 8930, 'morefree': 8931, 'sociopolitical': 8932, 'referree': 8933, 'twistin': 8934, 'whiny': 8935, 'imperfection': 8936, 'preservation': 8937, 'intriguing': 8938, 'katie': 8939, 'nc': 8940, 'congressperson': 8941, 'pressley': 8942, 'sisterscene': 8943, 'motherdaughter': 8944, 'est': 8945, 'casey': 8946, 'ltcasiajonnacomgt': 8947, 'wrotepp': 8948, 'africana': 8949, 'equate': 8950, 'taunt': 8951, 'frm': 8952, 'ghisipiti': 8953, 'angle': 8954, 'antiblackness': 8955, 'antiwomanism': 8956, 'desantis': 8957, 'spew': 8958, 'vuyani': 8959, 'vellem': 8960, 'pisce': 8961, 'introvert': 8962, 'extroverte': 8963, 'worship': 8964, 'arizona': 8965, 'murderer': 8966, 'ila': 8967, 'baw': 8968, 'huma': 8969, 'lkhrin': 8970, 'prone': 8971, 'aslan': 8972, 'au': 8973, 'surtout': 8974, 'pour': 8975, 'faire': 8976, 'lordre': 8977, 'rah': 8978, 'koulchi': 8979, 'aytl': 8980, 'delighted': 8981, 'friendsbridesmaid': 8982, 'watchinglittle': 8983, 'ravish': 8984, 'dooooo': 8985, 'aquarius': 8986, 'orbital': 8987, 'shockingrefuse': 8988, 'nz': 8989, 'standardmy': 8990, 'brigade': 8991, 'transphobia': 8992, 'enact': 8993, 'transfem': 8994, 'predatory': 8995, 'womanhood': 8996, 'transness': 8997, 'transmasc': 8998, 'berate': 8999, 'potus': 9000, 'talibanwhere': 9001, 'citizenship': 9002, 'hassan': 9003, 'indians': 9004, 'pardaah': 9005, 'librel': 9006, 'them': 9007, 'manual': 9008, 'pple': 9009, 'giving': 9010, 'establiish': 9011, 'shirtless': 9012, 'tiddie': 9013, 'gmo': 9014, 'shrimp': 9015, 'plz': 9016, 'worldwidei': 9017, 'ampsome': 9018, 'anne': 9019, 'ampi': 9020, 'kidsi': 9021, 'bein': 9022, 'gruele': 9023, 'femoid': 9024, 'developmentbut': 9025, 'modestly': 9026, 'manipulativethere': 9027, 'lawswoman': 9028, 'problemdo': 9029, 'understandi': 9030, 'vagina': 9031, 'occasion': 9032, 'blunt': 9033, 'nwa': 9034, 'ochi': 9035, 'una': 9036, 'ciara': 9037, 'cast': 9038, 'danielle': 9039, 'lindsey': 9040, 'shady': 9041, 'crumb': 9042, 'mentor': 9043, 'ndumba': 9044, 'funeral': 9045, 'coz': 9046, 'conceptslavery': 9047, 'whereby': 9048, 'ballsthat': 9049, 'urinate': 9050, 'sho': 9051, 'siyas': 9052, 'allowance': 9053, 'collared': 9054, 'reevaluate': 9055, 'salesconsumer': 9056, 'bayfuna': 9057, 'yonke': 9058, 'ne': 9059, 'mali': 9060, 'rundown': 9061, 'occasionally': 9062, 'scam': 9063, 'arou': 9064, 'alcohol': 9065, 'bev': 9066, 'saydo': 9067, 'substance': 9068, 'stubbornness': 9069, 'clare': 9070, 'applicationbut': 9071, 'perp': 9072, 'offence': 9073, 'daddys': 9074, 'toot': 9075, 'epidemic': 9076, 'scamme': 9077, 'him': 9078, 'hazviite': 9079, 'remark': 9080, 'sistermother': 9081, 'solidify': 9082, 'pool': 9083, 'lean': 9084, 'deposition': 9085, 'vibrator': 9086, 'suction': 9087, 'adorime': 9088, 'rechargeable': 9089, 'clit': 9090, 'sucker': 9091, 'stimulator': 9092, 'pornhub': 9093, 'premium': 9094, 'ahh': 9095, 'rare': 9096, 'traffic': 9097, 'alleged': 9098, 'trafficking': 9099, 'cbs': 9100, 'fort': 9101, 'arely': 9102, 'lopezguzmn': 9103, 'fabiola': 9104, 'cardena': 9105, 'thise': 9106, 'inbox': 9107, 'rag': 9108, 'narcissist': 9109, 'hoodwink': 9110, 'nonconsensual': 9111, 'defender': 9112, 'cle': 9113, 'shred': 9114, 'ambiguity': 9115, 'insanity': 9116, 'prostitute': 9117, 'disgrace': 9118, 'binion': 9119, 'tourist': 9120, 'deportedthey': 9121, 'antivaxxer': 9122, 'amongst': 9123, 'foilage': 9124, 'graduate': 9125, 'weejuns': 9126, 'gant': 9127, 'adler': 9128, 'khakis': 9129, 'uphold': 9130, 'coat': 9131, 'allmale': 9132, 'uva': 9133, 'scum': 9134, 'dms': 9135, 'unsolicited': 9136, 'gag': 9137, 'calling': 9138, 'transvaginal': 9139, 'ultrasound': 9140, 'genre': 9141, 'cinema': 9142, 'pandora': 9143, 'beginning': 9144, 'lmaoit': 9145, 'scratch': 9146, 'claw': 9147, 'fraction': 9148, 'underwhelme': 9149, 'bumble': 9150, 'initiate': 9151, 'unnecessarily': 9152, 'adhere': 9153, 'drastic': 9154, 'procedure': 9155, 'vanity': 9156, 'tactical': 9157, 'alertlapd': 9158, 'cockroach': 9159, 'basement': 9160, 'substantial': 9161, 'esthetician': 9162, 'yag': 9163, 'laser': 9164, 'pigment': 9165, 'removal': 9166, 'embrace': 9167, 'roleplay': 9168, 'negotiation': 9169, 'corny': 9170, 'pussyfirst': 9171, 'uploadedwoman': 9172, 'spoil': 9173, 'hamlet': 9174, 'burner': 9175, 'muscle': 9176, 'rwby': 9177, 'beefy': 9178, 'bodily': 9179, 'vaccinationare': 9180, 'workout': 9181, 'fatphobic': 9182, 'partshow': 9183, 'exit': 9184, 'mill': 9185, 'tamera': 9186, 'wfwlct': 9187, 'colourway': 9188, 'adrenaline': 9189, 'dwidth': 9190, 'perpetrator': 9191, 'applaud': 9192, 'seed': 9193, 'womenserve': 9194, 'nonprofit': 9195, 'onethey': 9196, 'yt': 9197, 'shmeat': 9198, 'bead': 9199, 'necklacealike': 9200, 'accent': 9201, 'sm': 9202, 'childcare': 9203, 'prek': 9204, 'slim': 9205, 'canada': 9206, 'dictatorship': 9207, 'micromanage': 9208, 'prior': 9209, 'mtgs': 9210, 'tampa': 9211, 'brokerage': 9212, 'xx': 9213, 'shun': 9214, 'hysterical': 9215, 'braine': 9216, 'backwood': 9217, 'solidarity': 9218, 'dat': 9219, 'arie': 9220, 'lmaooooooo': 9221, 'funniest': 9222, 'becloud': 9223, 'straigh': 9224, 'privilegehave': 9225, 'spelling': 9226, 'huffy': 9227, 'girlz': 9228, 'differentiate': 9229, 'grrl': 9230, 'gurl': 9231, 'scoop': 9232, 'menopausal': 9233, 'homophobia': 9234, 'doself': 9235, 'organizer': 9236, 'naya': 9237, 'rishta': 9238, 'impend': 9239, 'uranium': 9240, 'bioas': 9241, 'mailing': 9242, 'joinyoull': 9243, 'subscriber': 9244, 'alike': 9245, 'handemiyy': 9246, 'ether': 9247, 'satisfaction': 9248, 'void': 9249, 'overexaggerate': 9250, 'ispeople': 9251, 'bowcaster': 9252, 'distracted': 9253, 'han': 9254, 'weaken': 9255, 'underpaid': 9256, 'essayist': 9257, 'defund': 9258, 'timer': 9259, 'nano': 9260, 'twit': 9261, 'unite': 9262, 'rapeid': 9263, 'probirth': 9264, 'minor': 9265, 'sen': 9266, 'ruggerios': 9267, 'regularly': 9268, 'repeatedly': 9269, 'aisle': 9270, 'crawl': 9271, 'lopez': 9272, 'valentina': 9273, 'orellana': 9274, 'peralta': 9275, 'anonymou': 9276, 'pun': 9277, 'intended': 9278, 'lay': 9279, 'ck': 9280, 'chipmunk': 9281, 'mezee': 9282, 'ckthe': 9283, 'wheeze': 9284, 'hodler': 9285, 'symbolic': 9286, 'dababy': 9287, 'irl': 9288, 'analyzed': 9289, 'consume': 9290, 'infact': 9291, 'beep': 9292, 'hazard': 9293, 'organic': 9294, 'cleverstop': 9295, 'stab': 9296, 'faceless': 9297, 'deserted': 9298, 'pampered': 9299, 'incapable': 9300, 'embarrassing': 9301, 'aoc': 9302, 'criticize': 9303, 'gala': 9304, 'mpeleke': 9305, 'dci': 9306, 'cox': 9307, 'clownno': 9308, 'exclusively': 9309, 'miami': 9310, 'exhaustedsophia': 9311, 'cab': 9312, 'itsophia': 9313, 'sharon': 9314, 'loki': 9315, 'clownloki': 9316, 'mini': 9317, 'prostitutei': 9318, 'quince': 9319, 'blesssame': 9320, 'lolafter': 9321, 'playerjust': 9322, 'lifei': 9323, 'limp': 9324, 'shamelessly': 9325, 'lowso': 9326, 'humiliating': 9327, 'ski': 9328, 'amazingyou': 9329, 'hostage': 9330, 'blanche': 9331, 'me': 9332, 'designer': 9333, 'bra': 9334, 'stocking': 9335, 'executive': 9336, 'meaningless': 9337, 'dk': 9338, 'mirror': 9339, 'shiiit': 9340, 'lmaooooo': 9341, 'gage': 9342, 'whoreno': 9343, 'egotistically': 9344, 'aocby': 9345, 'advertise': 9346, 'pricewhat': 9347, 'whorethank': 9348, 'whorewould': 9349, 'pleasantbecause': 9350, 'drachen': 9351, 'armor': 9352, 'dragoon': 9353, 'estinen': 9354, 'nike': 9355, 'coochie': 9356, 'mutual': 9357, 'readyim': 9358, 'bulge': 9359, 'mirroryou': 9360, 'lh': 9361, 'mandy': 9362}\n"
     ]
    }
   ],
   "source": [
    "# Mapping each word to a unique integer ID\n",
    "# Special tokens\n",
    "word2idx = {'<PAD>': 0, '<UNK>': 1}\n",
    "idx = 2\n",
    "\n",
    "# Build vocabulary from train tweets\n",
    "for tweet in df_train_processed['tweet']:\n",
    "    for word in tweet.split():\n",
    "        if word not in word2idx:\n",
    "            word2idx[word] = idx\n",
    "            idx += 1\n",
    "\n",
    "print(len(word2idx),word2idx)"
   ]
  },
  {
   "cell_type": "code",
   "execution_count": 6,
   "metadata": {},
   "outputs": [
    {
     "name": "stdout",
     "output_type": "stream",
     "text": [
      "vocab_size 9363\n",
      "1699 ['<PAD>', '<UNK>', 'I', 'earlyinlife', 'godcolette', 'anywheregood', 'voyeuristically', 'comic_strip', 'gamergate', 'journo', 'altright', 'breadtube', 'impassion', 'releasethu', 'comicsgate', 'shitstorm', 'incel', 'peachfuzz', 'futanari', 'pickme', 'uwu', 'guyz', 'theythis', 'angeryou', 'bitchesid', 'downvote', 'dosay', 'bcuz', 'exhusband', 'allegationsjudge', 'mgtow', 'baaki', 'promale', 'bahut', 'mramgtowincel', 'womanhating', 'angriesbecause', 'chomo', 'qristianity', 'femcel', 'nigcel', 'hotep', 'dvestor', 'lolthe', 'catastrophizing', 'outbigg', 'redpill', 'blackpilado', 'ironicamente', 'earlierwhy', 'standardoh', 'superiorityan', 'notallman', 'twaw', 'vaginanot', 'notallmen', 'laylamoran', 'soulsmixed', 'thisthat', 'retweetsnintendo', 'switchsportsnotallmenwow', 'upstop', 'checkif', 'decentish', 'heckin', 'consentjust', 'dck', 'transwoman', 'ohare', 'heathensno', 'transphobe', 'idk', 'bossah', 'overcode', 'violencesthey', 'discourseinto', 'twitterng', 'weeksboth', 'nosetonose', 'lifetimeso', 'allyship', 'youthled', 'harrisharb', 'catcall', 'flyere', 'itsnotacomplimentmelbournecom', 'pedophiliajust', 'weekshow', 'yoget', 'upstander', 'societyeducation', 'nonethelesscome', 'slimzosrecording', 'societys', 'normshappy', 'makhulu', 'etcnb', 'pleople', 'ahhhhhh', 'productsinclude', 'balise', 'tampc', 'entertainmmt', 'shivaami', 'onlineregister', 'placewoman', 'nollaigh', 'daoibh', 'womensday', 'iwd', 'uswhat', 'allvotebluein', 'repub', 'policyboth', 'sampd', 'gruevskis', 'yaln', 'wardbusua', 'ortakolma', 'cecilt', 'maam', 'countys', 'ofcourse', 'womenno', 'manbad', 'womene', 'porsha', 'mentionnah', 'sympathybiden', 'rackexclusive', 'selffunde', 'taxpayersschool', 'smithsonians', 'androcentrism', 'spsp', 'isare', 'longevist', 'kabikabila', 'goiz', 'societynature', 'sntique', 'doctress', 'perspectivethe', 'marginalian', 'nonbinary', 'undivide', 'mindmainexlazada', 'favs', 'tbh', 'sexxee', 'commissionfull', 'blowjob', 'spitroast', 'shrugyoure', 'woolfs', 'blahshe', 'manblah', 'modelhe', 'succeedwhen', 'gtone', 'showgtneed', 'mangtlose', 'areasevery', 'lmaoooo', 'finna', 'partnersgot', 'kickboxe', 'slsjsu', 'wildturtle', 'fkn', 'jungwoo', 'ughhh', 'excitingsexyattractive', 'netherlandshow', 'higherstandard', 'brexit', 'urgh', 'lolll', 'andsomewhat', 'justbrace', 'bahamaswhy', 'therethe', 'arklight', 'trilogywe', 'alonedangerous', 'jimins', 'frictionresistance', 'wendyallure', 'wanderin', 'lastwithout', 'youuuall', 'twilightjust', 'timesyou', 'nightsippin', 'antivax', 'goodhe', 'autist', 'quinary', 'senary', 'septenary', 'octonary', 'nonary', 'denary', 'duodenarycritical', 'binarily', 'thinkingcheck', 'contradictionit', 'nuancebecause', 'whiteye', 'thinkinglife', 'dipshit', 'alharith', 'alsaffar', 'ammm', 'crubb', 'basmah', 'glutenfree', 'trumpanzee', 'overshare', 'domadjacent', 'xanx', 'fnaf', 'maaaan', 'jisse', 'chugli', 'karke', 'mazaak', 'haithat', 'sheisty', 'nvm', 'baseprivative', 'selfabsorbed', 'maaaybe', 'intolerantin', 'fkery', 'whythey', 'mehwish', 'sirme', 'riazs', 'vishap', 'wolflord', 'pasiko', 'nalang', 'soakin', 'rotdthe', 'receiverthe', 'itgo', 'nevee', 'jobwhen', 'cowpattie', 'puppetshe', 'gimbap', 'motormouthe', 'painreason', 'vaping', 'buttling', 'reffe', 'remarket', 'sexpositive', 'thickhead', 'godess', 'menthat', 'cmon', 'doessholud', 'saysbut', 'sexiststill', 'logicalcoherent', 'trumphilary', 'actionsplease', 'unfahrifhdyfhdh', 'whyyyyy', 'traumatising', 'culty', 'ambie', 'becauselike', 'yoohan', 'kaizenix', 'knowqueer', 'moviedc', 'shetheyisabela', 'sheherluisa', 'sheherdolore', 'shehercamilo', 'nonbinarygenderfluid', 'hethey', 'formatshe', 'spamme', 'sasukr', 'unalive', 'feellook', 'postcanonization', 'zarkashs', 'alijba', 'postconciliar', 'themcatere', 'piux', 'xxiis', 'beautificationcanonization', 'brandsmathe', 'brandsma', 'dforce', 'cyberwhistle', 'xwatch', 'covidpositive', 'ohhere', 'kne', 'yorknew', 'uvogin', 'softspun', 'xcms', 'offuse', 'dddjanreusable', 'greenpant', 'transmitit', 'spellground', 'cockblock', 'fearmongere', 'yearold', 'knowseems', 'groundspoiler', 'jeongguk', 'byenkiru', 'herguy', 'dogboy', 'hyperfocuse', 'multicolore', 'catswine', 'malchaamah', 'lunabrooooo', 'nvmslitterhead', 'pplleeaassee', 'mangaanime', 'cocktease', 'manipulatrix', 'upclose', 'ticketslooke', 'seatcomment', 'meim', 'goxuan', 'myt', 'hoursp', 'reposte', 'eavestrough', 'lmao', 'unfollow', 'preperformance', 'selfie', 'consciousnessraising', 'shezad', 'communismclass', 'communismacknowledge', 'communismeverythe', 'consciousnessraise', 'homemake', 'nursingstraight', 'studentcentere', 'writingcentere', 'conscientizao', 'raisingit', 'terfs', 'newb', 'gcfem', 'ampmayb', 'lgbamp', 'experienceare', 'oncethat', 'indue', 'magnifie', 'ainihin', 'yhooyou', 'wachana', 'husbandowner', 'sosatie', 'wellme', 'wayyou', 'congratsyou', 'wabr', 'youtoday', 'watcheveryone', 'stinkpot', 'frontandcenter', 'losingyall', 'jaskier', 'diguste', 'ambitionz', 'ridah', 'jcj', 'citesshe', 'halfgraspe', 'halfbaked', 'differencefeminism', 'masculinitychange', 'menwoman', 'cishet', 'feminismpapism', 'patriarchylol', 'carceral', 'statesn', 'experimentfor', 'requestmeasuring', 'metran', 'rightshuman', 'covid', 'moonrepresentation', 'asianidentifye', 'positionloss', 'etcdiscrimination', 'hahaha', 'sideeffect', 'thousandsyour', 'dfkm', 'nyjc', 'bleachedbut', 'omgi', 'singersongwriter', 'ujiko', 'loveafo', 'undertale', 'roblox', 'fullofhimself', 'bricke', 'scoatlan', 'itshe', 'soulsonly', 'godjesus', 'periodt', 'fvck', 'lionzas', 'peoplethere', 'kamalas', 'doucheraj', 'mkk', 'kinju', 'fakesswi', 'andhkaar', 'bohot', 'pandra', 'kundrra', 'talaga', 'gajab', 'shrinate', 'tinnie', 'fascinado', 'paraso', 'btche', 'lanez', 'superiorwho', 'kampalathank', 'iwca', 'womenampyouth', 'weavernote', 'tooheythere', 'afaik', 'descarte', 'goodbut', 'antioedipus', 'epistemologyyour', 'inheritancethe', 'wowser', 'opinionif', 'wellforme', 'positionality', 'ekyo', 'kikyuuseinfact', 'definitionracial', 'wokeness', 'yahwe', 'lowercard', 'capitalismgirl', 'ticketi', 'casteist', 'wellbee', 'nervetrainer', 'essentialismdrone', 'gobbily', 'yess', 'masla', 'agreementsoctober', 'kendis', 'handinhand', 'dampd', 'gtgtgt', 'essentialistidolatrous', 'pullingback', 'wassomethe', 'unsurprise', 'expereince', 'matheveryday', 'loudwe', 'miniserie', 'sexismwhy', 'bateshive', 'tcocisdoiclp', 'selfexoticization', 'invadersruler', 'anticolonialist', 'exoticization', 'othering', 'urbex', 'femboy', 'cissexist', 'antiblack', 'icymi', 'squicky', 'hardtoimagine', 'experiencesi', 'lxp', 'coopte', 'premisejosephine', 'ambiguitycolorist', 'entertainersthis', 'crole', 'enamor', 'wyt', 'euus', 'unvaxxed', 'estrogenhormone', 'thisvegan', 'darkskin', 'semilong', 'lmfaooo', 'yeaaaaa', 'presnap', 'overfeed', 'weatherme', 'aloneme', 'suckand', 'kkab', 'jokwon', 'againmaybe', 'feelbut', 'intersexmany', 'alade', 'bacigalupi', 'suuuuck', 'collab', 'womanterfs', 'manidentifyingwoman', 'feminazi', 'breakwill', 'straighthomophobicship', 'homosexualyoure', 'peopleask', 'incelask', 'womenfeminazilike', 'lispbut', 'unironically', 'noveltywoman', 'penise', 'themi', 'ageit', 'suguha', 'leafa', 'fffffffuck', 'offanother', 'choiceher', 'allwhere', 'youtoo', 'endsar', 'headnahhsomethe', 'sexisthomophobetransphobic', 'friedans', 'wishlistthe', 'friedanthe', 'plaththe', 'wattsspaceman', 'kalfarroadside', 'strugatskyhard', 'mystiqueor', 'nothingtohide', 'assplante', 'readytowear', 'mgcs', 'sloganeer', 'whichin', 'movementwell', 'manthat', 'feminismbut', 'movt', 'fashy', 'shitmy', 'manifestobook', 'radsanger', 'forgivablei', 'suburan', 'wellgo', 'anddodge', 'accountabilityi', 'twirra', 'femimism', 'hamiltoni', 'selfserve', 'terf', 'constructchapelle', 'tshirt', 'ultrafeminism', 'aboutfeminism', 'evangelilical', 'catholism', 'demiboy', 'leftwe', 'femalefirst', 'aliciain', 'blocklist', 'afghankabul', 'imhothe', 'doocys', 'mfer', 'darkskinne', 'childrenwhich', 'namjoon', 'countryremember', 'happeni', 'antitran', 'antireproductive', 'counterstrategy', 'activismby', 'vatansever', 'guytbh', 'milki', 'fucky', 'bakubussy', 'doorsbut', 'deffo', 'sexualize', 'fansper', 'updatetomorrow', 'peeker', 'maskanyone', 'sumn', 'idrk', 'medicalvery', 'itman', 'homiebut', 'importantyeah', 'homiejust', 'womanit', 'officeryour', 'basiswe', 'chromatica', 'wellbiden', 'sawayama', 'alterlife', 'breebylon', 'russiagate', 'replaygtalicegtbabylongtfree', 'duely', 'acceptedshe', 'coldhope', 'brainfreeze', 'snowchester', 'centurya', 'lightprotector', 'gtgt', 'ltlt', 'bhole', 'fuckery', 'lollll', 'ahahhaha', 'cuntim', 'maskless', 'lolz', 'joffy', 'poubd', 'ranchu', 'ranpo', 'gangbange', 'chuuyas', 'gettinf', 'motherfuker', 'muzzie', 'cumdumpget', 'hotwife', 'strocke', 'allguyshost', 'straighthad', 'cumhole', 'surprisedamp', 'pleasedeven', 'amplight', 'ampbre', 'porngirl', 'disgustingthen', 'gangbanged', 'malemajority', 'womenfrom', 'sexgender', 'sexualgender', 'datingdomestic', 'shethey', 'lessonsyeeehaw', 'zonei', 'agender', 'racegender', 'homophobictransphobic', 'sexualitygender', 'withso', 'nonconforme', 'gendere', 'objectiongender', 'whatadditionally', 'halfclosed', 'unfollowe', 'housemy', 'selfcare', 'paleopartitione', 'philiacs', 'moneydebt', 'changeirrespective', 'simpe', 'mkbl', 'humberman', 'daysim', 'fritolays', 'mahome', 'fariah', 'pppl', 'complaindid', 'therebut', 'hnata', 'truefender', 'themtire', 'congrat', 'kepe', 'keper', 'debutation', 'msut', 'tounge', 'sideand', 'havedoesnt', 'happensno', 'vibesshe', 'bhululu', 'gtfo', 'ikr', 'bahahah', 'wifeshe', 'brownso', 'unte', 'shitstain', 'ohhhhh', 'areif', 'incase', 'groupchat', 'photographerbeomgyu', 'soobinjust', 'rlly', 'rhetorici', 'ngang', 'coffeegrab', 'settlein', 'choor', 'titanfall', 'dudebro', 'workshopper', 'copypaste', 'deffend', 'pplyou', 'youi', 'workschool', 'sickie', 'contagiously', 'creatorsure', 'resultus', 'econmy', 'geopolitic', 'bourgeoiscultural', 'illtreate', 'militaryactually', 'sitin', 'hegemonywhat', 'uswe', 'worldu', 'legutko', 'casterly', 'amadudu', 'historyherstory', 'vawg', 'victoryodd', 'reconnaissante', 'wvstfm', 'vsus', 'wjennifer', 'childrenracial', 'prizewe', 'ownhand', 'hipsher', 'hoseok', 'keibo', 'rapistchris', 'womentekashi', 'fatall', 'alse', 'worrisomehe', 'themand', 'sayit', 'faultwhy', 'stayyou', 'angrywhen', 'angryyoure', 'retweete', 'himbo', 'halfdecency', 'proabuse', 'hahahaha', 'yeswould', 'tweetwoman', 'gronru', 'clossus', 'roommatebroke', 'existthis', 'amogus', 'herei', 'whrs', 'fuckit', 'twtjesus', 'gine', 'girli', 'astrodomina', 'fineass', 'forcely', 'bigte', 'religin', 'problemyour', 'contrarianism', 'immerwahr', 'ideologythe', 'perjorative', 'erens', 'gqp', 'earthso', 'countalway', 'womenkidsbabie', 'kungcono', 'lifethreatening', 'nikkab', 'bodyman', 'kidnapkill', 'babiesit', 'timeand', 'amadour', 'empoweredpink', 'iainhow', 'officerthe', 'heartbreake', 'huskiness', 'dishevel', 'ladness', 'originalthey', 'upcoke', 'wolfwhistle', 'youladie', 'bothermy', 'supportersclientscustomer', 'lioni', 'statusfocus', 'thiccbee', 'oloriburuku', 'jubjub', 'rapedhai', 'guyssome', 'powersplease', 'worldbeside', 'lawand', 'motuary', 'voiceit', 'womani', 'fauxwomanshe', 'etcetctec', 'lalalala', 'husbandprobably', 'infantilise', 'backstabbe', 'doent', 'shorteramp', 'scornedsara', 'ayleen', 'mansplaining', 'mansplaine', 'tooyoure', 'thereive', 'kuppalli', 'cryptocurrency', 'womanim', 'tianlangjun', 'malewife', 'goysplaine', 'whitesplaine', 'prolly', 'mansplain', 'manspreading', 'picsscott', 'stefme', 'manspreade', 'horncastles', 'taehyung', 'nobodys', 'jeonghan', 'ohmylord', 'singleminde', 'bonuswhy', 'leody', 'katulad', 'ibang', 'godgiven', 'captaincyshould', 'earlierneed', 'toorohit', 'attackaudio', 'transmissionremote', 'happyit', 'fastforward', 'moneyedit', 'intersectionalitydo', 'roomdo', 'sirmadame', 'ohoo', 'wetin', 'heartcommunist', 'contentaka', 'masturbateman', 'metanarrative', 'itreade', 'deltarune', 'togethermy', 'boulevardmasterpiece', 'studioera', 'problematise', 'leapableio', 'ownersthere', 'xlet', 'axiomatize', 'farleft', 'fullyarticulated', 'indoeuropean', 'glanzernew', 'glanzer', 'cosmologymetanarrative', 'awashilo', 'gfwife', 'elsecant', 'dresscant', 'thinkreal', 'ridiculousnbc', 'didmost', 'thisif', 'womenthis', 'worldwhen', 'bestie', 'manif', 'lecturesmum', 'mountainsme', 'silencei', 'americansmum', 'silencewell', 'movedme', 'hayi', 'wenu', 'needso', 'souldnt', 'havehad', 'silverstonei', 'worldthe', 'thisblah', 'sleepingnurse', 'asapit', 'availiaple', 'coutesy', 'heartattacksyoursickchildyourfailingkidneyscarcrashvictimsand', 'onbecause', 'anywaysorry', 'plandemic', 'softthen', 'vaccinatedour', 'mednursingscience', 'smtreade', 'notgreat', 'nddegree', 'guaranteedpay', 'yourassignmentsonline', 'classmathchemistrynursinggeographypsychologysociologyresearch', 'paperpsychology', 'duealgebraenglish', 'studycalculusdm', 'nowemail', 'paperswritingprocom', 'usshe', 'republicanrefuse', 'timedont', 'mikemost', 'objectboy', 'boyman', 'giveshare', 'doublefeaturelover', 'betterit', 'oneflir', 'fravordietrichs', 'indopacifica', 'indopacific', 'doesnot', 'rendelshem', 'objectbottom', 'circletriangle', 'hooooly', 'releasecommission', 'gojirostory', 'hijabrefusing', 'barclub', 'sexismobjectification', 'lustwhat', 'sayclick', 'commodifye', 'blither', 'commonersthe', 'oppressedsuch', 'historythe', 'lifeofitsown', 'nsotell', 'dvmb', 'jewss', 'barelkowskikraft', 'okbut', 'parellel', 'patriarchalwhichi', 'rightwe', 'extremistterrorist', 'halfwit', 'liberallyeducate', 'rightsor', 'unproductiveyou', 'oncepatriarchal', 'godback', 'selfloathing', 'whileim', 'selfworth', 'generalwhat', 'teamyou', 'penaltyonce', 'respectman', 'greedremember', 'manthis', 'priviledge', 'oneparty', 'backsame', 'hereone', 'storywhy', 'perspectivemake', 'patriarchys', 'moreonly', 'supremacymediocre', 'patriarchyyoure', 'gendersexual', 'becus', 'womenchildren', 'patriarchyim', 'latinoa', 'anglicise', 'eventthank', 'patriarcal', 'matriarcal', 'jyl', 'yzy', 'patrilocal', 'sjfkkffkgk', 'preenlightenment', 'sovietemplace', 'anybodys', 'polititcs', 'messiahking', 'kingschristianitys', 'clarifyin', 'huntingampgathere', 'bilocalmultilocal', 'samesex', 'acephalous', 'uburu', 'igboeze', 'amasr', 'othersthrough', 'manymost', 'tribessome', 'dinkahe', 'childrenin', 'patrilinealpatrilocal', 'matrilinybut', 'yearsand', 'piespeake', 'worldbuilde', 'avunlocal', 'neolocal', 'complicatedsomeone', 'justdo', 'practiceyes', 'wordthe', 'prepatriarchal', 'bitvh', 'tradie', 'brokeside', 'healthhazard', 'unwashedandsoiled', 'unprocessedfish', 'filthyinside', 'penisenvy', 'sissyuhuru', 'evileye', 'loobat', 'sitpretty', 'emoji', 'stronk', 'yrboi', 'phallocentrism', 'reify', 'sofoulis', 'selfawareness', 'privilegelet', 'hatefuck', 'prvlgd', 'phallocentric', 'selfadmire', 'selfstimulate', 'selfcongratulatory', 'orderphallocentrism', 'askhow', 'rewatche', 'phallogocentrism', 'iterability', 'globalhistorical', 'appropriative', 'autoidentification', 'hiszher', 'autogynephiliait', 'matterid', 'moranbong', 'tansume', 'heterosexualityi', 'yourselfwe', 'whitesupremacistcisnormativepatriarchy', 'otherize', 'racialize', 'jikook', 'uwinguwi', 'kelangan', 'taegi', 'setld', 'firstjungkook', 'taehyungjimin', 'yoongi', 'twelveyear', 'sixteenyear', 'existencean', 'kjvsource', 'canva', 'toattack', 'downandout', 'moreid', 'pndhis', 'caeax', 'rampb', 'altseason', 'bearmarket', 'manehe', 'quemix', 'kehlani', 'lmfaooooo', 'awaytoo', 'youyoure', 'partynextdoor', 'avax', 'othersonly', 'wellall', 'underoverpeeforming', 'groupsit', 'signweare', 'dend', 'enemys', 'mcinne', 'steroide', 'steroidsthere', 'gramsdrie', 'largesize', 'johnleemushr', 'alresdy', 'exotical', 'pregnantbc', 'masseslet', 'doso', 'inmoral', 'aislate', 'idgaf', 'outdate', 'winthrops', 'waitlist', 'antisex', 'grandstandingecstasy', 'sanctomony', 'zunelhakart', 'christmasopinion', 'sfprice', 'chefayo', 'wabt', 'cintebt', 'ambanii', 'itseem', 'moneyrogathem', 'ruind', 'mistakenot', 'pancrea', 'cringy', 'unrape', 'someoneim', 'whoresrape', 'underyou', 'angryit', 'indention', 'repressedthat', 'tlj', 'poeoscar', 'contrastrival', 'kylo', 'inventiondiscoverytechnology', 'creativityreverse', 'selflove', 'timehop', 'castratd', 'homophoberepressed', 'nonoomf', 'selfdefense', 'catsrelated', 'youthe', 'criticsplease', 'liberalconstitutional', 'swiveleyed', 'mustread', 'cinephilesall', 'yallprobably', 'englishlanguage', 'spainisnotademocracy', 'uscuba', 'debaclearchipilago', 'rightsit', 'repressionps', 'folkskirk', 'modeleven', 'affairsif', 'honeyok', 'fogdilemma', 'cognitivedevelopmental', 'pathologise', 'mfw', 'ageold', 'wabout', 'notcorrect', 'womenwoman', 'enby', 'othersharasse', 'tolerateplease', 'acronymnice', 'coolioim', 'mysogynistic', 'fightthank', 'joeand', 'kennedyuse', 'rekieta', 'csrrying', 'shanaia', 'nagtitake', 'pumuna', 'tjforce', 'tjprotect', 'hermain', 'conductasking', 'facultythank', 'selfpleasure', 'forwardlet', 'believersmy', 'becomme', 'hisher', 'bidmc', 'recsreference', 'tday', 'shld', 'murrrphhhur', 'orientationetc', 'treatedseen', 'tfumy', 'wtweet', 'lookingacte', 'fempresente', 'gendersexuality', 'opinionfree', 'reallywho', 'spitballe', 'tevinter', 'halward', 'brainnervous', 'intersexuality', 'amusedi', 'romanticpersonal', 'taecthey', 'pavard', 'yessssss', 'badtween', 'shirti', 'radness', 'belate', 'ukgh', 'diztortion', 'theall', 'alist', 'skankproving', 'dropoutjust', 'dropoutremember', 'dumboh', 'ironyshe', 'dumbass', 'deprogramme', 'desomethe', 'obvs', 'hoursmeanwhile', 'votewhy', 'masqurading', 'yearsthere', 'lyingjust', 'sandle', 'brazy', 'smartnews', 'tiktok', 'dunsparce', 'closeruhh', 'professionaly', 'slapslapkiss', 'stupidknee', 'lmaoocmon', 'whoohahaha', 'kneeslapper', 'slapperwith', 'onea', 'wgtn', 'glennyoungkin', 'donaldjtrump', 'racisttired', 'prostitutionwow', 'iswhat', 'hilte', 'submissiv', 'montain', 'yooooooo', 'mmyyyyit', 'slutthank', 'radabot', 'stockholme', 'dhagne', 'poorlyburie', 'slutbag', 'finelytune', 'akdhajhdajjahshh', 'pantie', 'powerwash', 'goone', 'youlink', 'findomgoddess', 'femdom', 'sissyslave', 'subserve', 'cashmeet', 'chaturbate', 'afterpay', 'adorama', 'chatteringclass', 'ocde', 'selfdeclare', 'illnessesviruse', 'conditionsvirusesdisease', 'antifa', 'roomtemperature', 'gfy', 'lefthole', 'shitsodomize', 'mohamme', 'thighfcker', 'dosent', 'himinch', 'domesticthe', 'usesusedhas', 'ducttape', 'passanger', 'rhave', 'beenwould', 'pomlzka', 'wtfgarrett', 'amrylin', 'likewhat', 'recordsseriously', 'partnerbut', 'receivesi', 'womanwoman', 'spankedeven', 'rightspanke', 'racismantiblack', 'deadass', 'slenders', 'placemeryl', 'cosetta', 'pajeet', 'playand', 'nutjob', 'thisnot', 'foebut', 'mostspare', 'intwrvewer', 'questuon', 'premure', 'completly', 'capethe', 'sickwe', 'hilig', 'cranewomen', 'everywherestreame', 'essentiali', 'selfloveget', 'bundlegt', 'againand', 'timeif', 'depency', 'shedde', 'xrp', 'xrps', 'immediatelyinnate', 'sarscov', 'rudywrongbenito', 'fascistsfascism', 'farright', 'womendont', 'brnovich', 'scotu', 'loooose', 'pmcome', 'incountry', 'brotopia', 'thiswhich', 'powerthe', 'alotta', 'lunaria', 'rapeeducation', 'knowtransparency', 'giratina', 'taehyun', 'cysm', 'toyou', 'ouijia', 'gazeim', 'meltingkai', 'akaabireen', 'akaabir', 'amaal', 'mamoolaat', 'outsidemoulana', 'maseehullah', 'rahmatullahi', 'alaih', 'fuckingg', 'cutethen', 'gasthe', 'greatful', 'rapperradio', 'enuh', 'childif', 'flannelget', 'titsit', 'whop', 'gtadd', 'innuendosthe', 'catfishe', 'sophiedeelive', 'eyecatche', 'priyas', 'provoker', 'tlife', 'lmaoooooooo', 'swic', 'jjs', 'othersession', 'gullibleespecially', 'unfollowed', 'pictwitt', 'groundmeanwhile', 'nsfw', 'melowkey', 'omw', 'moneyyy', 'arenobody', 'squirter', 'whitetrash', 'convo', 'yeezys', 'thisno', 'smileand', 'wft', 'underpant', 'danimation', 'aliexpressmen', 'ubulge', 'newpriceoriginal', 'pricepurchase', 'alreadyeither', 'rightsdem', 'rightsthis', 'teaor', 'underpantsi', 'bellingcat', 'underpantshave', 'liiiife', 'opinioncool', 'wanti', 'trynna', 'leadershow', 'prometheusstyle', 'nothingthey', 'ityou', 'chocker', 'sxy', 'pntie', 'windsa', 'diapere', 'mmaybe', 'ochako', 'muttersnonsense', 'mmaaaster', 'aboveincluding', 'dancingplugge', 'nfls', 'gezz', 'wantedher', 'cardshell', 'waaaafraud', 'sighyes', 'anyhoo', 'discussgood', 'himfirst', 'novakn', 'servethey', 'dvmbse', 'mikaelsoni', 'birthwhat', 'nonvulnerable', 'lessskille', 'toothat', 'worthlessand', 'thatremind', 'funfetti', 'shithole', 'backtoschool', 'planesjust', 'governmentbut', 'reallymanchinsenicacutte', 'shredsu', 'swinebc', 'impeachedamp', 'onlyfan', 'tlink', 'middleage', 'sinsherni', 'tejasswi', 'isnti', 'womanoh', 'ppvs', 'youthis', 'womangay', 'morefree', 'referree', 'sisterscene', 'motherdaughter', 'ltcasiajonnacomgt', 'wrotepp', 'ghisipiti', 'antiblackness', 'antiwomanism', 'vellem', 'pisce', 'extroverte', 'lkhrin', 'surtout', 'lordre', 'koulchi', 'aytl', 'friendsbridesmaid', 'watchinglittle', 'dooooo', 'shockingrefuse', 'standardmy', 'transfem', 'transness', 'transmasc', 'talibanwhere', 'pardaah', 'librel', 'pple', 'establiish', 'tiddie', 'worldwidei', 'ampsome', 'ampi', 'kidsi', 'gruele', 'femoid', 'developmentbut', 'manipulativethere', 'lawswoman', 'problemdo', 'understandi', 'ndumba', 'conceptslavery', 'ballsthat', 'siyas', 'salesconsumer', 'bayfuna', 'yonke', 'arou', 'saydo', 'applicationbut', 'daddys', 'scamme', 'hazviite', 'sistermother', 'adorime', 'clit', 'pornhub', 'arely', 'lopezguzmn', 'cardena', 'thise', 'deportedthey', 'antivaxxer', 'foilage', 'weejuns', 'allmale', 'lmaoit', 'underwhelme', 'alertlapd', 'pussyfirst', 'uploadedwoman', 'rwby', 'vaccinationare', 'fatphobic', 'partshow', 'wfwlct', 'colourway', 'dwidth', 'womenserve', 'onethey', 'shmeat', 'necklacealike', 'mtgs', 'backwood', 'lmaooooooo', 'becloud', 'straigh', 'privilegehave', 'doself', 'impend', 'bioas', 'joinyoull', 'handemiyy', 'overexaggerate', 'ispeople', 'bowcaster', 'rapeid', 'probirth', 'ruggerios', 'anonymou', 'mezee', 'ckthe', 'dababy', 'cleverstop', 'mpeleke', 'clownno', 'exhaustedsophia', 'itsophia', 'clownloki', 'prostitutei', 'blesssame', 'lolafter', 'playerjust', 'lifei', 'lowso', 'amazingyou', 'shiiit', 'lmaooooo', 'whoreno', 'egotistically', 'aocby', 'pricewhat', 'whorethank', 'whorewould', 'pleasantbecause', 'drachen', 'estinen', 'readyim', 'mirroryou']\n"
     ]
    }
   ],
   "source": [
    "# Build the Embedding Matrix\n",
    "embedding_dim = 100\n",
    "vocab_size = len(word2idx)\n",
    "print('vocab_size',vocab_size)\n",
    "embedding_matrix = np.zeros((vocab_size, embedding_dim))\n",
    "oov_list=[]\n",
    "\n",
    "for word, idx in word2idx.items():\n",
    "    if word in embeddings_index:\n",
    "        embedding_matrix[idx] = embeddings_index[word]\n",
    "    else:\n",
    "        embedding_matrix[idx] = np.random.normal(scale=0.6, size=(embedding_dim,))\n",
    "        oov_list.append(word)\n",
    "print(len(oov_list),oov_list)"
   ]
  },
  {
   "cell_type": "code",
   "execution_count": 7,
   "metadata": {},
   "outputs": [],
   "source": [
    "# Replace missing words in test/val with [UNK]\n",
    "def encode_tweet(tweet, word2idx):\n",
    "    return [word2idx.get(word, word2idx['<UNK>']) for word in tweet.split()]\n",
    "\n",
    "# Apply to datasets\n",
    "X_train = df_train_processed['tweet'].apply(lambda x: encode_tweet(x, word2idx)).tolist()\n",
    "X_val = df_val_processed['tweet'].apply(lambda x: encode_tweet(x, word2idx)).tolist()\n",
    "X_test = df_test_processed['tweet'].apply(lambda x: encode_tweet(x, word2idx)).tolist()"
   ]
  },
  {
   "cell_type": "code",
   "execution_count": 8,
   "metadata": {},
   "outputs": [],
   "source": [
    "# # 1. Check word2idx\n",
    "# print('<PAD>' in word2idx)\n",
    "# print('<UNK>' in word2idx)\n",
    "# print(len(word2idx))\n",
    "\n",
    "# # 2. Check embedding_matrix\n",
    "# print(embedding_matrix.shape)\n",
    "# print(embedding_matrix[0])  # PAD vector\n",
    "# print(embedding_matrix[1])  # UNK vector\n",
    "\n",
    "# # 3. Check tweet encodings\n",
    "# print(X_train[0])\n",
    "# print(type(X_train[0][0]))\n",
    "\n",
    "# # 4. Check OOV mapping\n",
    "# print(encode_tweet(\"qwertyasdf unknownword sexism\", word2idx))\n",
    "# print(word2idx['<UNK>'])\n"
   ]
  },
  {
   "cell_type": "markdown",
   "metadata": {
    "id": "6JLnuLGHGAUT"
   },
   "source": [
    "# [Task 4 - 1.0 points] Model definition\n",
    "\n",
    "You are now tasked to define your sexism classifier.\n",
    "\n",
    "\n"
   ]
  },
  {
   "cell_type": "markdown",
   "metadata": {
    "id": "iQFI9J-JOfXD"
   },
   "source": [
    "### Instructions\n",
    "\n",
    "* **Baseline**: implement a Bidirectional LSTM with a Dense layer on top.\n",
    "* You are **free** to experiment with hyper-parameters to define the baseline model.\n",
    "\n",
    "* **Model 1**: add an additional LSTM layer to the Baseline model."
   ]
  },
  {
   "cell_type": "markdown",
   "metadata": {},
   "source": [
    "!!! define random majority base lines to understand how deficcult the task is and how much is the difference of my model and random majority simple base line we can compare with"
   ]
  },
  {
   "cell_type": "markdown",
   "metadata": {
    "id": "4jALc_qYGS2E"
   },
   "source": [
    "### Token to embedding mapping\n",
    "\n",
    "You can follow two approaches for encoding tokens in your classifier.\n",
    "\n",
    "### Work directly with embeddings\n",
    "\n",
    "- Compute the embedding of each input token\n",
    "- Feed the mini-batches of shape (batch_size, # tokens, embedding_dim) to your model\n",
    "\n",
    "### Work with Embedding layer\n",
    "\n",
    "- Encode input tokens to token ids\n",
    "- Define a Embedding layer as the first layer of your model\n",
    "- Compute the embedding matrix of all known tokens (i.e., tokens in your vocabulary)\n",
    "- Initialize the Embedding layer with the computed embedding matrix\n",
    "- You are **free** to set the Embedding layer trainable or not"
   ]
  },
  {
   "cell_type": "code",
   "execution_count": null,
   "metadata": {},
   "outputs": [
    {
     "data": {
      "text/html": [
       "<pre style=\"white-space:pre;overflow-x:auto;line-height:normal;font-family:Menlo,'DejaVu Sans Mono',consolas,'Courier New',monospace\"><span style=\"font-weight: bold\">Model: \"sequential_1\"</span>\n",
       "</pre>\n"
      ],
      "text/plain": [
       "\u001b[1mModel: \"sequential_1\"\u001b[0m\n"
      ]
     },
     "metadata": {},
     "output_type": "display_data"
    },
    {
     "data": {
      "text/html": [
       "<pre style=\"white-space:pre;overflow-x:auto;line-height:normal;font-family:Menlo,'DejaVu Sans Mono',consolas,'Courier New',monospace\">┏━━━━━━━━━━━━━━━━━━━━━━━━━━━━━━━━━┳━━━━━━━━━━━━━━━━━━━━━━━━┳━━━━━━━━━━━━━━━┓\n",
       "┃<span style=\"font-weight: bold\"> Layer (type)                    </span>┃<span style=\"font-weight: bold\"> Output Shape           </span>┃<span style=\"font-weight: bold\">       Param # </span>┃\n",
       "┡━━━━━━━━━━━━━━━━━━━━━━━━━━━━━━━━━╇━━━━━━━━━━━━━━━━━━━━━━━━╇━━━━━━━━━━━━━━━┩\n",
       "│ encoder_embedding (<span style=\"color: #0087ff; text-decoration-color: #0087ff\">Embedding</span>)   │ ?                      │       <span style=\"color: #00af00; text-decoration-color: #00af00\">936,300</span> │\n",
       "├─────────────────────────────────┼────────────────────────┼───────────────┤\n",
       "│ bidirectional_1 (<span style=\"color: #0087ff; text-decoration-color: #0087ff\">Bidirectional</span>) │ ?                      │   <span style=\"color: #00af00; text-decoration-color: #00af00\">0</span> (unbuilt) │\n",
       "├─────────────────────────────────┼────────────────────────┼───────────────┤\n",
       "│ dense_1 (<span style=\"color: #0087ff; text-decoration-color: #0087ff\">Dense</span>)                 │ ?                      │   <span style=\"color: #00af00; text-decoration-color: #00af00\">0</span> (unbuilt) │\n",
       "└─────────────────────────────────┴────────────────────────┴───────────────┘\n",
       "</pre>\n"
      ],
      "text/plain": [
       "┏━━━━━━━━━━━━━━━━━━━━━━━━━━━━━━━━━┳━━━━━━━━━━━━━━━━━━━━━━━━┳━━━━━━━━━━━━━━━┓\n",
       "┃\u001b[1m \u001b[0m\u001b[1mLayer (type)                   \u001b[0m\u001b[1m \u001b[0m┃\u001b[1m \u001b[0m\u001b[1mOutput Shape          \u001b[0m\u001b[1m \u001b[0m┃\u001b[1m \u001b[0m\u001b[1m      Param #\u001b[0m\u001b[1m \u001b[0m┃\n",
       "┡━━━━━━━━━━━━━━━━━━━━━━━━━━━━━━━━━╇━━━━━━━━━━━━━━━━━━━━━━━━╇━━━━━━━━━━━━━━━┩\n",
       "│ encoder_embedding (\u001b[38;5;33mEmbedding\u001b[0m)   │ ?                      │       \u001b[38;5;34m936,300\u001b[0m │\n",
       "├─────────────────────────────────┼────────────────────────┼───────────────┤\n",
       "│ bidirectional_1 (\u001b[38;5;33mBidirectional\u001b[0m) │ ?                      │   \u001b[38;5;34m0\u001b[0m (unbuilt) │\n",
       "├─────────────────────────────────┼────────────────────────┼───────────────┤\n",
       "│ dense_1 (\u001b[38;5;33mDense\u001b[0m)                 │ ?                      │   \u001b[38;5;34m0\u001b[0m (unbuilt) │\n",
       "└─────────────────────────────────┴────────────────────────┴───────────────┘\n"
      ]
     },
     "metadata": {},
     "output_type": "display_data"
    },
    {
     "data": {
      "text/html": [
       "<pre style=\"white-space:pre;overflow-x:auto;line-height:normal;font-family:Menlo,'DejaVu Sans Mono',consolas,'Courier New',monospace\"><span style=\"font-weight: bold\"> Total params: </span><span style=\"color: #00af00; text-decoration-color: #00af00\">936,300</span> (3.57 MB)\n",
       "</pre>\n"
      ],
      "text/plain": [
       "\u001b[1m Total params: \u001b[0m\u001b[38;5;34m936,300\u001b[0m (3.57 MB)\n"
      ]
     },
     "metadata": {},
     "output_type": "display_data"
    },
    {
     "data": {
      "text/html": [
       "<pre style=\"white-space:pre;overflow-x:auto;line-height:normal;font-family:Menlo,'DejaVu Sans Mono',consolas,'Courier New',monospace\"><span style=\"font-weight: bold\"> Trainable params: </span><span style=\"color: #00af00; text-decoration-color: #00af00\">936,300</span> (3.57 MB)\n",
       "</pre>\n"
      ],
      "text/plain": [
       "\u001b[1m Trainable params: \u001b[0m\u001b[38;5;34m936,300\u001b[0m (3.57 MB)\n"
      ]
     },
     "metadata": {},
     "output_type": "display_data"
    },
    {
     "data": {
      "text/html": [
       "<pre style=\"white-space:pre;overflow-x:auto;line-height:normal;font-family:Menlo,'DejaVu Sans Mono',consolas,'Courier New',monospace\"><span style=\"font-weight: bold\"> Non-trainable params: </span><span style=\"color: #00af00; text-decoration-color: #00af00\">0</span> (0.00 B)\n",
       "</pre>\n"
      ],
      "text/plain": [
       "\u001b[1m Non-trainable params: \u001b[0m\u001b[38;5;34m0\u001b[0m (0.00 B)\n"
      ]
     },
     "metadata": {},
     "output_type": "display_data"
    },
    {
     "name": "stdout",
     "output_type": "stream",
     "text": [
      "Epoch 1/10\n",
      "\u001b[1m90/90\u001b[0m \u001b[32m━━━━━━━━━━━━━━━━━━━━\u001b[0m\u001b[37m\u001b[0m \u001b[1m4s\u001b[0m 27ms/step - accuracy: 0.6073 - loss: 0.6504 - val_accuracy: 0.7468 - val_loss: 0.5291\n",
      "Epoch 2/10\n",
      "\u001b[1m90/90\u001b[0m \u001b[32m━━━━━━━━━━━━━━━━━━━━\u001b[0m\u001b[37m\u001b[0m \u001b[1m4s\u001b[0m 42ms/step - accuracy: 0.7647 - loss: 0.4864 - val_accuracy: 0.7595 - val_loss: 0.5107\n",
      "Epoch 3/10\n",
      "\u001b[1m90/90\u001b[0m \u001b[32m━━━━━━━━━━━━━━━━━━━━\u001b[0m\u001b[37m\u001b[0m \u001b[1m4s\u001b[0m 43ms/step - accuracy: 0.8338 - loss: 0.3838 - val_accuracy: 0.8101 - val_loss: 0.4106\n",
      "Epoch 4/10\n",
      "\u001b[1m90/90\u001b[0m \u001b[32m━━━━━━━━━━━━━━━━━━━━\u001b[0m\u001b[37m\u001b[0m \u001b[1m4s\u001b[0m 42ms/step - accuracy: 0.8918 - loss: 0.2745 - val_accuracy: 0.8038 - val_loss: 0.4142\n",
      "Epoch 5/10\n",
      "\u001b[1m90/90\u001b[0m \u001b[32m━━━━━━━━━━━━━━━━━━━━\u001b[0m\u001b[37m\u001b[0m \u001b[1m4s\u001b[0m 42ms/step - accuracy: 0.9377 - loss: 0.1783 - val_accuracy: 0.7911 - val_loss: 0.4660\n",
      "Epoch 6/10\n",
      "\u001b[1m90/90\u001b[0m \u001b[32m━━━━━━━━━━━━━━━━━━━━\u001b[0m\u001b[37m\u001b[0m \u001b[1m4s\u001b[0m 43ms/step - accuracy: 0.9654 - loss: 0.1013 - val_accuracy: 0.7595 - val_loss: 0.5855\n",
      "Epoch 7/10\n",
      "\u001b[1m90/90\u001b[0m \u001b[32m━━━━━━━━━━━━━━━━━━━━\u001b[0m\u001b[37m\u001b[0m \u001b[1m4s\u001b[0m 43ms/step - accuracy: 0.9629 - loss: 0.1011 - val_accuracy: 0.7722 - val_loss: 0.7235\n",
      "Epoch 8/10\n",
      "\u001b[1m90/90\u001b[0m \u001b[32m━━━━━━━━━━━━━━━━━━━━\u001b[0m\u001b[37m\u001b[0m \u001b[1m4s\u001b[0m 43ms/step - accuracy: 0.9875 - loss: 0.0388 - val_accuracy: 0.7405 - val_loss: 0.8138\n",
      "Epoch 9/10\n",
      "\u001b[1m90/90\u001b[0m \u001b[32m━━━━━━━━━━━━━━━━━━━━\u001b[0m\u001b[37m\u001b[0m \u001b[1m4s\u001b[0m 42ms/step - accuracy: 0.9962 - loss: 0.0223 - val_accuracy: 0.7595 - val_loss: 0.8349\n",
      "Epoch 10/10\n",
      "\u001b[1m90/90\u001b[0m \u001b[32m━━━━━━━━━━━━━━━━━━━━\u001b[0m\u001b[37m\u001b[0m \u001b[1m4s\u001b[0m 43ms/step - accuracy: 0.9985 - loss: 0.0075 - val_accuracy: 0.7785 - val_loss: 0.8471\n"
     ]
    }
   ],
   "source": [
    "# Pad the tweets to have same length\n",
    "X_train_padded = pad_sequences(X_train, padding='post')\n",
    "X_val_padded = pad_sequences(X_val, padding='post')\n",
    "X_test_padded = pad_sequences(X_test, padding='post')\n",
    "\n",
    "# Prepare labels (make sure labels are numpy arrays of 0s and 1s)\n",
    "y_train = df_train_processed['hard_label_task1'].astype(int).values\n",
    "y_val = df_val_processed['hard_label_task1'].astype(int).values\n",
    "y_test = df_test_processed['hard_label_task1'].astype(int).values\n",
    "\n",
    "# Building the model architecture\n",
    "baseline_model = Sequential() # Build the Baseline Model to stack layers one-by-one\n",
    "baseline_model.add(Embedding(input_dim=len(word2idx), output_dim=embedding_dim, weights=[embedding_matrix], mask_zero=True, trainable=True, name=\"encoder_embedding\")) # Embedding layer\n",
    "baseline_model.add(Bidirectional(LSTM(64))) # Bidirectional LSTM layer\n",
    "baseline_model.add(Dense(1, activation='sigmoid')) # Dense output layer\n",
    "\n",
    "# Compile the Model\n",
    "baseline_model.compile(\n",
    "    loss='binary_crossentropy',\n",
    "    optimizer='adam',\n",
    "    metrics=['accuracy']\n",
    ")\n",
    "\n",
    "# Show model summary\n",
    "baseline_model.summary()\n",
    "\n",
    "# Train the Model\n",
    "history = baseline_model.fit(\n",
    "    X_train_padded,\n",
    "    y_train,\n",
    "    validation_data=(X_val_padded, y_val),\n",
    "    epochs=10,                 \n",
    "    batch_size=32,            \n",
    "    verbose=1\n",
    ")"
   ]
  },
  {
   "cell_type": "code",
   "execution_count": 10,
   "metadata": {
    "id": "Z44PckrNGfTv"
   },
   "outputs": [],
   "source": [
    "# embedding = tf.keras.layers.Embedding(input_dim=vocab_size,\n",
    "#                                       output_dim=100,\n",
    "#                                       weights=[embedding_matrix],\n",
    "#                                       mask_zero=True,                   # automatically masks padding tokens\n",
    "#                                       name='encoder_embedding')"
   ]
  },
  {
   "cell_type": "markdown",
   "metadata": {},
   "source": [
    "!!! Free to use keras, pytorch or whaterver we want  "
   ]
  },
  {
   "cell_type": "markdown",
   "metadata": {
    "id": "GEQTPu6eGgGv"
   },
   "source": [
    "### Padding\n",
    "\n",
    "Pay attention to padding tokens!\n",
    "\n",
    "Your model **should not** be penalized on those tokens.\n",
    "\n",
    "#### How to?\n",
    "\n",
    "There are two main ways.\n",
    "\n",
    "However, their implementation depends on the neural library you are using.\n",
    "\n",
    "- Embedding layer\n",
    "- Custom loss to compute average cross-entropy on non-padding tokens only\n",
    "\n",
    "**Note**: This is a **recommendation**, but we **do not penalize** for missing workarounds."
   ]
  },
  {
   "cell_type": "markdown",
   "metadata": {
    "id": "EFjBgdiRG3wD"
   },
   "source": [
    "# [Task 5 - 1.0 points] Training and Evaluation\n",
    "\n",
    "You are now tasked to train and evaluate the Baseline and Model 1.\n"
   ]
  },
  {
   "cell_type": "markdown",
   "metadata": {
    "id": "TWPK4umGOjtT"
   },
   "source": [
    "\n",
    "### Instructions\n",
    "\n",
    "* Train **all** models on the train set.\n",
    "* Evaluate **all** models on the validation set.\n",
    "* Compute metrics on the validation set.\n",
    "* Pick **at least** three seeds for robust estimation.\n",
    "* Pick the **best** performing model according to the observed validation set performance.\n",
    "* Evaluate your models using macro F1-score."
   ]
  },
  {
   "cell_type": "markdown",
   "metadata": {
    "id": "CSy9sPwYHUoD"
   },
   "source": [
    "# [Task 6 - 1.0 points] Transformers\n",
    "\n",
    "In this section, you will use a transformer model specifically trained for hate speech detection, namely [Twitter-roBERTa-base for Hate Speech Detection](https://huggingface.co/cardiffnlp/twitter-roberta-base-hate).\n",
    "\n",
    "\n"
   ]
  },
  {
   "cell_type": "markdown",
   "metadata": {
    "collapsed": false
   },
   "source": [
    "### Relevant Material\n",
    "- Tutorial 3"
   ]
  },
  {
   "cell_type": "markdown",
   "metadata": {
    "collapsed": false
   },
   "source": [
    "### Instructions\n",
    "1. **Load the Tokenizer and Model**\n",
    "\n",
    "2. **Preprocess the Dataset**:\n",
    "   You will need to preprocess your dataset to prepare it for input into the model. Tokenize your text data using the appropriate tokenizer and ensure it is formatted correctly.\n",
    "\n",
    "   **Note**: You have to use the plain text of the dataset and not the version that you tokenized before, as you need to tokenize the cleaned text obtained after the initial cleaning process.\n",
    "\n",
    "3. **Train the Model**:\n",
    "   Use the `Trainer` to train the model on your training data.\n",
    "\n",
    "4. **Evaluate the Model on the Test Set** using F1-macro."
   ]
  },
  {
   "cell_type": "markdown",
   "metadata": {
    "id": "3gtiG2mAL3HM"
   },
   "source": [
    "# [Task 7 - 0.5 points] Error Analysis\n",
    "\n",
    "### Instructions\n",
    "\n",
    "After evaluating the model, perform a brief error analysis:\n",
    "\n",
    " - Review the results and identify common errors.\n",
    "\n",
    " - Summarize your findings regarding the errors and their impact on performance (e.g. but not limited to Out-of-Vocabulary (OOV) words, data imbalance, and performance differences between the custom model and the transformer...)\n",
    " - Suggest possible solutions to address the identified errors.\n",
    "\n"
   ]
  },
  {
   "cell_type": "markdown",
   "metadata": {
    "id": "P42XYjb6K3k5"
   },
   "source": [
    "# [Task 8 - 0.5 points] Report\n",
    "\n",
    "Wrap up your experiment in a short report (up to 2 pages)."
   ]
  },
  {
   "cell_type": "markdown",
   "metadata": {},
   "source": [
    "!!! use the nlp course report template - respect the lenght - dont have things that they can see in the notebook"
   ]
  },
  {
   "cell_type": "markdown",
   "metadata": {
    "id": "N9oXSaW1K5S7"
   },
   "source": [
    "### Instructions\n",
    "\n",
    "* Use the NLP course report template.\n",
    "* Summarize each task in the report following the provided template."
   ]
  },
  {
   "cell_type": "markdown",
   "metadata": {
    "id": "MHw2L6PlLDyE"
   },
   "source": [
    "### Recommendations\n",
    "\n",
    "The report is not a copy-paste of graphs, tables, and command outputs.\n",
    "\n",
    "* Summarize classification performance in Table format.\n",
    "* **Do not** report command outputs or screenshots.\n",
    "* Report learning curves in Figure format.\n",
    "* The error analysis section should summarize your findings.\n"
   ]
  },
  {
   "cell_type": "markdown",
   "metadata": {
    "id": "bMUqh1utLflM"
   },
   "source": [
    "# Submission\n",
    "\n",
    "* **Submit** your report in PDF format.\n",
    "* **Submit** your python notebook.\n",
    "* Make sure your notebook is **well organized**, with no temporary code, commented sections, tests, etc...\n",
    "* You can upload **model weights** in a cloud repository and report the link in the report."
   ]
  },
  {
   "cell_type": "markdown",
   "metadata": {
    "id": "ypagJed7LheY"
   },
   "source": [
    "# FAQ\n",
    "\n",
    "Please check this frequently asked questions before contacting us"
   ]
  },
  {
   "cell_type": "markdown",
   "metadata": {
    "id": "bgtFwKXMLjww"
   },
   "source": [
    "### Execution Order\n",
    "\n",
    "You are **free** to address tasks in any order (if multiple orderings are available)."
   ]
  },
  {
   "cell_type": "markdown",
   "metadata": {
    "id": "_BjMk5e_M4n7"
   },
   "source": [
    "### Trainable Embeddings\n",
    "\n",
    "You are **free** to define a trainable or non-trainable Embedding layer to load the GloVe embeddings."
   ]
  },
  {
   "cell_type": "markdown",
   "metadata": {
    "id": "e8TVgpYlM6s5"
   },
   "source": [
    "### Model architecture\n",
    "\n",
    "You **should not** change the architecture of a model (i.e., its layers).\n",
    "However, you are **free** to play with their hyper-parameters.\n"
   ]
  },
  {
   "cell_type": "markdown",
   "metadata": {
    "id": "Ia6IapI1M_A7"
   },
   "source": [
    "### Neural Libraries\n",
    "\n",
    "You are **free** to use any library of your choice to implement the networks (e.g., Keras, Tensorflow, PyTorch, JAX, etc...)"
   ]
  },
  {
   "cell_type": "markdown",
   "metadata": {
    "id": "bWDaW8DyNBu5"
   },
   "source": [
    "### Keras TimeDistributed Dense layer\n",
    "\n",
    "If you are using Keras, we recommend wrapping the final Dense layer with `TimeDistributed`."
   ]
  },
  {
   "cell_type": "markdown",
   "metadata": {
    "id": "R1WcrpemNEQm"
   },
   "source": [
    "### Robust Evaluation\n",
    "\n",
    "Each model is trained with at least 3 random seeds.\n",
    "\n",
    "Task 4 requires you to compute the average performance over the 3 seeds and its corresponding standard deviation."
   ]
  },
  {
   "cell_type": "markdown",
   "metadata": {
    "id": "_mVe5dqzNI_u"
   },
   "source": [
    "### Model Selection for Analysis\n",
    "\n",
    "To carry out the error analysis you are **free** to either\n",
    "\n",
    "* Pick examples or perform comparisons with an individual seed run model (e.g., Baseline seed 1337)\n",
    "* Perform ensembling via, for instance, majority voting to obtain a single model."
   ]
  },
  {
   "cell_type": "markdown",
   "metadata": {
    "id": "L8a4pDKSNKzI"
   },
   "source": [
    "### Error Analysis\n",
    "\n",
    "Some topics for discussion include:\n",
    "   * Precision/Recall curves.\n",
    "   * Confusion matrices.\n",
    "   * Specific misclassified samples."
   ]
  },
  {
   "cell_type": "markdown",
   "metadata": {
    "collapsed": false
   },
   "source": [
    "### Bonus Points\n",
    "Bonus points are arbitrarily assigned based on significant contributions such as:\n",
    "- Outstanding error analysis\n",
    "- Masterclass code organization\n",
    "- Suitable extensions\n",
    "Note that bonus points are only assigned if all task points are attributed (i.e., 6/6).\n",
    "\n",
    "**Possible Extensions/Explorations for Bonus Points:**\n",
    "- **Try other preprocessing strategies**: e.g., but not limited to, explore techniques tailored specifically for tweets or  methods that are common in social media text.\n",
    "- **Experiment with other custom architectures or models from HuggingFace**\n",
    "- **Explore Spanish tweets**: e.g., but not limited to, leverage multilingual models to process Spanish tweets and assess their performance compared to monolingual models.\n",
    "\n"
   ]
  },
  {
   "cell_type": "markdown",
   "metadata": {
    "id": "8xmMKE7vLu-y"
   },
   "source": [
    "\n",
    "\n",
    "\n",
    "\n",
    "# The End"
   ]
  }
 ],
 "metadata": {
  "accelerator": "GPU",
  "colab": {
   "authorship_tag": "ABX9TyOrxI+uaofLerXT9gw1DmbE",
   "gpuType": "T4",
   "provenance": [],
   "toc_visible": true
  },
  "kernelspec": {
   "display_name": "base",
   "language": "python",
   "name": "python3"
  },
  "language_info": {
   "codemirror_mode": {
    "name": "ipython",
    "version": 3
   },
   "file_extension": ".py",
   "mimetype": "text/x-python",
   "name": "python",
   "nbconvert_exporter": "python",
   "pygments_lexer": "ipython3",
   "version": "3.12.8"
  }
 },
 "nbformat": 4,
 "nbformat_minor": 0
}
